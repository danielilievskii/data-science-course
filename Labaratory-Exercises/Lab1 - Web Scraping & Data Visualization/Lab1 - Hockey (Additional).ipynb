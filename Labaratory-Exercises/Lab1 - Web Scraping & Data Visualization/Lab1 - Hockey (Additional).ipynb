{
 "nbformat": 4,
 "nbformat_minor": 0,
 "metadata": {
  "colab": {
   "provenance": []
  },
  "kernelspec": {
   "name": "python3",
   "display_name": "Python 3 (ipykernel)",
   "language": "python"
  },
  "language_info": {
   "name": "python"
  }
 },
 "cells": [
  {
   "cell_type": "markdown",
   "source": [
    "# Requirements"
   ],
   "metadata": {
    "id": "IG0xXF7T0x2h"
   }
  },
  {
   "cell_type": "code",
   "source": [
    "from matplotlib import pyplot as plt\n",
    "from selenium import webdriver\n",
    "from selenium.webdriver.common.by import By\n",
    "import pandas as pd"
   ],
   "metadata": {
    "id": "k75Qsxvc0zzZ",
    "ExecuteTime": {
     "end_time": "2024-10-31T17:25:53.520373Z",
     "start_time": "2024-10-31T17:25:53.352273Z"
    }
   },
   "outputs": [],
   "execution_count": 1
  },
  {
   "cell_type": "markdown",
   "source": [
    "# Configuration"
   ],
   "metadata": {
    "id": "OqXF3IZU00_g"
   }
  },
  {
   "cell_type": "code",
   "source": [
    "options = webdriver.ChromeOptions()\n",
    "options.add_argument('--headless')\n",
    "options.add_argument('--no-sandbox')\n",
    "options.add_argument('--disable-dev-shm-usage')"
   ],
   "metadata": {
    "id": "2MLM03DJ02TK",
    "ExecuteTime": {
     "end_time": "2024-10-31T17:25:54.909860Z",
     "start_time": "2024-10-31T17:25:54.900749Z"
    }
   },
   "outputs": [],
   "execution_count": 2
  },
  {
   "cell_type": "markdown",
   "source": [
    "# Simple Usage"
   ],
   "metadata": {
    "id": "vhsS7FZU03uf"
   }
  },
  {
   "cell_type": "code",
   "source": [
    "# Initialize the webdriver.\n",
    "browser = webdriver.Chrome(options=options)"
   ],
   "metadata": {
    "id": "XAR-vEvw03hB",
    "ExecuteTime": {
     "end_time": "2024-10-31T17:25:59.714019Z",
     "start_time": "2024-10-31T17:25:57.638421Z"
    }
   },
   "outputs": [],
   "execution_count": 3
  },
  {
   "cell_type": "code",
   "source": [
    "# Navigate to a web page.\n",
    "browser.get('https://www.apple.com/mk/')"
   ],
   "metadata": {
    "id": "SRlMjKmz05uN",
    "ExecuteTime": {
     "end_time": "2024-10-31T17:26:05.571178Z",
     "start_time": "2024-10-31T17:26:03.492650Z"
    }
   },
   "outputs": [],
   "execution_count": 4
  },
  {
   "cell_type": "code",
   "source": [
    "# Print the page source code.\n",
    "print(browser.page_source)"
   ],
   "metadata": {
    "id": "XENkqBtc07ql"
   },
   "execution_count": null,
   "outputs": []
  },
  {
   "cell_type": "code",
   "source": [
    "# Select an element from the page.\n",
    "element = browser.find_element(By.CLASS_NAME, 'headline')"
   ],
   "metadata": {
    "id": "j2IK2Ka408sg",
    "ExecuteTime": {
     "end_time": "2024-10-31T17:26:13.387997Z",
     "start_time": "2024-10-31T17:26:13.328035Z"
    }
   },
   "outputs": [],
   "execution_count": 5
  },
  {
   "cell_type": "code",
   "source": [
    "# Print the element's innner text.\n",
    "print(element.text)"
   ],
   "metadata": {
    "id": "ErxN591d09ul"
   },
   "execution_count": null,
   "outputs": []
  },
  {
   "cell_type": "markdown",
   "source": [
    "# Laboratory Exercise - Run Mode (8 points)"
   ],
   "metadata": {
    "id": "M9CVMKMx0-SY"
   }
  },
  {
   "cell_type": "markdown",
   "source": [
    "In this laboratory assignment, the goal is to perform web scraping using **Selenium** on the website https://www.scrapethissite.com/pages/forms/. The task includes the extraction of **hockey team names** and their **wins** and **losses** in the respective **year** for a minimum of 25 hockey teams. Following this data extraction, you will construct a data frame to organize the collected data. Finally, you are expected to generate a histogram to provide a visual representation of the distribution of wins and losses in the year 1990."
   ],
   "metadata": {
    "id": "dGHA83FS1Lqk"
   }
  },
  {
   "cell_type": "markdown",
   "source": [
    "## Hints\n",
    "- To navigate to a specific page with a given URL, use the `browser.get(url)` method.\n",
    "- When selecting a single element, use `browser.find_element`, and for multiple elements, use `browser.find_elements`. Both of these functions take two arguments. The first specifies the attribute used to locate the element on the web page, and the second specifies the value of that attribute.\n",
    "- The `By` class is used to specify which attribute is used to locate elements on a page. These are the various ways the attributes are used to locate elements on a page: `By.ID`, `By.NAME`, `By.TAG_NAME`, `BY.CLASS_NAME`, `By.CSS_SELECTOR`, etc.\n",
    "- For more details, check the documentation (https://selenium-python.readthedocs.io/locating-elements.html)."
   ],
   "metadata": {
    "id": "TMBGzB374oRM"
   }
  },
  {
   "cell_type": "markdown",
   "source": [
    "## Solution"
   ],
   "metadata": {
    "id": "MOV5K_ji5iQi"
   }
  },
  {
   "cell_type": "code",
   "source": [
    "# Write your code here.\n",
    "browser.get(\"https://www.scrapethissite.com/pages/forms/\")"
   ],
   "metadata": {
    "id": "Naeba0l31AVU",
    "ExecuteTime": {
     "end_time": "2024-10-31T17:26:21.041124Z",
     "start_time": "2024-10-31T17:26:16.027187Z"
    }
   },
   "outputs": [],
   "execution_count": 6
  },
  {
   "metadata": {
    "ExecuteTime": {
     "end_time": "2024-10-31T17:26:22.391058Z",
     "start_time": "2024-10-31T17:26:22.358377Z"
    }
   },
   "cell_type": "code",
   "source": "teams = browser.find_elements(By.CLASS_NAME, 'team')",
   "outputs": [],
   "execution_count": 7
  },
  {
   "metadata": {
    "ExecuteTime": {
     "end_time": "2024-10-31T17:26:24.166699Z",
     "start_time": "2024-10-31T17:26:24.156652Z"
    }
   },
   "cell_type": "code",
   "source": "all_teams = []",
   "outputs": [],
   "execution_count": 8
  },
  {
   "metadata": {
    "ExecuteTime": {
     "end_time": "2024-10-31T17:26:28.086398Z",
     "start_time": "2024-10-31T17:26:25.773830Z"
    }
   },
   "cell_type": "code",
   "source": [
    "for team in teams:\n",
    "    name = team.find_element(By.CLASS_NAME, 'name').text\n",
    "    year = team.find_element(By.CLASS_NAME, 'year').text   \n",
    "    wins = team.find_element(By.CLASS_NAME, 'wins').text\n",
    "    loses = team.find_element(By.CLASS_NAME, 'losses').text\n",
    "    \n",
    "    team_dict = {\n",
    "        \"Name\": name,\n",
    "        \"Year\": year,\n",
    "        \"Wins\": int(wins),\n",
    "        \"Loses\": int(loses)\n",
    "    }\n",
    "    all_teams.append(team_dict)       \n"
   ],
   "outputs": [],
   "execution_count": 9
  },
  {
   "metadata": {
    "ExecuteTime": {
     "end_time": "2024-10-31T17:26:38.135764Z",
     "start_time": "2024-10-31T17:26:38.106136Z"
    }
   },
   "cell_type": "code",
   "source": [
    "all_teams_df = pd.DataFrame(all_teams)\n",
    "# all_teams_df[\"Wins\"] = pd.to_numeric(all_teams_df[\"Wins\"], errors='coerce')\n",
    "# all_teams_df[\"Loses\"] = pd.to_numeric(all_teams_df[\"Loses\"], errors='coerce')\n",
    "filtered_data = all_teams_df[all_teams_df['Year'] == '1990']\n",
    "filtered_data"
   ],
   "outputs": [
    {
     "data": {
      "text/plain": [
       "                     Name  Year  Wins  Loses\n",
       "0           Boston Bruins  1990    44     24\n",
       "1          Buffalo Sabres  1990    31     30\n",
       "2          Calgary Flames  1990    46     26\n",
       "3      Chicago Blackhawks  1990    49     23\n",
       "4       Detroit Red Wings  1990    34     38\n",
       "5         Edmonton Oilers  1990    37     37\n",
       "6        Hartford Whalers  1990    31     38\n",
       "7       Los Angeles Kings  1990    46     24\n",
       "8   Minnesota North Stars  1990    27     39\n",
       "9      Montreal Canadiens  1990    39     30\n",
       "10      New Jersey Devils  1990    32     33\n",
       "11     New York Islanders  1990    25     45\n",
       "12       New York Rangers  1990    36     31\n",
       "13    Philadelphia Flyers  1990    33     37\n",
       "14    Pittsburgh Penguins  1990    41     33\n",
       "15       Quebec Nordiques  1990    16     50\n",
       "16        St. Louis Blues  1990    47     22\n",
       "17    Toronto Maple Leafs  1990    23     46\n",
       "18      Vancouver Canucks  1990    28     43\n",
       "19    Washington Capitals  1990    37     36\n",
       "20          Winnipeg Jets  1990    26     43"
      ],
      "text/html": [
       "<div>\n",
       "<style scoped>\n",
       "    .dataframe tbody tr th:only-of-type {\n",
       "        vertical-align: middle;\n",
       "    }\n",
       "\n",
       "    .dataframe tbody tr th {\n",
       "        vertical-align: top;\n",
       "    }\n",
       "\n",
       "    .dataframe thead th {\n",
       "        text-align: right;\n",
       "    }\n",
       "</style>\n",
       "<table border=\"1\" class=\"dataframe\">\n",
       "  <thead>\n",
       "    <tr style=\"text-align: right;\">\n",
       "      <th></th>\n",
       "      <th>Name</th>\n",
       "      <th>Year</th>\n",
       "      <th>Wins</th>\n",
       "      <th>Loses</th>\n",
       "    </tr>\n",
       "  </thead>\n",
       "  <tbody>\n",
       "    <tr>\n",
       "      <th>0</th>\n",
       "      <td>Boston Bruins</td>\n",
       "      <td>1990</td>\n",
       "      <td>44</td>\n",
       "      <td>24</td>\n",
       "    </tr>\n",
       "    <tr>\n",
       "      <th>1</th>\n",
       "      <td>Buffalo Sabres</td>\n",
       "      <td>1990</td>\n",
       "      <td>31</td>\n",
       "      <td>30</td>\n",
       "    </tr>\n",
       "    <tr>\n",
       "      <th>2</th>\n",
       "      <td>Calgary Flames</td>\n",
       "      <td>1990</td>\n",
       "      <td>46</td>\n",
       "      <td>26</td>\n",
       "    </tr>\n",
       "    <tr>\n",
       "      <th>3</th>\n",
       "      <td>Chicago Blackhawks</td>\n",
       "      <td>1990</td>\n",
       "      <td>49</td>\n",
       "      <td>23</td>\n",
       "    </tr>\n",
       "    <tr>\n",
       "      <th>4</th>\n",
       "      <td>Detroit Red Wings</td>\n",
       "      <td>1990</td>\n",
       "      <td>34</td>\n",
       "      <td>38</td>\n",
       "    </tr>\n",
       "    <tr>\n",
       "      <th>5</th>\n",
       "      <td>Edmonton Oilers</td>\n",
       "      <td>1990</td>\n",
       "      <td>37</td>\n",
       "      <td>37</td>\n",
       "    </tr>\n",
       "    <tr>\n",
       "      <th>6</th>\n",
       "      <td>Hartford Whalers</td>\n",
       "      <td>1990</td>\n",
       "      <td>31</td>\n",
       "      <td>38</td>\n",
       "    </tr>\n",
       "    <tr>\n",
       "      <th>7</th>\n",
       "      <td>Los Angeles Kings</td>\n",
       "      <td>1990</td>\n",
       "      <td>46</td>\n",
       "      <td>24</td>\n",
       "    </tr>\n",
       "    <tr>\n",
       "      <th>8</th>\n",
       "      <td>Minnesota North Stars</td>\n",
       "      <td>1990</td>\n",
       "      <td>27</td>\n",
       "      <td>39</td>\n",
       "    </tr>\n",
       "    <tr>\n",
       "      <th>9</th>\n",
       "      <td>Montreal Canadiens</td>\n",
       "      <td>1990</td>\n",
       "      <td>39</td>\n",
       "      <td>30</td>\n",
       "    </tr>\n",
       "    <tr>\n",
       "      <th>10</th>\n",
       "      <td>New Jersey Devils</td>\n",
       "      <td>1990</td>\n",
       "      <td>32</td>\n",
       "      <td>33</td>\n",
       "    </tr>\n",
       "    <tr>\n",
       "      <th>11</th>\n",
       "      <td>New York Islanders</td>\n",
       "      <td>1990</td>\n",
       "      <td>25</td>\n",
       "      <td>45</td>\n",
       "    </tr>\n",
       "    <tr>\n",
       "      <th>12</th>\n",
       "      <td>New York Rangers</td>\n",
       "      <td>1990</td>\n",
       "      <td>36</td>\n",
       "      <td>31</td>\n",
       "    </tr>\n",
       "    <tr>\n",
       "      <th>13</th>\n",
       "      <td>Philadelphia Flyers</td>\n",
       "      <td>1990</td>\n",
       "      <td>33</td>\n",
       "      <td>37</td>\n",
       "    </tr>\n",
       "    <tr>\n",
       "      <th>14</th>\n",
       "      <td>Pittsburgh Penguins</td>\n",
       "      <td>1990</td>\n",
       "      <td>41</td>\n",
       "      <td>33</td>\n",
       "    </tr>\n",
       "    <tr>\n",
       "      <th>15</th>\n",
       "      <td>Quebec Nordiques</td>\n",
       "      <td>1990</td>\n",
       "      <td>16</td>\n",
       "      <td>50</td>\n",
       "    </tr>\n",
       "    <tr>\n",
       "      <th>16</th>\n",
       "      <td>St. Louis Blues</td>\n",
       "      <td>1990</td>\n",
       "      <td>47</td>\n",
       "      <td>22</td>\n",
       "    </tr>\n",
       "    <tr>\n",
       "      <th>17</th>\n",
       "      <td>Toronto Maple Leafs</td>\n",
       "      <td>1990</td>\n",
       "      <td>23</td>\n",
       "      <td>46</td>\n",
       "    </tr>\n",
       "    <tr>\n",
       "      <th>18</th>\n",
       "      <td>Vancouver Canucks</td>\n",
       "      <td>1990</td>\n",
       "      <td>28</td>\n",
       "      <td>43</td>\n",
       "    </tr>\n",
       "    <tr>\n",
       "      <th>19</th>\n",
       "      <td>Washington Capitals</td>\n",
       "      <td>1990</td>\n",
       "      <td>37</td>\n",
       "      <td>36</td>\n",
       "    </tr>\n",
       "    <tr>\n",
       "      <th>20</th>\n",
       "      <td>Winnipeg Jets</td>\n",
       "      <td>1990</td>\n",
       "      <td>26</td>\n",
       "      <td>43</td>\n",
       "    </tr>\n",
       "  </tbody>\n",
       "</table>\n",
       "</div>"
      ]
     },
     "execution_count": 10,
     "metadata": {},
     "output_type": "execute_result"
    }
   ],
   "execution_count": 10
  },
  {
   "metadata": {
    "ExecuteTime": {
     "end_time": "2024-10-31T17:27:06.436668Z",
     "start_time": "2024-10-31T17:27:06.080698Z"
    }
   },
   "cell_type": "code",
   "source": [
    "#filtered_data[['Wins', 'Loses']].plot.hist(subplots=True, bins=15)\n",
    "\n",
    "plt.figure(figsize=(12, 6))\n",
    "plt.hist(filtered_data['Wins'], bins=10, alpha=0.5, color='blue')\n",
    "plt.hist(filtered_data['Loses'], bins=10, alpha=0.5, color='red')\n",
    "plt.show()\n"
   ],
   "outputs": [
    {
     "data": {
      "text/plain": [
       "<Figure size 1200x600 with 1 Axes>"
      ],
      "image/png": "[encoded data removed]"
     },
     "metadata": {},
     "output_type": "display_data"
    }
   ],
   "execution_count": 11
  },
  {
   "cell_type": "code",
   "source": "# Add as many code boxes as you need.",
   "metadata": {
    "id": "PFK34b5R5c0N",
    "ExecuteTime": {
     "end_time": "2024-10-29T16:12:48.897559Z",
     "start_time": "2024-10-29T16:12:48.879568Z"
    }
   },
   "outputs": [],
   "execution_count": 82
  },
  {
   "cell_type": "markdown",
   "source": [
    "# Laboratory Exercise - Bonus Task (+ 2 points)"
   ],
   "metadata": {
    "id": "oCkjUHg75fNe"
   }
  },
  {
   "cell_type": "markdown",
   "source": [
    "In the context of scraping the website https://www.scrapethissite.com/pages/forms/, the additional task involves searching for the hockey team 'Boston Bruins' using the available search field. You will extract the wins and losses data for this team covering the years from 1990 to 2011. After gathering this information, your task is to create a line plot where the wins and losses of the 'Boston Bruins' team are visualized across the years, displaying both trends on the same plot."
   ],
   "metadata": {
    "id": "t1qEBqeW8UJa"
   }
  },
  {
   "cell_type": "markdown",
   "source": [
    "## Hints\n",
    "- To populate an input field (`input_field`) with some `text` use `input_field.send_keys(text)`.\n",
    "- To click on a specific `element` on a web page use `element.click()`."
   ],
   "metadata": {
    "id": "DgXk1c4k-5dR"
   }
  },
  {
   "cell_type": "markdown",
   "source": [
    "## Solution"
   ],
   "metadata": {
    "id": "AXxIi7bv9lPw"
   }
  },
  {
   "cell_type": "code",
   "source": [
    "# Write your code here."
   ],
   "metadata": {
    "id": "ztX3X1pB5f4j"
   },
   "execution_count": null,
   "outputs": []
  },
  {
   "metadata": {
    "ExecuteTime": {
     "end_time": "2024-10-31T17:28:01.916937Z",
     "start_time": "2024-10-31T17:28:01.908890Z"
    }
   },
   "cell_type": "code",
   "source": "import time",
   "outputs": [],
   "execution_count": 12
  },
  {
   "metadata": {
    "ExecuteTime": {
     "end_time": "2024-10-31T17:29:08.002042Z",
     "start_time": "2024-10-31T17:29:04.996509Z"
    }
   },
   "cell_type": "code",
   "source": [
    "browser.get(\"https://www.scrapethissite.com/pages/forms/\")\n",
    "browser.find_element(By.ID, 'q').send_keys(\"Boston\")\n",
    "browser.find_element(By.CSS_SELECTOR, \"input.btn.btn-primary[value='Search']\").click()\n",
    "#time.sleep(3)\n",
    "results = browser.find_elements(By.CLASS_NAME, \"team\")\n",
    "#browser.page_source"
   ],
   "outputs": [],
   "execution_count": 13
  },
  {
   "cell_type": "code",
   "source": [
    "# Add as many code boxes as you need."
   ],
   "metadata": {
    "id": "U-7KiLUF9hxp"
   },
   "execution_count": null,
   "outputs": []
  },
  {
   "metadata": {
    "ExecuteTime": {
     "end_time": "2024-10-31T17:29:11.307067Z",
     "start_time": "2024-10-31T17:29:11.293948Z"
    }
   },
   "cell_type": "code",
   "source": [
    "def extract_team_info(team):\n",
    "    name = team.find_element(By.CLASS_NAME, 'name').text\n",
    "    year = team.find_element(By.CLASS_NAME, 'year').text   \n",
    "    wins = team.find_element(By.CLASS_NAME, 'wins').text\n",
    "    loses = team.find_element(By.CLASS_NAME, 'losses').text\n",
    "    \n",
    "    team_dict = {\n",
    "        \"Name\": name,\n",
    "        \"Year\": year,\n",
    "        \"Wins\": int(wins),\n",
    "        \"Loses\": int(loses)\n",
    "    }\n",
    "    return team_dict\n"
   ],
   "outputs": [],
   "execution_count": 14
  },
  {
   "metadata": {
    "ExecuteTime": {
     "end_time": "2024-10-31T17:29:19.395287Z",
     "start_time": "2024-10-31T17:29:17.139878Z"
    }
   },
   "cell_type": "code",
   "source": [
    "boston_info = []\n",
    "for team in results:\n",
    "    boston_info.append(extract_team_info(team))\n",
    "    \n",
    "boston_info_df = pd.DataFrame(boston_info)\n",
    "boston_info_df"
   ],
   "outputs": [
    {
     "data": {
      "text/plain": [
       "             Name  Year  Wins  Loses\n",
       "0   Boston Bruins  1990    44     24\n",
       "1   Boston Bruins  1991    36     32\n",
       "2   Boston Bruins  1992    51     26\n",
       "3   Boston Bruins  1993    42     29\n",
       "4   Boston Bruins  1994    27     18\n",
       "5   Boston Bruins  1995    40     31\n",
       "6   Boston Bruins  1996    26     47\n",
       "7   Boston Bruins  1997    39     30\n",
       "8   Boston Bruins  1998    39     30\n",
       "9   Boston Bruins  1999    24     33\n",
       "10  Boston Bruins  2000    36     30\n",
       "11  Boston Bruins  2001    43     24\n",
       "12  Boston Bruins  2002    36     31\n",
       "13  Boston Bruins  2003    41     19\n",
       "14  Boston Bruins  2005    29     37\n",
       "15  Boston Bruins  2006    35     41\n",
       "16  Boston Bruins  2007    41     29\n",
       "17  Boston Bruins  2008    53     19\n",
       "18  Boston Bruins  2009    39     30\n",
       "19  Boston Bruins  2010    46     25\n",
       "20  Boston Bruins  2011    49     29"
      ],
      "text/html": [
       "<div>\n",
       "<style scoped>\n",
       "    .dataframe tbody tr th:only-of-type {\n",
       "        vertical-align: middle;\n",
       "    }\n",
       "\n",
       "    .dataframe tbody tr th {\n",
       "        vertical-align: top;\n",
       "    }\n",
       "\n",
       "    .dataframe thead th {\n",
       "        text-align: right;\n",
       "    }\n",
       "</style>\n",
       "<table border=\"1\" class=\"dataframe\">\n",
       "  <thead>\n",
       "    <tr style=\"text-align: right;\">\n",
       "      <th></th>\n",
       "      <th>Name</th>\n",
       "      <th>Year</th>\n",
       "      <th>Wins</th>\n",
       "      <th>Loses</th>\n",
       "    </tr>\n",
       "  </thead>\n",
       "  <tbody>\n",
       "    <tr>\n",
       "      <th>0</th>\n",
       "      <td>Boston Bruins</td>\n",
       "      <td>1990</td>\n",
       "      <td>44</td>\n",
       "      <td>24</td>\n",
       "    </tr>\n",
       "    <tr>\n",
       "      <th>1</th>\n",
       "      <td>Boston Bruins</td>\n",
       "      <td>1991</td>\n",
       "      <td>36</td>\n",
       "      <td>32</td>\n",
       "    </tr>\n",
       "    <tr>\n",
       "      <th>2</th>\n",
       "      <td>Boston Bruins</td>\n",
       "      <td>1992</td>\n",
       "      <td>51</td>\n",
       "      <td>26</td>\n",
       "    </tr>\n",
       "    <tr>\n",
       "      <th>3</th>\n",
       "      <td>Boston Bruins</td>\n",
       "      <td>1993</td>\n",
       "      <td>42</td>\n",
       "      <td>29</td>\n",
       "    </tr>\n",
       "    <tr>\n",
       "      <th>4</th>\n",
       "      <td>Boston Bruins</td>\n",
       "      <td>1994</td>\n",
       "      <td>27</td>\n",
       "      <td>18</td>\n",
       "    </tr>\n",
       "    <tr>\n",
       "      <th>5</th>\n",
       "      <td>Boston Bruins</td>\n",
       "      <td>1995</td>\n",
       "      <td>40</td>\n",
       "      <td>31</td>\n",
       "    </tr>\n",
       "    <tr>\n",
       "      <th>6</th>\n",
       "      <td>Boston Bruins</td>\n",
       "      <td>1996</td>\n",
       "      <td>26</td>\n",
       "      <td>47</td>\n",
       "    </tr>\n",
       "    <tr>\n",
       "      <th>7</th>\n",
       "      <td>Boston Bruins</td>\n",
       "      <td>1997</td>\n",
       "      <td>39</td>\n",
       "      <td>30</td>\n",
       "    </tr>\n",
       "    <tr>\n",
       "      <th>8</th>\n",
       "      <td>Boston Bruins</td>\n",
       "      <td>1998</td>\n",
       "      <td>39</td>\n",
       "      <td>30</td>\n",
       "    </tr>\n",
       "    <tr>\n",
       "      <th>9</th>\n",
       "      <td>Boston Bruins</td>\n",
       "      <td>1999</td>\n",
       "      <td>24</td>\n",
       "      <td>33</td>\n",
       "    </tr>\n",
       "    <tr>\n",
       "      <th>10</th>\n",
       "      <td>Boston Bruins</td>\n",
       "      <td>2000</td>\n",
       "      <td>36</td>\n",
       "      <td>30</td>\n",
       "    </tr>\n",
       "    <tr>\n",
       "      <th>11</th>\n",
       "      <td>Boston Bruins</td>\n",
       "      <td>2001</td>\n",
       "      <td>43</td>\n",
       "      <td>24</td>\n",
       "    </tr>\n",
       "    <tr>\n",
       "      <th>12</th>\n",
       "      <td>Boston Bruins</td>\n",
       "      <td>2002</td>\n",
       "      <td>36</td>\n",
       "      <td>31</td>\n",
       "    </tr>\n",
       "    <tr>\n",
       "      <th>13</th>\n",
       "      <td>Boston Bruins</td>\n",
       "      <td>2003</td>\n",
       "      <td>41</td>\n",
       "      <td>19</td>\n",
       "    </tr>\n",
       "    <tr>\n",
       "      <th>14</th>\n",
       "      <td>Boston Bruins</td>\n",
       "      <td>2005</td>\n",
       "      <td>29</td>\n",
       "      <td>37</td>\n",
       "    </tr>\n",
       "    <tr>\n",
       "      <th>15</th>\n",
       "      <td>Boston Bruins</td>\n",
       "      <td>2006</td>\n",
       "      <td>35</td>\n",
       "      <td>41</td>\n",
       "    </tr>\n",
       "    <tr>\n",
       "      <th>16</th>\n",
       "      <td>Boston Bruins</td>\n",
       "      <td>2007</td>\n",
       "      <td>41</td>\n",
       "      <td>29</td>\n",
       "    </tr>\n",
       "    <tr>\n",
       "      <th>17</th>\n",
       "      <td>Boston Bruins</td>\n",
       "      <td>2008</td>\n",
       "      <td>53</td>\n",
       "      <td>19</td>\n",
       "    </tr>\n",
       "    <tr>\n",
       "      <th>18</th>\n",
       "      <td>Boston Bruins</td>\n",
       "      <td>2009</td>\n",
       "      <td>39</td>\n",
       "      <td>30</td>\n",
       "    </tr>\n",
       "    <tr>\n",
       "      <th>19</th>\n",
       "      <td>Boston Bruins</td>\n",
       "      <td>2010</td>\n",
       "      <td>46</td>\n",
       "      <td>25</td>\n",
       "    </tr>\n",
       "    <tr>\n",
       "      <th>20</th>\n",
       "      <td>Boston Bruins</td>\n",
       "      <td>2011</td>\n",
       "      <td>49</td>\n",
       "      <td>29</td>\n",
       "    </tr>\n",
       "  </tbody>\n",
       "</table>\n",
       "</div>"
      ]
     },
     "execution_count": 15,
     "metadata": {},
     "output_type": "execute_result"
    }
   ],
   "execution_count": 15
  },
  {
   "metadata": {
    "ExecuteTime": {
     "end_time": "2024-10-31T17:29:33.624225Z",
     "start_time": "2024-10-31T17:29:32.863090Z"
    }
   },
   "cell_type": "code",
   "source": [
    "plt.figure(figsize=(10, 6))\n",
    "plt.plot(boston_info_df['Year'], boston_info_df['Wins'], color='b', marker='o')\n",
    "plt.plot(boston_info_df['Year'], boston_info_df['Loses'], color='r', marker='o')\n",
    "plt.show()"
   ],
   "outputs": [
    {
     "data": {
      "text/plain": [
       "<Figure size 1000x600 with 1 Axes>"
      ],
      "image/png": "[encoded data removed]"
     },
     "metadata": {},
     "output_type": "display_data"
    }
   ],
   "execution_count": 16
  },
  {
   "metadata": {
    "ExecuteTime": {
     "end_time": "2024-10-29T16:08:19.703496Z",
     "start_time": "2024-10-29T16:08:19.691813Z"
    }
   },
   "cell_type": "code",
   "source": "",
   "outputs": [],
   "execution_count": 78
  }
 ]
}

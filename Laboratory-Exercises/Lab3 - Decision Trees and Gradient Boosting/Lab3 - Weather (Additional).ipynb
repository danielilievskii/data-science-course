{
 "nbformat": 4,
 "nbformat_minor": 0,
 "metadata": {
  "colab": {
   "provenance": []
  },
  "kernelspec": {
   "name": "python3",
   "display_name": "Python 3 (ipykernel)",
   "language": "python"
  },
  "language_info": {
   "name": "python"
  }
 },
 "cells": [
  {
   "cell_type": "markdown",
   "source": [
    "# Requirements"
   ],
   "metadata": {
    "id": "rODb9vHvIEbp"
   }
  },
  {
   "cell_type": "code",
   "metadata": {
    "id": "-rgNa1IOH9KV",
    "ExecuteTime": {
     "end_time": "2024-12-04T20:51:56.068875Z",
     "start_time": "2024-12-04T20:51:55.759269Z"
    }
   },
   "source": [
    "import pandas as pd\n",
    "import seaborn as sns\n",
    "import matplotlib.pyplot as plt\n",
    "from sklearn.model_selection import train_test_split\n",
    "from sklearn.preprocessing import StandardScaler\n",
    "from xgboost import XGBRegressor\n",
    "from sklearn.ensemble import RandomForestRegressor\n",
    "from sklearn.metrics import mean_squared_error, mean_absolute_error, r2_score"
   ],
   "outputs": [],
   "execution_count": 5
  },
  {
   "cell_type": "code",
   "source": [
    "# Add as many imports as you need."
   ],
   "metadata": {
    "id": "U4KmHBd2cdx9"
   },
   "execution_count": null,
   "outputs": []
  },
  {
   "cell_type": "markdown",
   "source": [
    "# Laboratory Exercise - Run Mode (8 points)"
   ],
   "metadata": {
    "id": "KNMMoUiUIW3L"
   }
  },
  {
   "cell_type": "markdown",
   "source": [
    "## Introduction\n",
    "In this laboratory assignment, the focus is on time series forecasting, specifically targeting the prediction of the current **average sea-level pressure** in the city of Skopje. Your task involves employing bagging and boosting methods to forecast the average sea-level pressure. To accomplish this, you will use data from the preceding three days, consisting of average, minimal, and maximal temperatures, precipitation, as well as wind direction and speed, and the current season. By applying these ensemble learning techniques, you aim to enhance the accuracy and reliability of your predictions, gaining valuable insights into the temporal dynamics of sea-level pressure based on the given meteorological variables.\n",
    "\n",
    "**Note: You are required to perform this laboratory assignment on your local machine.**"
   ],
   "metadata": {
    "id": "_rAh_91OIjeS"
   }
  },
  {
   "cell_type": "markdown",
   "source": [
    "## The Weather Dataset"
   ],
   "metadata": {
    "id": "zBYI-EypaWom"
   }
  },
  {
   "cell_type": "markdown",
   "source": [
    "## Exploring the Weather Dataset\n",
    "This dataset consists of daily weather records for the city of Skopje from January 1, 2021, to August 1, 2023. Each entry includes a unique station ID, city name, date, corresponding season (e.g., summer, winter), and various meteorological parameters such as average, minimum, and maximum temperatures in Celsius, precipitation in millimeters, average wind direction in degrees, average wind speed in kilometers per hour, and average sea-level pressure in hectopascals. The dataset offers comprehensive insights into the climatic conditions, allowing for analysis and exploration of weather patterns in Skopje over the specified time period.\n",
    "\n",
    "The dataset comprises the following columns:\n",
    "- station_id - unique ID for the weather station,\n",
    "- city_name - name of the city where the station is located,\n",
    "- date - date of the weather record,\n",
    "- season - season corresponding to the date (e.g., summer, winter),\n",
    "- avg_temp_c - average temperature in Celsius,\n",
    "- min_temp_c - minimum temperature in Celsius,\n",
    "- max_temp_c - maximum temperature in Celsius,\n",
    "- precipitation_mm - precipitation in millimeters,\n",
    "- avg_wind_dir_deg - average wind direction in degrees,\n",
    "- avg_wind_speed_kmh - average wind speed in kilometers per hour, and\n",
    "- avg_sea_level_pres_hpa - average sea-level pressure in hectopascals.\n",
    "\n",
    "*Note: The dataset is complete, with no missing values in any of its entries.*"
   ],
   "metadata": {
    "id": "iAtPoYzAZo1v"
   }
  },
  {
   "cell_type": "markdown",
   "source": [
    "Load the dataset into a `pandas` data frame."
   ],
   "metadata": {
    "id": "DCm1qm1mZwMr"
   }
  },
  {
   "cell_type": "code",
   "source": [
    "# Write your code here. Add as many boxes as you need."
   ],
   "metadata": {
    "id": "KMOn4fgcZn8s"
   },
   "execution_count": null,
   "outputs": []
  },
  {
   "metadata": {
    "ExecuteTime": {
     "end_time": "2024-12-04T21:09:22.223716Z",
     "start_time": "2024-12-04T21:09:22.210667Z"
    }
   },
   "cell_type": "code",
   "source": "data = pd.read_csv('./data/weather.csv')",
   "outputs": [],
   "execution_count": 36
  },
  {
   "cell_type": "markdown",
   "source": [
    "Explore the dataset using visualizations of your choice."
   ],
   "metadata": {
    "id": "5slwyyhCKRo9"
   }
  },
  {
   "cell_type": "code",
   "source": [
    "# Write your code here. Add as many boxes as you need."
   ],
   "metadata": {
    "id": "DFY6TKhGKOY4"
   },
   "execution_count": null,
   "outputs": []
  },
  {
   "metadata": {
    "ExecuteTime": {
     "end_time": "2024-12-04T20:49:57.752917Z",
     "start_time": "2024-12-04T20:49:57.719443Z"
    }
   },
   "cell_type": "code",
   "source": "data.head()",
   "outputs": [
    {
     "data": {
      "text/plain": [
       "   station_id city_name        date  season  avg_temp_c  min_temp_c  \\\n",
       "0       13588    Skopje  2021-01-01  Winter         5.1         0.5   \n",
       "1       13588    Skopje  2021-01-02  Winter         3.0        -2.6   \n",
       "2       13588    Skopje  2021-01-03  Winter         6.8         3.5   \n",
       "3       13588    Skopje  2021-01-04  Winter         6.6         6.1   \n",
       "4       13588    Skopje  2021-01-05  Winter         4.3         2.3   \n",
       "\n",
       "   max_temp_c  precipitation_mm  avg_wind_dir_deg  avg_wind_speed_kmh  \\\n",
       "0        13.2               0.0             330.0                 5.9   \n",
       "1        11.2               0.0             330.0                 5.9   \n",
       "2        12.5               1.3             339.0                 8.0   \n",
       "3         7.2               3.6             298.0                 5.3   \n",
       "4         6.7               4.6              11.0                 5.1   \n",
       "\n",
       "   avg_sea_level_pres_hpa  \n",
       "0                  1021.2  \n",
       "1                  1021.2  \n",
       "2                  1017.8  \n",
       "3                  1011.3  \n",
       "4                  1014.5  "
      ],
      "text/html": [
       "<div>\n",
       "<style scoped>\n",
       "    .dataframe tbody tr th:only-of-type {\n",
       "        vertical-align: middle;\n",
       "    }\n",
       "\n",
       "    .dataframe tbody tr th {\n",
       "        vertical-align: top;\n",
       "    }\n",
       "\n",
       "    .dataframe thead th {\n",
       "        text-align: right;\n",
       "    }\n",
       "</style>\n",
       "<table border=\"1\" class=\"dataframe\">\n",
       "  <thead>\n",
       "    <tr style=\"text-align: right;\">\n",
       "      <th></th>\n",
       "      <th>station_id</th>\n",
       "      <th>city_name</th>\n",
       "      <th>date</th>\n",
       "      <th>season</th>\n",
       "      <th>avg_temp_c</th>\n",
       "      <th>min_temp_c</th>\n",
       "      <th>max_temp_c</th>\n",
       "      <th>precipitation_mm</th>\n",
       "      <th>avg_wind_dir_deg</th>\n",
       "      <th>avg_wind_speed_kmh</th>\n",
       "      <th>avg_sea_level_pres_hpa</th>\n",
       "    </tr>\n",
       "  </thead>\n",
       "  <tbody>\n",
       "    <tr>\n",
       "      <th>0</th>\n",
       "      <td>13588</td>\n",
       "      <td>Skopje</td>\n",
       "      <td>2021-01-01</td>\n",
       "      <td>Winter</td>\n",
       "      <td>5.1</td>\n",
       "      <td>0.5</td>\n",
       "      <td>13.2</td>\n",
       "      <td>0.0</td>\n",
       "      <td>330.0</td>\n",
       "      <td>5.9</td>\n",
       "      <td>1021.2</td>\n",
       "    </tr>\n",
       "    <tr>\n",
       "      <th>1</th>\n",
       "      <td>13588</td>\n",
       "      <td>Skopje</td>\n",
       "      <td>2021-01-02</td>\n",
       "      <td>Winter</td>\n",
       "      <td>3.0</td>\n",
       "      <td>-2.6</td>\n",
       "      <td>11.2</td>\n",
       "      <td>0.0</td>\n",
       "      <td>330.0</td>\n",
       "      <td>5.9</td>\n",
       "      <td>1021.2</td>\n",
       "    </tr>\n",
       "    <tr>\n",
       "      <th>2</th>\n",
       "      <td>13588</td>\n",
       "      <td>Skopje</td>\n",
       "      <td>2021-01-03</td>\n",
       "      <td>Winter</td>\n",
       "      <td>6.8</td>\n",
       "      <td>3.5</td>\n",
       "      <td>12.5</td>\n",
       "      <td>1.3</td>\n",
       "      <td>339.0</td>\n",
       "      <td>8.0</td>\n",
       "      <td>1017.8</td>\n",
       "    </tr>\n",
       "    <tr>\n",
       "      <th>3</th>\n",
       "      <td>13588</td>\n",
       "      <td>Skopje</td>\n",
       "      <td>2021-01-04</td>\n",
       "      <td>Winter</td>\n",
       "      <td>6.6</td>\n",
       "      <td>6.1</td>\n",
       "      <td>7.2</td>\n",
       "      <td>3.6</td>\n",
       "      <td>298.0</td>\n",
       "      <td>5.3</td>\n",
       "      <td>1011.3</td>\n",
       "    </tr>\n",
       "    <tr>\n",
       "      <th>4</th>\n",
       "      <td>13588</td>\n",
       "      <td>Skopje</td>\n",
       "      <td>2021-01-05</td>\n",
       "      <td>Winter</td>\n",
       "      <td>4.3</td>\n",
       "      <td>2.3</td>\n",
       "      <td>6.7</td>\n",
       "      <td>4.6</td>\n",
       "      <td>11.0</td>\n",
       "      <td>5.1</td>\n",
       "      <td>1014.5</td>\n",
       "    </tr>\n",
       "  </tbody>\n",
       "</table>\n",
       "</div>"
      ]
     },
     "execution_count": 3,
     "metadata": {},
     "output_type": "execute_result"
    }
   ],
   "execution_count": 3
  },
  {
   "metadata": {
    "ExecuteTime": {
     "end_time": "2024-12-04T21:09:26.149977Z",
     "start_time": "2024-12-04T21:09:26.136459Z"
    }
   },
   "cell_type": "code",
   "source": "data.drop([\"station_id\", \"city_name\"], axis=1, inplace=True)",
   "outputs": [],
   "execution_count": 37
  },
  {
   "metadata": {
    "ExecuteTime": {
     "end_time": "2024-12-04T21:09:26.850279Z",
     "start_time": "2024-12-04T21:09:26.833934Z"
    }
   },
   "cell_type": "code",
   "source": [
    "data = data.set_index('date')\n",
    "data = data.sort_index()"
   ],
   "outputs": [],
   "execution_count": 38
  },
  {
   "cell_type": "markdown",
   "source": [
    "Remove the highly correlated features."
   ],
   "metadata": {
    "id": "aHu0QDOtM-mK"
   }
  },
  {
   "cell_type": "code",
   "source": [
    "# Write your code here. Add as many boxes as you need."
   ],
   "metadata": {
    "id": "y-gl5hyJM_vG"
   },
   "execution_count": null,
   "outputs": []
  },
  {
   "metadata": {
    "ExecuteTime": {
     "end_time": "2024-12-04T21:09:29.586401Z",
     "start_time": "2024-12-04T21:09:28.334874Z"
    }
   },
   "cell_type": "code",
   "source": [
    "plt.figure(figsize=(20, 20))\n",
    "sns.heatmap(data.drop([\"season\"], axis=1).corr(), annot=True)\n",
    "plt.show()"
   ],
   "outputs": [
    {
     "data": {
      "text/plain": [
       "<Figure size 2000x2000 with 2 Axes>"
      ],
      "image/png": "[encoded data removed]"
     },
     "metadata": {},
     "output_type": "display_data"
    }
   ],
   "execution_count": 39
  },
  {
   "metadata": {
    "ExecuteTime": {
     "end_time": "2024-12-04T21:09:30.640294Z",
     "start_time": "2024-12-04T21:09:30.624247Z"
    }
   },
   "cell_type": "code",
   "source": "data.drop([\"min_temp_c\", \"max_temp_c\"], axis=1, inplace=True)",
   "outputs": [],
   "execution_count": 40
  },
  {
   "cell_type": "markdown",
   "source": [
    "Encode the categorical features."
   ],
   "metadata": {
    "id": "38bzs4x4lH9O"
   }
  },
  {
   "cell_type": "code",
   "source": [
    "# Write your code here. Add as many boxes as you need."
   ],
   "metadata": {
    "id": "UW4Z6CMelOza"
   },
   "execution_count": null,
   "outputs": []
  },
  {
   "metadata": {
    "ExecuteTime": {
     "end_time": "2024-12-04T21:09:32.722322Z",
     "start_time": "2024-12-04T21:09:32.705617Z"
    }
   },
   "cell_type": "code",
   "source": "from sklearn.preprocessing import OrdinalEncoder",
   "outputs": [],
   "execution_count": 41
  },
  {
   "metadata": {
    "ExecuteTime": {
     "end_time": "2024-12-04T21:09:33.201527Z",
     "start_time": "2024-12-04T21:09:33.188428Z"
    }
   },
   "cell_type": "code",
   "source": [
    "encoder = OrdinalEncoder()\n",
    "column = ['season']\n",
    "data['season'] = encoder.fit_transform(data[column])"
   ],
   "outputs": [],
   "execution_count": 42
  },
  {
   "cell_type": "markdown",
   "source": [
    "# Feauture Extraction\n",
    "Select the relevant features for prediction and apply a lag of one, two, and three days to each chosen feature (except `season`), creating a set of features representing the meteorological conditions from the previous three days. To maintain dataset integrity, eliminate any resulting missing values at the beginning of the dataset.\n",
    "\n",
    "Hint: Use `df['column_name'].shift(period)`. Check the documentation at https://pandas.pydata.org/docs/reference/api/pandas.DataFrame.shift.html."
   ],
   "metadata": {
    "id": "hZceBEFuiGpI"
   }
  },
  {
   "cell_type": "code",
   "source": [
    "# Write your code here. Add as many boxes as you need."
   ],
   "metadata": {
    "id": "qHwGg9ieiFL1"
   },
   "execution_count": null,
   "outputs": []
  },
  {
   "metadata": {
    "ExecuteTime": {
     "end_time": "2024-12-04T21:09:41.703758Z",
     "start_time": "2024-12-04T21:09:41.692191Z"
    }
   },
   "cell_type": "code",
   "source": [
    "columns = data.columns\n",
    "columns = columns.drop(\"season\")\n",
    "columns"
   ],
   "outputs": [
    {
     "data": {
      "text/plain": [
       "Index(['avg_temp_c', 'precipitation_mm', 'avg_wind_dir_deg',\n",
       "       'avg_wind_speed_kmh', 'avg_sea_level_pres_hpa'],\n",
       "      dtype='object')"
      ]
     },
     "execution_count": 43,
     "metadata": {},
     "output_type": "execute_result"
    }
   ],
   "execution_count": 43
  },
  {
   "metadata": {
    "ExecuteTime": {
     "end_time": "2024-12-04T21:09:52.147149Z",
     "start_time": "2024-12-04T21:09:52.134569Z"
    }
   },
   "cell_type": "code",
   "source": [
    "lags = 3\n",
    "for i in range(1, lags+1):\n",
    "  for col in columns:\n",
    "    data[f'{col}_prev_{i}'] = data[col].shift(i)"
   ],
   "outputs": [],
   "execution_count": 44
  },
  {
   "metadata": {
    "ExecuteTime": {
     "end_time": "2024-12-04T21:09:57.319681Z",
     "start_time": "2024-12-04T21:09:57.306159Z"
    }
   },
   "cell_type": "code",
   "source": "data = data.dropna(axis=0)",
   "outputs": [],
   "execution_count": 45
  },
  {
   "metadata": {
    "ExecuteTime": {
     "end_time": "2024-12-04T21:10:27.611705Z",
     "start_time": "2024-12-04T21:10:27.597182Z"
    }
   },
   "cell_type": "code",
   "source": "data.drop([\"precipitation_mm\", 'avg_wind_dir_deg', 'avg_wind_speed_kmh', 'avg_temp_c'], axis=1, inplace=True)",
   "outputs": [],
   "execution_count": 49
  },
  {
   "metadata": {
    "ExecuteTime": {
     "end_time": "2024-12-04T21:10:28.393611Z",
     "start_time": "2024-12-04T21:10:28.364423Z"
    }
   },
   "cell_type": "code",
   "source": "data.head()",
   "outputs": [
    {
     "data": {
      "text/plain": [
       "            season  avg_sea_level_pres_hpa  avg_temp_c_prev_1  \\\n",
       "date                                                            \n",
       "2021-01-04     3.0                  1011.3                6.8   \n",
       "2021-01-05     3.0                  1014.5                6.6   \n",
       "2021-01-06     3.0                  1017.2                4.3   \n",
       "2021-01-07     3.0                  1015.2                6.2   \n",
       "2021-01-08     3.0                  1009.7                7.3   \n",
       "\n",
       "            precipitation_mm_prev_1  avg_wind_dir_deg_prev_1  \\\n",
       "date                                                           \n",
       "2021-01-04                      1.3                    339.0   \n",
       "2021-01-05                      3.6                    298.0   \n",
       "2021-01-06                      4.6                     11.0   \n",
       "2021-01-07                      0.0                     18.0   \n",
       "2021-01-08                      0.5                      0.0   \n",
       "\n",
       "            avg_wind_speed_kmh_prev_1  avg_sea_level_pres_hpa_prev_1  \\\n",
       "date                                                                   \n",
       "2021-01-04                        8.0                         1017.8   \n",
       "2021-01-05                        5.3                         1011.3   \n",
       "2021-01-06                        5.1                         1014.5   \n",
       "2021-01-07                        6.7                         1017.2   \n",
       "2021-01-08                        4.5                         1015.2   \n",
       "\n",
       "            avg_temp_c_prev_2  precipitation_mm_prev_2  \\\n",
       "date                                                     \n",
       "2021-01-04                3.0                      0.0   \n",
       "2021-01-05                6.8                      1.3   \n",
       "2021-01-06                6.6                      3.6   \n",
       "2021-01-07                4.3                      4.6   \n",
       "2021-01-08                6.2                      0.0   \n",
       "\n",
       "            avg_wind_dir_deg_prev_2  avg_wind_speed_kmh_prev_2  \\\n",
       "date                                                             \n",
       "2021-01-04                    330.0                        5.9   \n",
       "2021-01-05                    339.0                        8.0   \n",
       "2021-01-06                    298.0                        5.3   \n",
       "2021-01-07                     11.0                        5.1   \n",
       "2021-01-08                     18.0                        6.7   \n",
       "\n",
       "            avg_sea_level_pres_hpa_prev_2  avg_temp_c_prev_3  \\\n",
       "date                                                           \n",
       "2021-01-04                         1021.2                5.1   \n",
       "2021-01-05                         1017.8                3.0   \n",
       "2021-01-06                         1011.3                6.8   \n",
       "2021-01-07                         1014.5                6.6   \n",
       "2021-01-08                         1017.2                4.3   \n",
       "\n",
       "            precipitation_mm_prev_3  avg_wind_dir_deg_prev_3  \\\n",
       "date                                                           \n",
       "2021-01-04                      0.0                    330.0   \n",
       "2021-01-05                      0.0                    330.0   \n",
       "2021-01-06                      1.3                    339.0   \n",
       "2021-01-07                      3.6                    298.0   \n",
       "2021-01-08                      4.6                     11.0   \n",
       "\n",
       "            avg_wind_speed_kmh_prev_3  avg_sea_level_pres_hpa_prev_3  \n",
       "date                                                                  \n",
       "2021-01-04                        5.9                         1021.2  \n",
       "2021-01-05                        5.9                         1021.2  \n",
       "2021-01-06                        8.0                         1017.8  \n",
       "2021-01-07                        5.3                         1011.3  \n",
       "2021-01-08                        5.1                         1014.5  "
      ],
      "text/html": [
       "<div>\n",
       "<style scoped>\n",
       "    .dataframe tbody tr th:only-of-type {\n",
       "        vertical-align: middle;\n",
       "    }\n",
       "\n",
       "    .dataframe tbody tr th {\n",
       "        vertical-align: top;\n",
       "    }\n",
       "\n",
       "    .dataframe thead th {\n",
       "        text-align: right;\n",
       "    }\n",
       "</style>\n",
       "<table border=\"1\" class=\"dataframe\">\n",
       "  <thead>\n",
       "    <tr style=\"text-align: right;\">\n",
       "      <th></th>\n",
       "      <th>season</th>\n",
       "      <th>avg_sea_level_pres_hpa</th>\n",
       "      <th>avg_temp_c_prev_1</th>\n",
       "      <th>precipitation_mm_prev_1</th>\n",
       "      <th>avg_wind_dir_deg_prev_1</th>\n",
       "      <th>avg_wind_speed_kmh_prev_1</th>\n",
       "      <th>avg_sea_level_pres_hpa_prev_1</th>\n",
       "      <th>avg_temp_c_prev_2</th>\n",
       "      <th>precipitation_mm_prev_2</th>\n",
       "      <th>avg_wind_dir_deg_prev_2</th>\n",
       "      <th>avg_wind_speed_kmh_prev_2</th>\n",
       "      <th>avg_sea_level_pres_hpa_prev_2</th>\n",
       "      <th>avg_temp_c_prev_3</th>\n",
       "      <th>precipitation_mm_prev_3</th>\n",
       "      <th>avg_wind_dir_deg_prev_3</th>\n",
       "      <th>avg_wind_speed_kmh_prev_3</th>\n",
       "      <th>avg_sea_level_pres_hpa_prev_3</th>\n",
       "    </tr>\n",
       "    <tr>\n",
       "      <th>date</th>\n",
       "      <th></th>\n",
       "      <th></th>\n",
       "      <th></th>\n",
       "      <th></th>\n",
       "      <th></th>\n",
       "      <th></th>\n",
       "      <th></th>\n",
       "      <th></th>\n",
       "      <th></th>\n",
       "      <th></th>\n",
       "      <th></th>\n",
       "      <th></th>\n",
       "      <th></th>\n",
       "      <th></th>\n",
       "      <th></th>\n",
       "      <th></th>\n",
       "      <th></th>\n",
       "    </tr>\n",
       "  </thead>\n",
       "  <tbody>\n",
       "    <tr>\n",
       "      <th>2021-01-04</th>\n",
       "      <td>3.0</td>\n",
       "      <td>1011.3</td>\n",
       "      <td>6.8</td>\n",
       "      <td>1.3</td>\n",
       "      <td>339.0</td>\n",
       "      <td>8.0</td>\n",
       "      <td>1017.8</td>\n",
       "      <td>3.0</td>\n",
       "      <td>0.0</td>\n",
       "      <td>330.0</td>\n",
       "      <td>5.9</td>\n",
       "      <td>1021.2</td>\n",
       "      <td>5.1</td>\n",
       "      <td>0.0</td>\n",
       "      <td>330.0</td>\n",
       "      <td>5.9</td>\n",
       "      <td>1021.2</td>\n",
       "    </tr>\n",
       "    <tr>\n",
       "      <th>2021-01-05</th>\n",
       "      <td>3.0</td>\n",
       "      <td>1014.5</td>\n",
       "      <td>6.6</td>\n",
       "      <td>3.6</td>\n",
       "      <td>298.0</td>\n",
       "      <td>5.3</td>\n",
       "      <td>1011.3</td>\n",
       "      <td>6.8</td>\n",
       "      <td>1.3</td>\n",
       "      <td>339.0</td>\n",
       "      <td>8.0</td>\n",
       "      <td>1017.8</td>\n",
       "      <td>3.0</td>\n",
       "      <td>0.0</td>\n",
       "      <td>330.0</td>\n",
       "      <td>5.9</td>\n",
       "      <td>1021.2</td>\n",
       "    </tr>\n",
       "    <tr>\n",
       "      <th>2021-01-06</th>\n",
       "      <td>3.0</td>\n",
       "      <td>1017.2</td>\n",
       "      <td>4.3</td>\n",
       "      <td>4.6</td>\n",
       "      <td>11.0</td>\n",
       "      <td>5.1</td>\n",
       "      <td>1014.5</td>\n",
       "      <td>6.6</td>\n",
       "      <td>3.6</td>\n",
       "      <td>298.0</td>\n",
       "      <td>5.3</td>\n",
       "      <td>1011.3</td>\n",
       "      <td>6.8</td>\n",
       "      <td>1.3</td>\n",
       "      <td>339.0</td>\n",
       "      <td>8.0</td>\n",
       "      <td>1017.8</td>\n",
       "    </tr>\n",
       "    <tr>\n",
       "      <th>2021-01-07</th>\n",
       "      <td>3.0</td>\n",
       "      <td>1015.2</td>\n",
       "      <td>6.2</td>\n",
       "      <td>0.0</td>\n",
       "      <td>18.0</td>\n",
       "      <td>6.7</td>\n",
       "      <td>1017.2</td>\n",
       "      <td>4.3</td>\n",
       "      <td>4.6</td>\n",
       "      <td>11.0</td>\n",
       "      <td>5.1</td>\n",
       "      <td>1014.5</td>\n",
       "      <td>6.6</td>\n",
       "      <td>3.6</td>\n",
       "      <td>298.0</td>\n",
       "      <td>5.3</td>\n",
       "      <td>1011.3</td>\n",
       "    </tr>\n",
       "    <tr>\n",
       "      <th>2021-01-08</th>\n",
       "      <td>3.0</td>\n",
       "      <td>1009.7</td>\n",
       "      <td>7.3</td>\n",
       "      <td>0.5</td>\n",
       "      <td>0.0</td>\n",
       "      <td>4.5</td>\n",
       "      <td>1015.2</td>\n",
       "      <td>6.2</td>\n",
       "      <td>0.0</td>\n",
       "      <td>18.0</td>\n",
       "      <td>6.7</td>\n",
       "      <td>1017.2</td>\n",
       "      <td>4.3</td>\n",
       "      <td>4.6</td>\n",
       "      <td>11.0</td>\n",
       "      <td>5.1</td>\n",
       "      <td>1014.5</td>\n",
       "    </tr>\n",
       "  </tbody>\n",
       "</table>\n",
       "</div>"
      ]
     },
     "execution_count": 50,
     "metadata": {},
     "output_type": "execute_result"
    }
   ],
   "execution_count": 50
  },
  {
   "cell_type": "markdown",
   "source": [
    "## Dataset Splitting\n",
    "Partition the dataset into training and testing sets with an 80:20 ratio.\n",
    "\n",
    "**WARNING: DO NOT SHUFFLE THE DATASET.**\n",
    "\n"
   ],
   "metadata": {
    "id": "tls69_PrbJKW"
   }
  },
  {
   "cell_type": "code",
   "source": [
    "# Write your code here. Add as many boxes as you need."
   ],
   "metadata": {
    "id": "PjGGGMxebeoB"
   },
   "execution_count": null,
   "outputs": []
  },
  {
   "metadata": {
    "ExecuteTime": {
     "end_time": "2024-12-04T21:11:00.801558Z",
     "start_time": "2024-12-04T21:11:00.784596Z"
    }
   },
   "cell_type": "code",
   "source": "X, Y = data.drop(columns='avg_sea_level_pres_hpa'), data['avg_sea_level_pres_hpa']",
   "outputs": [],
   "execution_count": 51
  },
  {
   "metadata": {
    "ExecuteTime": {
     "end_time": "2024-12-04T21:11:01.377923Z",
     "start_time": "2024-12-04T21:11:01.361391Z"
    }
   },
   "cell_type": "code",
   "source": "X_train, X_test, y_train, y_test = train_test_split(X, Y, test_size=0.2, shuffle=False)",
   "outputs": [],
   "execution_count": 52
  },
  {
   "cell_type": "markdown",
   "source": [
    "## Ensemble Learning Methods"
   ],
   "metadata": {
    "id": "VIkAR1Hibiwr"
   }
  },
  {
   "cell_type": "markdown",
   "source": [
    "### Bagging"
   ],
   "metadata": {
    "id": "-XPgBlD7jgI5"
   }
  },
  {
   "cell_type": "markdown",
   "source": [
    "Create an instance of a Random Forest model and train it using the `fit` function."
   ],
   "metadata": {
    "id": "qWn1pafKbnxH"
   }
  },
  {
   "cell_type": "code",
   "source": [
    "# Write your code here. Add as many boxes as you need."
   ],
   "metadata": {
    "id": "IXFIrQthbnkb"
   },
   "execution_count": null,
   "outputs": []
  },
  {
   "cell_type": "markdown",
   "source": [
    "Use the trained model to make predictions for the test set."
   ],
   "metadata": {
    "id": "gyXZwAVab8Cp"
   }
  },
  {
   "cell_type": "code",
   "source": [
    "# Write your code here. Add as many boxes as you need."
   ],
   "metadata": {
    "id": "EvMfVum6b_9b"
   },
   "execution_count": null,
   "outputs": []
  },
  {
   "cell_type": "markdown",
   "source": [
    "Assess the performance of the model by using different metrics provided by the `scikit-learn` library."
   ],
   "metadata": {
    "id": "3VxAvDPtcNCh"
   }
  },
  {
   "cell_type": "code",
   "source": [
    "# Write your code here. Add as many boxes as you need."
   ],
   "metadata": {
    "id": "V4axpktycQhp"
   },
   "execution_count": null,
   "outputs": []
  },
  {
   "cell_type": "markdown",
   "source": [
    "### Boosting"
   ],
   "metadata": {
    "id": "4LF1v6lbjcGL"
   }
  },
  {
   "cell_type": "markdown",
   "source": [
    "Create an instance of an XGBoost model and train it using the `fit` function."
   ],
   "metadata": {
    "id": "VpuBInwyjkRr"
   }
  },
  {
   "cell_type": "code",
   "source": [
    "# Write your code here. Add as many boxes as you need."
   ],
   "metadata": {
    "id": "f7IPuXNMjb3K"
   },
   "execution_count": null,
   "outputs": []
  },
  {
   "cell_type": "markdown",
   "source": [
    "Use the trained model to make predictions for the test set."
   ],
   "metadata": {
    "id": "30u245l0jnhE"
   }
  },
  {
   "cell_type": "code",
   "source": [
    "# Write your code here. Add as many boxes as you need."
   ],
   "metadata": {
    "id": "ykXWljGFjnDr"
   },
   "execution_count": null,
   "outputs": []
  },
  {
   "cell_type": "markdown",
   "source": [
    "Assess the performance of the model by using different metrics provided by the `scikit-learn` library."
   ],
   "metadata": {
    "id": "UWnX_tVNjqGl"
   }
  },
  {
   "cell_type": "code",
   "source": [
    "# Write your code here. Add as many boxes as you need."
   ],
   "metadata": {
    "id": "FNFvmZ0Zjp1X"
   },
   "execution_count": null,
   "outputs": []
  },
  {
   "cell_type": "markdown",
   "source": [
    "# Laboratory Exercise - Bonus Task (+ 2 points)"
   ],
   "metadata": {
    "id": "RwnD_qSpIeXG"
   }
  },
  {
   "cell_type": "markdown",
   "source": [
    "As part of the bonus task in this laboratory assignment, your objective is to fine-tune the max_depth (`max_depth`) for the Random Forest model using a cross-validation with grid search and time series split. This involves systematically experimenting with various values for `max_depth` and evaluating the model's performance using cross-validation. Upon determining the most suitable `max_depth` value, evaluate the model's performance on a test set for final assessment.\n",
    "\n",
    "Hints:\n",
    "- For grid search use the `GridCVSearch` from the `scikit-learn` library. Check the documentation at https://scikit-learn.org/stable/modules/generated/sklearn.model_selection.GridSearchCV.html.\n",
    "- For cross-validation use the `TimeSeriesSplit` from the `scikit-learn` library. Check the documentation at https://scikit-learn.org/stable/modules/generated/sklearn.model_selection.TimeSeriesSplit.html."
   ],
   "metadata": {
    "id": "lSTuVpyYd2is"
   }
  },
  {
   "cell_type": "markdown",
   "source": [
    "## Dataset Splitting\n",
    "Partition the dataset into training and testing sets with an 90:10 ratio.\n",
    "\n",
    "**WARNING: DO NOT SHUFFLE THE DATASET.**"
   ],
   "metadata": {
    "id": "yZriA4d4eWLJ"
   }
  },
  {
   "cell_type": "code",
   "source": [
    "# Write your code here. Add as many boxes as you need."
   ],
   "metadata": {
    "id": "ile-T3vmIfsm"
   },
   "execution_count": null,
   "outputs": []
  },
  {
   "cell_type": "markdown",
   "source": [
    "## Fine-tuning the Random Forest Hyperparameter\n",
    "Experiment with various values for `max_depth` and evaluate the model's performance using cross-validation."
   ],
   "metadata": {
    "id": "E9myidoNgjmy"
   }
  },
  {
   "cell_type": "code",
   "source": [
    "# Write your code here. Add as many boxes as you need."
   ],
   "metadata": {
    "id": "Vb5WJwEggm1f"
   },
   "execution_count": null,
   "outputs": []
  },
  {
   "cell_type": "markdown",
   "source": [
    "## Final Assessment of the Model Performance\n",
    "Upon determining the most suitable `max_depth` value, evaluate the model's performance on a test set for final assessment."
   ],
   "metadata": {
    "id": "OzxTQJABiWAp"
   }
  },
  {
   "cell_type": "code",
   "source": [
    "# Write your code here. Add as many boxes as you need."
   ],
   "metadata": {
    "id": "oK__muPhicCr"
   },
   "execution_count": null,
   "outputs": []
  }
 ]
}

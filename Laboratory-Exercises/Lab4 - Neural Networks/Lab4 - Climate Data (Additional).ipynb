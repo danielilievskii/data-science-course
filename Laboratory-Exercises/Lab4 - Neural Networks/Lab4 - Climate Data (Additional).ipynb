{
 "cells": [
  {
   "cell_type": "markdown",
   "metadata": {
    "id": "rODb9vHvIEbp"
   },
   "source": [
    "# Requirements"
   ]
  },
  {
   "cell_type": "code",
   "execution_count": null,
   "metadata": {
    "id": "U4KmHBd2cdx9"
   },
   "outputs": [],
   "source": [
    "# Add as many imports as you need."
   ]
  },
  {
   "metadata": {
    "ExecuteTime": {
     "end_time": "2024-12-20T09:11:11.632019Z",
     "start_time": "2024-12-20T09:11:07.766241Z"
    }
   },
   "cell_type": "code",
   "source": [
    "import pandas as pd\n",
    "import missingno as msno\n",
    "import matplotlib.pyplot as plt\n",
    "from sklearn.preprocessing import OrdinalEncoder\n",
    "from sklearn.model_selection import train_test_split\n",
    "from sklearn.preprocessing import MinMaxScaler\n",
    "from sklearn.metrics import classification_report, confusion_matrix, r2_score\n",
    "from keras.src.models import Sequential\n",
    "from keras.src.layers import Dense, Input, Dropout, LSTM\n",
    "import seaborn as sns \n",
    "import numpy as np"
   ],
   "outputs": [],
   "execution_count": 1
  },
  {
   "cell_type": "markdown",
   "metadata": {
    "id": "KNMMoUiUIW3L"
   },
   "source": [
    "# Laboratory Exercise - Run Mode (8 points)"
   ]
  },
  {
   "cell_type": "markdown",
   "metadata": {
    "id": "_rAh_91OIjeS"
   },
   "source": [
    "## Introduction\n",
    "In this laboratory assignment, the primary objective is to use Long Short-Term Memory (LSTM) networks for time series forecasting in order to predict the current **mean temperature** in the city of Delhi. To accomplish this use data from the past three days, which includes information such as the **mean temperature**, **humidity**, **wind speed**, and **mean pressure**. The goal is to employ LSTM, a type of recurrent neural network, to effectively forecast the future mean temperature based on the provided historical data.\n",
    "\n",
    "**Note: You are required to perform this laboratory assignment on your local machine.**"
   ]
  },
  {
   "cell_type": "markdown",
   "metadata": {
    "id": "zBYI-EypaWom"
   },
   "source": [
    "## The Climate Dataset"
   ]
  },
  {
   "cell_type": "markdown",
   "metadata": {
    "id": "IDW_23TIK6iv"
   },
   "source": [
    "## Downloading the Climate Dataset"
   ]
  },
  {
   "cell_type": "markdown",
   "metadata": {
    "id": "iAtPoYzAZo1v"
   },
   "source": [
    "## Exploring the Climate Dataset\n",
    "This dataset consists of daily weather records for the city of Delhi spanning a period of 4 years (from 2013 to 2017). The dataset includes the following attributes:\n",
    "\n",
    "- date - date in the format YYYY-MM-DD,\n",
    "- meantemp - mean temperature averaged from multiple 3-hour intervals in a day,\n",
    "- humidity - humidity value for the day (measured in grams of water vapor per cubic meter volume of air),\n",
    "- wind_speed - wind speed measured in kilometers per hour, and\n",
    "- meanpressure - pressure reading of the weather (measured in atm).\n",
    "\n",
    "*Note: The dataset is complete, with no missing values in any of its entries.*"
   ]
  },
  {
   "cell_type": "markdown",
   "metadata": {
    "id": "DCm1qm1mZwMr"
   },
   "source": [
    "Load the dataset into a `pandas` data frame."
   ]
  },
  {
   "cell_type": "code",
   "execution_count": null,
   "metadata": {
    "id": "KMOn4fgcZn8s"
   },
   "outputs": [],
   "source": [
    "# Write your code here. Add as many boxes as you need."
   ]
  },
  {
   "metadata": {
    "ExecuteTime": {
     "end_time": "2024-12-20T09:11:18.628231Z",
     "start_time": "2024-12-20T09:11:18.617900Z"
    }
   },
   "cell_type": "code",
   "source": "data = pd.read_csv(\"./data/climate-data.csv\")",
   "outputs": [],
   "execution_count": 2
  },
  {
   "cell_type": "markdown",
   "metadata": {
    "id": "5slwyyhCKRo9"
   },
   "source": [
    "Explore the dataset using visualizations of your choice."
   ]
  },
  {
   "cell_type": "code",
   "execution_count": null,
   "metadata": {
    "id": "DFY6TKhGKOY4"
   },
   "outputs": [],
   "source": [
    "# Write your code here. Add as many boxes as you need."
   ]
  },
  {
   "metadata": {
    "ExecuteTime": {
     "end_time": "2024-12-19T19:56:06.161863Z",
     "start_time": "2024-12-19T19:56:06.140803Z"
    }
   },
   "cell_type": "code",
   "source": "data",
   "outputs": [
    {
     "data": {
      "text/plain": [
       "            date   meantemp    humidity  wind_speed  meanpressure\n",
       "0     2013-01-01  10.000000   84.500000    0.000000   1015.666667\n",
       "1     2013-01-02   7.400000   92.000000    2.980000   1017.800000\n",
       "2     2013-01-03   7.166667   87.000000    4.633333   1018.666667\n",
       "3     2013-01-04   8.666667   71.333333    1.233333   1017.166667\n",
       "4     2013-01-05   6.000000   86.833333    3.700000   1016.500000\n",
       "...          ...        ...         ...         ...           ...\n",
       "1457  2016-12-28  17.217391   68.043478    3.547826   1015.565217\n",
       "1458  2016-12-29  15.238095   87.857143    6.000000   1016.904762\n",
       "1459  2016-12-30  14.095238   89.666667    6.266667   1017.904762\n",
       "1460  2016-12-31  15.052632   87.000000    7.325000   1016.100000\n",
       "1461  2017-01-01  10.000000  100.000000    0.000000   1016.000000\n",
       "\n",
       "[1462 rows x 5 columns]"
      ],
      "text/html": [
       "<div>\n",
       "<style scoped>\n",
       "    .dataframe tbody tr th:only-of-type {\n",
       "        vertical-align: middle;\n",
       "    }\n",
       "\n",
       "    .dataframe tbody tr th {\n",
       "        vertical-align: top;\n",
       "    }\n",
       "\n",
       "    .dataframe thead th {\n",
       "        text-align: right;\n",
       "    }\n",
       "</style>\n",
       "<table border=\"1\" class=\"dataframe\">\n",
       "  <thead>\n",
       "    <tr style=\"text-align: right;\">\n",
       "      <th></th>\n",
       "      <th>date</th>\n",
       "      <th>meantemp</th>\n",
       "      <th>humidity</th>\n",
       "      <th>wind_speed</th>\n",
       "      <th>meanpressure</th>\n",
       "    </tr>\n",
       "  </thead>\n",
       "  <tbody>\n",
       "    <tr>\n",
       "      <th>0</th>\n",
       "      <td>2013-01-01</td>\n",
       "      <td>10.000000</td>\n",
       "      <td>84.500000</td>\n",
       "      <td>0.000000</td>\n",
       "      <td>1015.666667</td>\n",
       "    </tr>\n",
       "    <tr>\n",
       "      <th>1</th>\n",
       "      <td>2013-01-02</td>\n",
       "      <td>7.400000</td>\n",
       "      <td>92.000000</td>\n",
       "      <td>2.980000</td>\n",
       "      <td>1017.800000</td>\n",
       "    </tr>\n",
       "    <tr>\n",
       "      <th>2</th>\n",
       "      <td>2013-01-03</td>\n",
       "      <td>7.166667</td>\n",
       "      <td>87.000000</td>\n",
       "      <td>4.633333</td>\n",
       "      <td>1018.666667</td>\n",
       "    </tr>\n",
       "    <tr>\n",
       "      <th>3</th>\n",
       "      <td>2013-01-04</td>\n",
       "      <td>8.666667</td>\n",
       "      <td>71.333333</td>\n",
       "      <td>1.233333</td>\n",
       "      <td>1017.166667</td>\n",
       "    </tr>\n",
       "    <tr>\n",
       "      <th>4</th>\n",
       "      <td>2013-01-05</td>\n",
       "      <td>6.000000</td>\n",
       "      <td>86.833333</td>\n",
       "      <td>3.700000</td>\n",
       "      <td>1016.500000</td>\n",
       "    </tr>\n",
       "    <tr>\n",
       "      <th>...</th>\n",
       "      <td>...</td>\n",
       "      <td>...</td>\n",
       "      <td>...</td>\n",
       "      <td>...</td>\n",
       "      <td>...</td>\n",
       "    </tr>\n",
       "    <tr>\n",
       "      <th>1457</th>\n",
       "      <td>2016-12-28</td>\n",
       "      <td>17.217391</td>\n",
       "      <td>68.043478</td>\n",
       "      <td>3.547826</td>\n",
       "      <td>1015.565217</td>\n",
       "    </tr>\n",
       "    <tr>\n",
       "      <th>1458</th>\n",
       "      <td>2016-12-29</td>\n",
       "      <td>15.238095</td>\n",
       "      <td>87.857143</td>\n",
       "      <td>6.000000</td>\n",
       "      <td>1016.904762</td>\n",
       "    </tr>\n",
       "    <tr>\n",
       "      <th>1459</th>\n",
       "      <td>2016-12-30</td>\n",
       "      <td>14.095238</td>\n",
       "      <td>89.666667</td>\n",
       "      <td>6.266667</td>\n",
       "      <td>1017.904762</td>\n",
       "    </tr>\n",
       "    <tr>\n",
       "      <th>1460</th>\n",
       "      <td>2016-12-31</td>\n",
       "      <td>15.052632</td>\n",
       "      <td>87.000000</td>\n",
       "      <td>7.325000</td>\n",
       "      <td>1016.100000</td>\n",
       "    </tr>\n",
       "    <tr>\n",
       "      <th>1461</th>\n",
       "      <td>2017-01-01</td>\n",
       "      <td>10.000000</td>\n",
       "      <td>100.000000</td>\n",
       "      <td>0.000000</td>\n",
       "      <td>1016.000000</td>\n",
       "    </tr>\n",
       "  </tbody>\n",
       "</table>\n",
       "<p>1462 rows × 5 columns</p>\n",
       "</div>"
      ]
     },
     "execution_count": 115,
     "metadata": {},
     "output_type": "execute_result"
    }
   ],
   "execution_count": 115
  },
  {
   "metadata": {
    "ExecuteTime": {
     "end_time": "2024-12-20T09:11:24.480336Z",
     "start_time": "2024-12-20T09:11:24.473203Z"
    }
   },
   "cell_type": "code",
   "source": "data.set_index(\"date\", inplace=True)",
   "outputs": [],
   "execution_count": 3
  },
  {
   "metadata": {
    "ExecuteTime": {
     "end_time": "2024-12-19T19:56:07.705202Z",
     "start_time": "2024-12-19T19:56:07.684145Z"
    }
   },
   "cell_type": "code",
   "source": "data.isnull().sum() / len(data) * 100",
   "outputs": [
    {
     "data": {
      "text/plain": [
       "meantemp        0.0\n",
       "humidity        0.0\n",
       "wind_speed      0.0\n",
       "meanpressure    0.0\n",
       "dtype: float64"
      ]
     },
     "execution_count": 117,
     "metadata": {},
     "output_type": "execute_result"
    }
   ],
   "execution_count": 117
  },
  {
   "metadata": {},
   "cell_type": "code",
   "outputs": [],
   "execution_count": null,
   "source": ""
  },
  {
   "cell_type": "markdown",
   "metadata": {
    "id": "hZceBEFuiGpI"
   },
   "source": [
    "## Feauture Extraction\n",
    "Apply a lag of one, two, and three days to each feature, creating a set of features representing the meteorological conditions from the previous three days. To maintain dataset integrity, eliminate any resulting missing values at the beginning of the dataset.\n",
    "\n",
    "*Be careful when extracting the features. For each day, ensure that features are obtained sequentially, starting with those from 3 days ago, followed by features from 2 days ago, and finally, features from 1 day ago. This becomes crucial when reshaping the train and test sets later on.*\n",
    "\n",
    "Hint: Use `df['column_name'].shift(period)`. Check the documentation at https://pandas.pydata.org/docs/reference/api/pandas.DataFrame.shift.html."
   ]
  },
  {
   "cell_type": "code",
   "execution_count": null,
   "metadata": {
    "id": "S-xymWvjTFt-"
   },
   "outputs": [],
   "source": [
    "# Write your code here. Add as many boxes as you need."
   ]
  },
  {
   "metadata": {
    "ExecuteTime": {
     "end_time": "2024-12-20T09:11:27.845936Z",
     "start_time": "2024-12-20T09:11:27.829604Z"
    }
   },
   "cell_type": "code",
   "source": [
    "columns = data.columns\n",
    "lags = 3\n",
    "for i in range(1, lags + 1):\n",
    "    for col in columns:\n",
    "        data[f'{col}_prev_{i}'] = data[col].shift(i)"
   ],
   "outputs": [],
   "execution_count": 4
  },
  {
   "metadata": {
    "ExecuteTime": {
     "end_time": "2024-12-20T09:11:28.309739Z",
     "start_time": "2024-12-20T09:11:28.283515Z"
    }
   },
   "cell_type": "code",
   "source": [
    "data = data.dropna(axis=0)\n",
    "data"
   ],
   "outputs": [
    {
     "data": {
      "text/plain": [
       "             meantemp    humidity  wind_speed  meanpressure  meantemp_prev_1  \\\n",
       "date                                                                           \n",
       "2013-01-04   8.666667   71.333333    1.233333   1017.166667         7.166667   \n",
       "2013-01-05   6.000000   86.833333    3.700000   1016.500000         8.666667   \n",
       "2013-01-06   7.000000   82.800000    1.480000   1018.000000         6.000000   \n",
       "2013-01-07   7.000000   78.600000    6.300000   1020.000000         7.000000   \n",
       "2013-01-08   8.857143   63.714286    7.142857   1018.714286         7.000000   \n",
       "...               ...         ...         ...           ...              ...   \n",
       "2016-12-28  17.217391   68.043478    3.547826   1015.565217        16.850000   \n",
       "2016-12-29  15.238095   87.857143    6.000000   1016.904762        17.217391   \n",
       "2016-12-30  14.095238   89.666667    6.266667   1017.904762        15.238095   \n",
       "2016-12-31  15.052632   87.000000    7.325000   1016.100000        14.095238   \n",
       "2017-01-01  10.000000  100.000000    0.000000   1016.000000        15.052632   \n",
       "\n",
       "            humidity_prev_1  wind_speed_prev_1  meanpressure_prev_1  \\\n",
       "date                                                                  \n",
       "2013-01-04        87.000000           4.633333          1018.666667   \n",
       "2013-01-05        71.333333           1.233333          1017.166667   \n",
       "2013-01-06        86.833333           3.700000          1016.500000   \n",
       "2013-01-07        82.800000           1.480000          1018.000000   \n",
       "2013-01-08        78.600000           6.300000          1020.000000   \n",
       "...                     ...                ...                  ...   \n",
       "2016-12-28        67.550000           8.335000          1017.200000   \n",
       "2016-12-29        68.043478           3.547826          1015.565217   \n",
       "2016-12-30        87.857143           6.000000          1016.904762   \n",
       "2016-12-31        89.666667           6.266667          1017.904762   \n",
       "2017-01-01        87.000000           7.325000          1016.100000   \n",
       "\n",
       "            meantemp_prev_2  humidity_prev_2  wind_speed_prev_2  \\\n",
       "date                                                              \n",
       "2013-01-04         7.400000        92.000000           2.980000   \n",
       "2013-01-05         7.166667        87.000000           4.633333   \n",
       "2013-01-06         8.666667        71.333333           1.233333   \n",
       "2013-01-07         6.000000        86.833333           3.700000   \n",
       "2013-01-08         7.000000        82.800000           1.480000   \n",
       "...                     ...              ...                ...   \n",
       "2016-12-28        17.142857        74.857143           8.784211   \n",
       "2016-12-29        16.850000        67.550000           8.335000   \n",
       "2016-12-30        17.217391        68.043478           3.547826   \n",
       "2016-12-31        15.238095        87.857143           6.000000   \n",
       "2017-01-01        14.095238        89.666667           6.266667   \n",
       "\n",
       "            meanpressure_prev_2  meantemp_prev_3  humidity_prev_3  \\\n",
       "date                                                                \n",
       "2013-01-04          1017.800000        10.000000        84.500000   \n",
       "2013-01-05          1018.666667         7.400000        92.000000   \n",
       "2013-01-06          1017.166667         7.166667        87.000000   \n",
       "2013-01-07          1016.500000         8.666667        71.333333   \n",
       "2013-01-08          1018.000000         6.000000        86.833333   \n",
       "...                         ...              ...              ...   \n",
       "2016-12-28          1016.952381        14.000000        94.300000   \n",
       "2016-12-29          1017.200000        17.142857        74.857143   \n",
       "2016-12-30          1015.565217        16.850000        67.550000   \n",
       "2016-12-31          1016.904762        17.217391        68.043478   \n",
       "2017-01-01          1017.904762        15.238095        87.857143   \n",
       "\n",
       "            wind_speed_prev_3  meanpressure_prev_3  \n",
       "date                                                \n",
       "2013-01-04           0.000000          1015.666667  \n",
       "2013-01-05           2.980000          1017.800000  \n",
       "2013-01-06           4.633333          1018.666667  \n",
       "2013-01-07           1.233333          1017.166667  \n",
       "2013-01-08           3.700000          1016.500000  \n",
       "...                       ...                  ...  \n",
       "2016-12-28           9.085000          1014.350000  \n",
       "2016-12-29           8.784211          1016.952381  \n",
       "2016-12-30           8.335000          1017.200000  \n",
       "2016-12-31           3.547826          1015.565217  \n",
       "2017-01-01           6.000000          1016.904762  \n",
       "\n",
       "[1459 rows x 16 columns]"
      ],
      "text/html": [
       "<div>\n",
       "<style scoped>\n",
       "    .dataframe tbody tr th:only-of-type {\n",
       "        vertical-align: middle;\n",
       "    }\n",
       "\n",
       "    .dataframe tbody tr th {\n",
       "        vertical-align: top;\n",
       "    }\n",
       "\n",
       "    .dataframe thead th {\n",
       "        text-align: right;\n",
       "    }\n",
       "</style>\n",
       "<table border=\"1\" class=\"dataframe\">\n",
       "  <thead>\n",
       "    <tr style=\"text-align: right;\">\n",
       "      <th></th>\n",
       "      <th>meantemp</th>\n",
       "      <th>humidity</th>\n",
       "      <th>wind_speed</th>\n",
       "      <th>meanpressure</th>\n",
       "      <th>meantemp_prev_1</th>\n",
       "      <th>humidity_prev_1</th>\n",
       "      <th>wind_speed_prev_1</th>\n",
       "      <th>meanpressure_prev_1</th>\n",
       "      <th>meantemp_prev_2</th>\n",
       "      <th>humidity_prev_2</th>\n",
       "      <th>wind_speed_prev_2</th>\n",
       "      <th>meanpressure_prev_2</th>\n",
       "      <th>meantemp_prev_3</th>\n",
       "      <th>humidity_prev_3</th>\n",
       "      <th>wind_speed_prev_3</th>\n",
       "      <th>meanpressure_prev_3</th>\n",
       "    </tr>\n",
       "    <tr>\n",
       "      <th>date</th>\n",
       "      <th></th>\n",
       "      <th></th>\n",
       "      <th></th>\n",
       "      <th></th>\n",
       "      <th></th>\n",
       "      <th></th>\n",
       "      <th></th>\n",
       "      <th></th>\n",
       "      <th></th>\n",
       "      <th></th>\n",
       "      <th></th>\n",
       "      <th></th>\n",
       "      <th></th>\n",
       "      <th></th>\n",
       "      <th></th>\n",
       "      <th></th>\n",
       "    </tr>\n",
       "  </thead>\n",
       "  <tbody>\n",
       "    <tr>\n",
       "      <th>2013-01-04</th>\n",
       "      <td>8.666667</td>\n",
       "      <td>71.333333</td>\n",
       "      <td>1.233333</td>\n",
       "      <td>1017.166667</td>\n",
       "      <td>7.166667</td>\n",
       "      <td>87.000000</td>\n",
       "      <td>4.633333</td>\n",
       "      <td>1018.666667</td>\n",
       "      <td>7.400000</td>\n",
       "      <td>92.000000</td>\n",
       "      <td>2.980000</td>\n",
       "      <td>1017.800000</td>\n",
       "      <td>10.000000</td>\n",
       "      <td>84.500000</td>\n",
       "      <td>0.000000</td>\n",
       "      <td>1015.666667</td>\n",
       "    </tr>\n",
       "    <tr>\n",
       "      <th>2013-01-05</th>\n",
       "      <td>6.000000</td>\n",
       "      <td>86.833333</td>\n",
       "      <td>3.700000</td>\n",
       "      <td>1016.500000</td>\n",
       "      <td>8.666667</td>\n",
       "      <td>71.333333</td>\n",
       "      <td>1.233333</td>\n",
       "      <td>1017.166667</td>\n",
       "      <td>7.166667</td>\n",
       "      <td>87.000000</td>\n",
       "      <td>4.633333</td>\n",
       "      <td>1018.666667</td>\n",
       "      <td>7.400000</td>\n",
       "      <td>92.000000</td>\n",
       "      <td>2.980000</td>\n",
       "      <td>1017.800000</td>\n",
       "    </tr>\n",
       "    <tr>\n",
       "      <th>2013-01-06</th>\n",
       "      <td>7.000000</td>\n",
       "      <td>82.800000</td>\n",
       "      <td>1.480000</td>\n",
       "      <td>1018.000000</td>\n",
       "      <td>6.000000</td>\n",
       "      <td>86.833333</td>\n",
       "      <td>3.700000</td>\n",
       "      <td>1016.500000</td>\n",
       "      <td>8.666667</td>\n",
       "      <td>71.333333</td>\n",
       "      <td>1.233333</td>\n",
       "      <td>1017.166667</td>\n",
       "      <td>7.166667</td>\n",
       "      <td>87.000000</td>\n",
       "      <td>4.633333</td>\n",
       "      <td>1018.666667</td>\n",
       "    </tr>\n",
       "    <tr>\n",
       "      <th>2013-01-07</th>\n",
       "      <td>7.000000</td>\n",
       "      <td>78.600000</td>\n",
       "      <td>6.300000</td>\n",
       "      <td>1020.000000</td>\n",
       "      <td>7.000000</td>\n",
       "      <td>82.800000</td>\n",
       "      <td>1.480000</td>\n",
       "      <td>1018.000000</td>\n",
       "      <td>6.000000</td>\n",
       "      <td>86.833333</td>\n",
       "      <td>3.700000</td>\n",
       "      <td>1016.500000</td>\n",
       "      <td>8.666667</td>\n",
       "      <td>71.333333</td>\n",
       "      <td>1.233333</td>\n",
       "      <td>1017.166667</td>\n",
       "    </tr>\n",
       "    <tr>\n",
       "      <th>2013-01-08</th>\n",
       "      <td>8.857143</td>\n",
       "      <td>63.714286</td>\n",
       "      <td>7.142857</td>\n",
       "      <td>1018.714286</td>\n",
       "      <td>7.000000</td>\n",
       "      <td>78.600000</td>\n",
       "      <td>6.300000</td>\n",
       "      <td>1020.000000</td>\n",
       "      <td>7.000000</td>\n",
       "      <td>82.800000</td>\n",
       "      <td>1.480000</td>\n",
       "      <td>1018.000000</td>\n",
       "      <td>6.000000</td>\n",
       "      <td>86.833333</td>\n",
       "      <td>3.700000</td>\n",
       "      <td>1016.500000</td>\n",
       "    </tr>\n",
       "    <tr>\n",
       "      <th>...</th>\n",
       "      <td>...</td>\n",
       "      <td>...</td>\n",
       "      <td>...</td>\n",
       "      <td>...</td>\n",
       "      <td>...</td>\n",
       "      <td>...</td>\n",
       "      <td>...</td>\n",
       "      <td>...</td>\n",
       "      <td>...</td>\n",
       "      <td>...</td>\n",
       "      <td>...</td>\n",
       "      <td>...</td>\n",
       "      <td>...</td>\n",
       "      <td>...</td>\n",
       "      <td>...</td>\n",
       "      <td>...</td>\n",
       "    </tr>\n",
       "    <tr>\n",
       "      <th>2016-12-28</th>\n",
       "      <td>17.217391</td>\n",
       "      <td>68.043478</td>\n",
       "      <td>3.547826</td>\n",
       "      <td>1015.565217</td>\n",
       "      <td>16.850000</td>\n",
       "      <td>67.550000</td>\n",
       "      <td>8.335000</td>\n",
       "      <td>1017.200000</td>\n",
       "      <td>17.142857</td>\n",
       "      <td>74.857143</td>\n",
       "      <td>8.784211</td>\n",
       "      <td>1016.952381</td>\n",
       "      <td>14.000000</td>\n",
       "      <td>94.300000</td>\n",
       "      <td>9.085000</td>\n",
       "      <td>1014.350000</td>\n",
       "    </tr>\n",
       "    <tr>\n",
       "      <th>2016-12-29</th>\n",
       "      <td>15.238095</td>\n",
       "      <td>87.857143</td>\n",
       "      <td>6.000000</td>\n",
       "      <td>1016.904762</td>\n",
       "      <td>17.217391</td>\n",
       "      <td>68.043478</td>\n",
       "      <td>3.547826</td>\n",
       "      <td>1015.565217</td>\n",
       "      <td>16.850000</td>\n",
       "      <td>67.550000</td>\n",
       "      <td>8.335000</td>\n",
       "      <td>1017.200000</td>\n",
       "      <td>17.142857</td>\n",
       "      <td>74.857143</td>\n",
       "      <td>8.784211</td>\n",
       "      <td>1016.952381</td>\n",
       "    </tr>\n",
       "    <tr>\n",
       "      <th>2016-12-30</th>\n",
       "      <td>14.095238</td>\n",
       "      <td>89.666667</td>\n",
       "      <td>6.266667</td>\n",
       "      <td>1017.904762</td>\n",
       "      <td>15.238095</td>\n",
       "      <td>87.857143</td>\n",
       "      <td>6.000000</td>\n",
       "      <td>1016.904762</td>\n",
       "      <td>17.217391</td>\n",
       "      <td>68.043478</td>\n",
       "      <td>3.547826</td>\n",
       "      <td>1015.565217</td>\n",
       "      <td>16.850000</td>\n",
       "      <td>67.550000</td>\n",
       "      <td>8.335000</td>\n",
       "      <td>1017.200000</td>\n",
       "    </tr>\n",
       "    <tr>\n",
       "      <th>2016-12-31</th>\n",
       "      <td>15.052632</td>\n",
       "      <td>87.000000</td>\n",
       "      <td>7.325000</td>\n",
       "      <td>1016.100000</td>\n",
       "      <td>14.095238</td>\n",
       "      <td>89.666667</td>\n",
       "      <td>6.266667</td>\n",
       "      <td>1017.904762</td>\n",
       "      <td>15.238095</td>\n",
       "      <td>87.857143</td>\n",
       "      <td>6.000000</td>\n",
       "      <td>1016.904762</td>\n",
       "      <td>17.217391</td>\n",
       "      <td>68.043478</td>\n",
       "      <td>3.547826</td>\n",
       "      <td>1015.565217</td>\n",
       "    </tr>\n",
       "    <tr>\n",
       "      <th>2017-01-01</th>\n",
       "      <td>10.000000</td>\n",
       "      <td>100.000000</td>\n",
       "      <td>0.000000</td>\n",
       "      <td>1016.000000</td>\n",
       "      <td>15.052632</td>\n",
       "      <td>87.000000</td>\n",
       "      <td>7.325000</td>\n",
       "      <td>1016.100000</td>\n",
       "      <td>14.095238</td>\n",
       "      <td>89.666667</td>\n",
       "      <td>6.266667</td>\n",
       "      <td>1017.904762</td>\n",
       "      <td>15.238095</td>\n",
       "      <td>87.857143</td>\n",
       "      <td>6.000000</td>\n",
       "      <td>1016.904762</td>\n",
       "    </tr>\n",
       "  </tbody>\n",
       "</table>\n",
       "<p>1459 rows × 16 columns</p>\n",
       "</div>"
      ]
     },
     "execution_count": 5,
     "metadata": {},
     "output_type": "execute_result"
    }
   ],
   "execution_count": 5
  },
  {
   "cell_type": "markdown",
   "metadata": {
    "id": "tls69_PrbJKW"
   },
   "source": [
    "## Dataset Splitting\n",
    "Partition the dataset into training and testing sets with an 90:10 ratio.\n",
    "\n",
    "**WARNING: DO NOT SHUFFLE THE DATASET.**\n",
    "\n"
   ]
  },
  {
   "cell_type": "code",
   "execution_count": null,
   "metadata": {
    "id": "PjGGGMxebeoB"
   },
   "outputs": [],
   "source": [
    "# Write your code here. Add as many boxes as you need."
   ]
  },
  {
   "metadata": {
    "ExecuteTime": {
     "end_time": "2024-12-20T09:12:50.238429Z",
     "start_time": "2024-12-20T09:12:50.229116Z"
    }
   },
   "cell_type": "code",
   "source": [
    "# X, Y = data.drop(columns='meantemp'), data['meantemp']\n",
    "X, Y = data.drop(columns=['meantemp', 'humidity', 'wind_speed', 'meanpressure']), data['meantemp']\n",
    "X_train, X_test, Y_train, Y_test = train_test_split(X, Y, test_size=0.2, random_state=42,shuffle=False)"
   ],
   "outputs": [],
   "execution_count": 19
  },
  {
   "metadata": {
    "ExecuteTime": {
     "end_time": "2024-12-20T09:11:33.706200Z",
     "start_time": "2024-12-20T09:11:33.677898Z"
    }
   },
   "cell_type": "code",
   "source": "X_train",
   "outputs": [
    {
     "data": {
      "text/plain": [
       "            meantemp_prev_1  humidity_prev_1  wind_speed_prev_1  \\\n",
       "date                                                              \n",
       "2013-01-04         7.166667        87.000000           4.633333   \n",
       "2013-01-05         8.666667        71.333333           1.233333   \n",
       "2013-01-06         6.000000        86.833333           3.700000   \n",
       "2013-01-07         7.000000        82.800000           1.480000   \n",
       "2013-01-08         7.000000        78.600000           6.300000   \n",
       "...                     ...              ...                ...   \n",
       "2016-03-11        25.562500        57.437500           7.981250   \n",
       "2016-03-12        25.066667        67.800000           6.546667   \n",
       "2016-03-13        24.562500        66.937500           9.487500   \n",
       "2016-03-14        24.250000        65.187500           6.843750   \n",
       "2016-03-15        22.375000        66.000000           6.275000   \n",
       "\n",
       "            meanpressure_prev_1  meantemp_prev_2  humidity_prev_2  \\\n",
       "date                                                                \n",
       "2013-01-04          1018.666667         7.400000        92.000000   \n",
       "2013-01-05          1017.166667         7.166667        87.000000   \n",
       "2013-01-06          1016.500000         8.666667        71.333333   \n",
       "2013-01-07          1018.000000         6.000000        86.833333   \n",
       "2013-01-08          1020.000000         7.000000        82.800000   \n",
       "...                         ...              ...              ...   \n",
       "2016-03-11          1013.187500        24.000000        57.562500   \n",
       "2016-03-12          1012.533333        25.562500        57.437500   \n",
       "2016-03-13          1009.562500        25.066667        67.800000   \n",
       "2016-03-14          1011.187500        24.562500        66.937500   \n",
       "2016-03-15          1014.312500        24.250000        65.187500   \n",
       "\n",
       "            wind_speed_prev_2  meanpressure_prev_2  meantemp_prev_3  \\\n",
       "date                                                                  \n",
       "2013-01-04           2.980000          1017.800000        10.000000   \n",
       "2013-01-05           4.633333          1018.666667         7.400000   \n",
       "2013-01-06           1.233333          1017.166667         7.166667   \n",
       "2013-01-07           3.700000          1016.500000         8.666667   \n",
       "2013-01-08           1.480000          1018.000000         6.000000   \n",
       "...                       ...                  ...              ...   \n",
       "2016-03-11           9.375000          1012.062500        23.428571   \n",
       "2016-03-12           7.981250          1013.187500        24.000000   \n",
       "2016-03-13           6.546667          1012.533333        25.562500   \n",
       "2016-03-14           9.487500          1009.562500        25.066667   \n",
       "2016-03-15           6.843750          1011.187500        24.562500   \n",
       "\n",
       "            humidity_prev_3  wind_speed_prev_3  meanpressure_prev_3  \n",
       "date                                                                 \n",
       "2013-01-04        84.500000           0.000000          1015.666667  \n",
       "2013-01-05        92.000000           2.980000          1017.800000  \n",
       "2013-01-06        87.000000           4.633333          1018.666667  \n",
       "2013-01-07        71.333333           1.233333          1017.166667  \n",
       "2013-01-08        86.833333           3.700000          1016.500000  \n",
       "...                     ...                ...                  ...  \n",
       "2016-03-11        60.214286           6.742857          1011.642857  \n",
       "2016-03-12        57.562500           9.375000          1012.062500  \n",
       "2016-03-13        57.437500           7.981250          1013.187500  \n",
       "2016-03-14        67.800000           6.546667          1012.533333  \n",
       "2016-03-15        66.937500           9.487500          1009.562500  \n",
       "\n",
       "[1167 rows x 12 columns]"
      ],
      "text/html": [
       "<div>\n",
       "<style scoped>\n",
       "    .dataframe tbody tr th:only-of-type {\n",
       "        vertical-align: middle;\n",
       "    }\n",
       "\n",
       "    .dataframe tbody tr th {\n",
       "        vertical-align: top;\n",
       "    }\n",
       "\n",
       "    .dataframe thead th {\n",
       "        text-align: right;\n",
       "    }\n",
       "</style>\n",
       "<table border=\"1\" class=\"dataframe\">\n",
       "  <thead>\n",
       "    <tr style=\"text-align: right;\">\n",
       "      <th></th>\n",
       "      <th>meantemp_prev_1</th>\n",
       "      <th>humidity_prev_1</th>\n",
       "      <th>wind_speed_prev_1</th>\n",
       "      <th>meanpressure_prev_1</th>\n",
       "      <th>meantemp_prev_2</th>\n",
       "      <th>humidity_prev_2</th>\n",
       "      <th>wind_speed_prev_2</th>\n",
       "      <th>meanpressure_prev_2</th>\n",
       "      <th>meantemp_prev_3</th>\n",
       "      <th>humidity_prev_3</th>\n",
       "      <th>wind_speed_prev_3</th>\n",
       "      <th>meanpressure_prev_3</th>\n",
       "    </tr>\n",
       "    <tr>\n",
       "      <th>date</th>\n",
       "      <th></th>\n",
       "      <th></th>\n",
       "      <th></th>\n",
       "      <th></th>\n",
       "      <th></th>\n",
       "      <th></th>\n",
       "      <th></th>\n",
       "      <th></th>\n",
       "      <th></th>\n",
       "      <th></th>\n",
       "      <th></th>\n",
       "      <th></th>\n",
       "    </tr>\n",
       "  </thead>\n",
       "  <tbody>\n",
       "    <tr>\n",
       "      <th>2013-01-04</th>\n",
       "      <td>7.166667</td>\n",
       "      <td>87.000000</td>\n",
       "      <td>4.633333</td>\n",
       "      <td>1018.666667</td>\n",
       "      <td>7.400000</td>\n",
       "      <td>92.000000</td>\n",
       "      <td>2.980000</td>\n",
       "      <td>1017.800000</td>\n",
       "      <td>10.000000</td>\n",
       "      <td>84.500000</td>\n",
       "      <td>0.000000</td>\n",
       "      <td>1015.666667</td>\n",
       "    </tr>\n",
       "    <tr>\n",
       "      <th>2013-01-05</th>\n",
       "      <td>8.666667</td>\n",
       "      <td>71.333333</td>\n",
       "      <td>1.233333</td>\n",
       "      <td>1017.166667</td>\n",
       "      <td>7.166667</td>\n",
       "      <td>87.000000</td>\n",
       "      <td>4.633333</td>\n",
       "      <td>1018.666667</td>\n",
       "      <td>7.400000</td>\n",
       "      <td>92.000000</td>\n",
       "      <td>2.980000</td>\n",
       "      <td>1017.800000</td>\n",
       "    </tr>\n",
       "    <tr>\n",
       "      <th>2013-01-06</th>\n",
       "      <td>6.000000</td>\n",
       "      <td>86.833333</td>\n",
       "      <td>3.700000</td>\n",
       "      <td>1016.500000</td>\n",
       "      <td>8.666667</td>\n",
       "      <td>71.333333</td>\n",
       "      <td>1.233333</td>\n",
       "      <td>1017.166667</td>\n",
       "      <td>7.166667</td>\n",
       "      <td>87.000000</td>\n",
       "      <td>4.633333</td>\n",
       "      <td>1018.666667</td>\n",
       "    </tr>\n",
       "    <tr>\n",
       "      <th>2013-01-07</th>\n",
       "      <td>7.000000</td>\n",
       "      <td>82.800000</td>\n",
       "      <td>1.480000</td>\n",
       "      <td>1018.000000</td>\n",
       "      <td>6.000000</td>\n",
       "      <td>86.833333</td>\n",
       "      <td>3.700000</td>\n",
       "      <td>1016.500000</td>\n",
       "      <td>8.666667</td>\n",
       "      <td>71.333333</td>\n",
       "      <td>1.233333</td>\n",
       "      <td>1017.166667</td>\n",
       "    </tr>\n",
       "    <tr>\n",
       "      <th>2013-01-08</th>\n",
       "      <td>7.000000</td>\n",
       "      <td>78.600000</td>\n",
       "      <td>6.300000</td>\n",
       "      <td>1020.000000</td>\n",
       "      <td>7.000000</td>\n",
       "      <td>82.800000</td>\n",
       "      <td>1.480000</td>\n",
       "      <td>1018.000000</td>\n",
       "      <td>6.000000</td>\n",
       "      <td>86.833333</td>\n",
       "      <td>3.700000</td>\n",
       "      <td>1016.500000</td>\n",
       "    </tr>\n",
       "    <tr>\n",
       "      <th>...</th>\n",
       "      <td>...</td>\n",
       "      <td>...</td>\n",
       "      <td>...</td>\n",
       "      <td>...</td>\n",
       "      <td>...</td>\n",
       "      <td>...</td>\n",
       "      <td>...</td>\n",
       "      <td>...</td>\n",
       "      <td>...</td>\n",
       "      <td>...</td>\n",
       "      <td>...</td>\n",
       "      <td>...</td>\n",
       "    </tr>\n",
       "    <tr>\n",
       "      <th>2016-03-11</th>\n",
       "      <td>25.562500</td>\n",
       "      <td>57.437500</td>\n",
       "      <td>7.981250</td>\n",
       "      <td>1013.187500</td>\n",
       "      <td>24.000000</td>\n",
       "      <td>57.562500</td>\n",
       "      <td>9.375000</td>\n",
       "      <td>1012.062500</td>\n",
       "      <td>23.428571</td>\n",
       "      <td>60.214286</td>\n",
       "      <td>6.742857</td>\n",
       "      <td>1011.642857</td>\n",
       "    </tr>\n",
       "    <tr>\n",
       "      <th>2016-03-12</th>\n",
       "      <td>25.066667</td>\n",
       "      <td>67.800000</td>\n",
       "      <td>6.546667</td>\n",
       "      <td>1012.533333</td>\n",
       "      <td>25.562500</td>\n",
       "      <td>57.437500</td>\n",
       "      <td>7.981250</td>\n",
       "      <td>1013.187500</td>\n",
       "      <td>24.000000</td>\n",
       "      <td>57.562500</td>\n",
       "      <td>9.375000</td>\n",
       "      <td>1012.062500</td>\n",
       "    </tr>\n",
       "    <tr>\n",
       "      <th>2016-03-13</th>\n",
       "      <td>24.562500</td>\n",
       "      <td>66.937500</td>\n",
       "      <td>9.487500</td>\n",
       "      <td>1009.562500</td>\n",
       "      <td>25.066667</td>\n",
       "      <td>67.800000</td>\n",
       "      <td>6.546667</td>\n",
       "      <td>1012.533333</td>\n",
       "      <td>25.562500</td>\n",
       "      <td>57.437500</td>\n",
       "      <td>7.981250</td>\n",
       "      <td>1013.187500</td>\n",
       "    </tr>\n",
       "    <tr>\n",
       "      <th>2016-03-14</th>\n",
       "      <td>24.250000</td>\n",
       "      <td>65.187500</td>\n",
       "      <td>6.843750</td>\n",
       "      <td>1011.187500</td>\n",
       "      <td>24.562500</td>\n",
       "      <td>66.937500</td>\n",
       "      <td>9.487500</td>\n",
       "      <td>1009.562500</td>\n",
       "      <td>25.066667</td>\n",
       "      <td>67.800000</td>\n",
       "      <td>6.546667</td>\n",
       "      <td>1012.533333</td>\n",
       "    </tr>\n",
       "    <tr>\n",
       "      <th>2016-03-15</th>\n",
       "      <td>22.375000</td>\n",
       "      <td>66.000000</td>\n",
       "      <td>6.275000</td>\n",
       "      <td>1014.312500</td>\n",
       "      <td>24.250000</td>\n",
       "      <td>65.187500</td>\n",
       "      <td>6.843750</td>\n",
       "      <td>1011.187500</td>\n",
       "      <td>24.562500</td>\n",
       "      <td>66.937500</td>\n",
       "      <td>9.487500</td>\n",
       "      <td>1009.562500</td>\n",
       "    </tr>\n",
       "  </tbody>\n",
       "</table>\n",
       "<p>1167 rows × 12 columns</p>\n",
       "</div>"
      ]
     },
     "execution_count": 7,
     "metadata": {},
     "output_type": "execute_result"
    }
   ],
   "execution_count": 7
  },
  {
   "cell_type": "markdown",
   "metadata": {
    "id": "lwhDHS-nRRhW"
   },
   "source": [
    "## Feauture Scaling\n",
    "Scale the extracted features using an appropriate scaler."
   ]
  },
  {
   "cell_type": "code",
   "execution_count": null,
   "metadata": {
    "id": "xlvbs68wRaVj"
   },
   "outputs": [],
   "source": [
    "# Write your code here. Add as many boxes as you need."
   ]
  },
  {
   "metadata": {
    "ExecuteTime": {
     "end_time": "2024-12-20T09:12:54.671616Z",
     "start_time": "2024-12-20T09:12:54.658315Z"
    }
   },
   "cell_type": "code",
   "source": [
    "scaler = MinMaxScaler()\n",
    "X_train = scaler.fit_transform(X_train)\n",
    "X_test = scaler.transform(X_test)"
   ],
   "outputs": [],
   "execution_count": 20
  },
  {
   "cell_type": "markdown",
   "metadata": {
    "id": "xI53ZRmfW8WG"
   },
   "source": [
    "## Feature Reshaping"
   ]
  },
  {
   "cell_type": "markdown",
   "metadata": {
    "id": "sK9naW8AXVaU"
   },
   "source": [
    "Reshape the feature dimensions into the shape `(samples, timesteps, features)`."
   ]
  },
  {
   "cell_type": "code",
   "execution_count": null,
   "metadata": {
    "id": "3D-1-V9bW8tl"
   },
   "outputs": [],
   "source": [
    "# Write your code here. Add as many boxes as you need."
   ]
  },
  {
   "metadata": {
    "ExecuteTime": {
     "end_time": "2024-12-20T09:12:57.422096Z",
     "start_time": "2024-12-20T09:12:57.409711Z"
    }
   },
   "cell_type": "code",
   "source": [
    "features_per_time_step = X_train.shape[1] // lags\n",
    "features_per_time_step"
   ],
   "outputs": [
    {
     "data": {
      "text/plain": [
       "4"
      ]
     },
     "execution_count": 21,
     "metadata": {},
     "output_type": "execute_result"
    }
   ],
   "execution_count": 21
  },
  {
   "metadata": {
    "ExecuteTime": {
     "end_time": "2024-12-20T09:12:57.869165Z",
     "start_time": "2024-12-20T09:12:57.859066Z"
    }
   },
   "cell_type": "code",
   "source": "X_train.shape",
   "outputs": [
    {
     "data": {
      "text/plain": [
       "(1167, 12)"
      ]
     },
     "execution_count": 22,
     "metadata": {},
     "output_type": "execute_result"
    }
   ],
   "execution_count": 22
  },
  {
   "metadata": {
    "ExecuteTime": {
     "end_time": "2024-12-20T09:12:58.054613Z",
     "start_time": "2024-12-20T09:12:58.042464Z"
    }
   },
   "cell_type": "code",
   "source": "(X_train.shape[0], lags, features_per_time_step) # (samples, timesteps, features)",
   "outputs": [
    {
     "data": {
      "text/plain": [
       "(1167, 3, 4)"
      ]
     },
     "execution_count": 23,
     "metadata": {},
     "output_type": "execute_result"
    }
   ],
   "execution_count": 23
  },
  {
   "metadata": {
    "ExecuteTime": {
     "end_time": "2024-12-20T09:12:58.561984Z",
     "start_time": "2024-12-20T09:12:58.554558Z"
    }
   },
   "cell_type": "code",
   "source": [
    "X_train = X_train.reshape(X_train.shape[0], lags, features_per_time_step)\n",
    "X_test = X_test.reshape(X_test.shape[0], lags, features_per_time_step)"
   ],
   "outputs": [],
   "execution_count": 24
  },
  {
   "metadata": {
    "ExecuteTime": {
     "end_time": "2024-12-19T19:56:23.919979Z",
     "start_time": "2024-12-19T19:56:23.907950Z"
    }
   },
   "cell_type": "code",
   "source": "Y_train.shape",
   "outputs": [
    {
     "data": {
      "text/plain": [
       "(1167,)"
      ]
     },
     "execution_count": 127,
     "metadata": {},
     "output_type": "execute_result"
    }
   ],
   "execution_count": 127
  },
  {
   "cell_type": "markdown",
   "metadata": {
    "id": "VIkAR1Hibiwr"
   },
   "source": [
    "## Long Short-Term Memory (LSTM) Network\n",
    "Build a Long Short-Term Memory (LSTM) Network for forecasting the current **mean temperature** based on the extracted features from the previous three days."
   ]
  },
  {
   "cell_type": "markdown",
   "metadata": {
    "id": "qWn1pafKbnxH"
   },
   "source": [
    "Define the forecasting model using the **Keras Sequential API** (`keras.models.Sequential`), incorporating one or more LSTM layers along with additional relevant layers (`keras.layers`). Be cautious when specifying the configuration of the final layer to ensure proper model output for the forecasting task."
   ]
  },
  {
   "cell_type": "code",
   "execution_count": null,
   "metadata": {
    "id": "IXFIrQthbnkb"
   },
   "outputs": [],
   "source": [
    "# Write your code here. Add as many boxes as you need."
   ]
  },
  {
   "metadata": {
    "ExecuteTime": {
     "end_time": "2024-12-20T09:13:07.009681Z",
     "start_time": "2024-12-20T09:13:06.969286Z"
    }
   },
   "cell_type": "code",
   "source": [
    "model = Sequential([\n",
    "    Input(shape=(3, 4)), # (timesteps, features)\n",
    "    LSTM(64, activation=\"relu\", return_sequences=True),\n",
    "    LSTM(32, activation=\"relu\"),   \n",
    "    Dense(1, activation=\"linear\")\n",
    "])"
   ],
   "outputs": [],
   "execution_count": 25
  },
  {
   "cell_type": "markdown",
   "metadata": {
    "id": "tAM-g59xSO4V"
   },
   "source": [
    "Compile the previously defined model specifying **loss function** (`keras.losses`), **optimizer** (`keras.optimizers`) and **evaluation metrics** (`keras.metics`)."
   ]
  },
  {
   "cell_type": "code",
   "metadata": {
    "id": "ZBtCCy9VSQpF",
    "ExecuteTime": {
     "end_time": "2024-12-19T19:32:38.241538Z",
     "start_time": "2024-12-19T19:32:38.237012Z"
    }
   },
   "source": [
    "# Write your code here. Add as many boxes as you need."
   ],
   "outputs": [],
   "execution_count": 66
  },
  {
   "metadata": {
    "ExecuteTime": {
     "end_time": "2024-12-20T09:16:42.804553Z",
     "start_time": "2024-12-20T09:16:42.782340Z"
    }
   },
   "cell_type": "code",
   "source": [
    "model.compile(\n",
    "    loss='mean_squared_error',\n",
    "    optimizer='adam',\n",
    "    metrics=[\"mean_squared_error\"]\n",
    ")"
   ],
   "outputs": [],
   "execution_count": 42
  },
  {
   "metadata": {
    "ExecuteTime": {
     "end_time": "2024-12-20T09:17:52.823149Z",
     "start_time": "2024-12-20T09:17:42.298757Z"
    }
   },
   "cell_type": "code",
   "source": [
    "history = model.fit(\n",
    "    X_train,\n",
    "    Y_train,\n",
    "    epochs=40,\n",
    "    batch_size=16,\n",
    "    validation_split=0.2,\n",
    "    shuffle=False \n",
    ")"
   ],
   "outputs": [
    {
     "name": "stdout",
     "output_type": "stream",
     "text": [
      "Epoch 1/40\n",
      "\u001B[1m59/59\u001B[0m \u001B[32m━━━━━━━━━━━━━━━━━━━━\u001B[0m\u001B[37m\u001B[0m \u001B[1m0s\u001B[0m 5ms/step - loss: 5.1580 - mean_squared_error: 5.1580 - val_loss: 1.6650 - val_mean_squared_error: 1.6650\n",
      "Epoch 2/40\n",
      "\u001B[1m59/59\u001B[0m \u001B[32m━━━━━━━━━━━━━━━━━━━━\u001B[0m\u001B[37m\u001B[0m \u001B[1m0s\u001B[0m 4ms/step - loss: 3.5885 - mean_squared_error: 3.5885 - val_loss: 3.4090 - val_mean_squared_error: 3.4090\n",
      "Epoch 3/40\n",
      "\u001B[1m59/59\u001B[0m \u001B[32m━━━━━━━━━━━━━━━━━━━━\u001B[0m\u001B[37m\u001B[0m \u001B[1m0s\u001B[0m 4ms/step - loss: 4.3389 - mean_squared_error: 4.3389 - val_loss: 1.7833 - val_mean_squared_error: 1.7833\n",
      "Epoch 4/40\n",
      "\u001B[1m59/59\u001B[0m \u001B[32m━━━━━━━━━━━━━━━━━━━━\u001B[0m\u001B[37m\u001B[0m \u001B[1m0s\u001B[0m 4ms/step - loss: 3.1546 - mean_squared_error: 3.1546 - val_loss: 2.8301 - val_mean_squared_error: 2.8301\n",
      "Epoch 5/40\n",
      "\u001B[1m59/59\u001B[0m \u001B[32m━━━━━━━━━━━━━━━━━━━━\u001B[0m\u001B[37m\u001B[0m \u001B[1m0s\u001B[0m 4ms/step - loss: 3.6207 - mean_squared_error: 3.6207 - val_loss: 2.0384 - val_mean_squared_error: 2.0384\n",
      "Epoch 6/40\n",
      "\u001B[1m59/59\u001B[0m \u001B[32m━━━━━━━━━━━━━━━━━━━━\u001B[0m\u001B[37m\u001B[0m \u001B[1m0s\u001B[0m 4ms/step - loss: 3.1031 - mean_squared_error: 3.1031 - val_loss: 2.7242 - val_mean_squared_error: 2.7242\n",
      "Epoch 7/40\n",
      "\u001B[1m59/59\u001B[0m \u001B[32m━━━━━━━━━━━━━━━━━━━━\u001B[0m\u001B[37m\u001B[0m \u001B[1m0s\u001B[0m 4ms/step - loss: 3.4183 - mean_squared_error: 3.4183 - val_loss: 2.1420 - val_mean_squared_error: 2.1420\n",
      "Epoch 8/40\n",
      "\u001B[1m59/59\u001B[0m \u001B[32m━━━━━━━━━━━━━━━━━━━━\u001B[0m\u001B[37m\u001B[0m \u001B[1m0s\u001B[0m 4ms/step - loss: 3.1175 - mean_squared_error: 3.1175 - val_loss: 2.7815 - val_mean_squared_error: 2.7815\n",
      "Epoch 9/40\n",
      "\u001B[1m59/59\u001B[0m \u001B[32m━━━━━━━━━━━━━━━━━━━━\u001B[0m\u001B[37m\u001B[0m \u001B[1m0s\u001B[0m 4ms/step - loss: 3.3903 - mean_squared_error: 3.3903 - val_loss: 2.1593 - val_mean_squared_error: 2.1593\n",
      "Epoch 10/40\n",
      "\u001B[1m59/59\u001B[0m \u001B[32m━━━━━━━━━━━━━━━━━━━━\u001B[0m\u001B[37m\u001B[0m \u001B[1m0s\u001B[0m 4ms/step - loss: 3.1218 - mean_squared_error: 3.1218 - val_loss: 2.9063 - val_mean_squared_error: 2.9063\n",
      "Epoch 11/40\n",
      "\u001B[1m59/59\u001B[0m \u001B[32m━━━━━━━━━━━━━━━━━━━━\u001B[0m\u001B[37m\u001B[0m \u001B[1m0s\u001B[0m 4ms/step - loss: 3.4194 - mean_squared_error: 3.4194 - val_loss: 2.0883 - val_mean_squared_error: 2.0883\n",
      "Epoch 12/40\n",
      "\u001B[1m59/59\u001B[0m \u001B[32m━━━━━━━━━━━━━━━━━━━━\u001B[0m\u001B[37m\u001B[0m \u001B[1m0s\u001B[0m 4ms/step - loss: 3.1144 - mean_squared_error: 3.1144 - val_loss: 3.1674 - val_mean_squared_error: 3.1674\n",
      "Epoch 13/40\n",
      "\u001B[1m59/59\u001B[0m \u001B[32m━━━━━━━━━━━━━━━━━━━━\u001B[0m\u001B[37m\u001B[0m \u001B[1m0s\u001B[0m 4ms/step - loss: 3.5369 - mean_squared_error: 3.5369 - val_loss: 1.8831 - val_mean_squared_error: 1.8831\n",
      "Epoch 14/40\n",
      "\u001B[1m59/59\u001B[0m \u001B[32m━━━━━━━━━━━━━━━━━━━━\u001B[0m\u001B[37m\u001B[0m \u001B[1m0s\u001B[0m 4ms/step - loss: 3.1176 - mean_squared_error: 3.1176 - val_loss: 3.8246 - val_mean_squared_error: 3.8246\n",
      "Epoch 15/40\n",
      "\u001B[1m59/59\u001B[0m \u001B[32m━━━━━━━━━━━━━━━━━━━━\u001B[0m\u001B[37m\u001B[0m \u001B[1m0s\u001B[0m 4ms/step - loss: 3.8898 - mean_squared_error: 3.8898 - val_loss: 1.6540 - val_mean_squared_error: 1.6540\n",
      "Epoch 16/40\n",
      "\u001B[1m59/59\u001B[0m \u001B[32m━━━━━━━━━━━━━━━━━━━━\u001B[0m\u001B[37m\u001B[0m \u001B[1m0s\u001B[0m 4ms/step - loss: 3.2671 - mean_squared_error: 3.2671 - val_loss: 4.8490 - val_mean_squared_error: 4.8490\n",
      "Epoch 17/40\n",
      "\u001B[1m59/59\u001B[0m \u001B[32m━━━━━━━━━━━━━━━━━━━━\u001B[0m\u001B[37m\u001B[0m \u001B[1m0s\u001B[0m 4ms/step - loss: 4.6700 - mean_squared_error: 4.6700 - val_loss: 1.6373 - val_mean_squared_error: 1.6373\n",
      "Epoch 18/40\n",
      "\u001B[1m59/59\u001B[0m \u001B[32m━━━━━━━━━━━━━━━━━━━━\u001B[0m\u001B[37m\u001B[0m \u001B[1m0s\u001B[0m 4ms/step - loss: 3.5979 - mean_squared_error: 3.5979 - val_loss: 4.3874 - val_mean_squared_error: 4.3874\n",
      "Epoch 19/40\n",
      "\u001B[1m59/59\u001B[0m \u001B[32m━━━━━━━━━━━━━━━━━━━━\u001B[0m\u001B[37m\u001B[0m \u001B[1m0s\u001B[0m 4ms/step - loss: 4.8990 - mean_squared_error: 4.8990 - val_loss: 1.7006 - val_mean_squared_error: 1.7006\n",
      "Epoch 20/40\n",
      "\u001B[1m59/59\u001B[0m \u001B[32m━━━━━━━━━━━━━━━━━━━━\u001B[0m\u001B[37m\u001B[0m \u001B[1m0s\u001B[0m 4ms/step - loss: 3.3757 - mean_squared_error: 3.3757 - val_loss: 3.4242 - val_mean_squared_error: 3.4242\n",
      "Epoch 21/40\n",
      "\u001B[1m59/59\u001B[0m \u001B[32m━━━━━━━━━━━━━━━━━━━━\u001B[0m\u001B[37m\u001B[0m \u001B[1m0s\u001B[0m 4ms/step - loss: 4.1899 - mean_squared_error: 4.1899 - val_loss: 1.9167 - val_mean_squared_error: 1.9167\n",
      "Epoch 22/40\n",
      "\u001B[1m59/59\u001B[0m \u001B[32m━━━━━━━━━━━━━━━━━━━━\u001B[0m\u001B[37m\u001B[0m \u001B[1m0s\u001B[0m 4ms/step - loss: 3.1191 - mean_squared_error: 3.1191 - val_loss: 2.8752 - val_mean_squared_error: 2.8752\n",
      "Epoch 23/40\n",
      "\u001B[1m59/59\u001B[0m \u001B[32m━━━━━━━━━━━━━━━━━━━━\u001B[0m\u001B[37m\u001B[0m \u001B[1m0s\u001B[0m 4ms/step - loss: 3.5781 - mean_squared_error: 3.5781 - val_loss: 2.1175 - val_mean_squared_error: 2.1175\n",
      "Epoch 24/40\n",
      "\u001B[1m59/59\u001B[0m \u001B[32m━━━━━━━━━━━━━━━━━━━━\u001B[0m\u001B[37m\u001B[0m \u001B[1m0s\u001B[0m 4ms/step - loss: 3.0998 - mean_squared_error: 3.0998 - val_loss: 2.7928 - val_mean_squared_error: 2.7928\n",
      "Epoch 25/40\n",
      "\u001B[1m59/59\u001B[0m \u001B[32m━━━━━━━━━━━━━━━━━━━━\u001B[0m\u001B[37m\u001B[0m \u001B[1m0s\u001B[0m 4ms/step - loss: 3.4086 - mean_squared_error: 3.4086 - val_loss: 2.2438 - val_mean_squared_error: 2.2438\n",
      "Epoch 26/40\n",
      "\u001B[1m59/59\u001B[0m \u001B[32m━━━━━━━━━━━━━━━━━━━━\u001B[0m\u001B[37m\u001B[0m \u001B[1m0s\u001B[0m 4ms/step - loss: 3.1222 - mean_squared_error: 3.1222 - val_loss: 2.8759 - val_mean_squared_error: 2.8759\n",
      "Epoch 27/40\n",
      "\u001B[1m59/59\u001B[0m \u001B[32m━━━━━━━━━━━━━━━━━━━━\u001B[0m\u001B[37m\u001B[0m \u001B[1m0s\u001B[0m 4ms/step - loss: 3.3878 - mean_squared_error: 3.3878 - val_loss: 2.2827 - val_mean_squared_error: 2.2827\n",
      "Epoch 28/40\n",
      "\u001B[1m59/59\u001B[0m \u001B[32m━━━━━━━━━━━━━━━━━━━━\u001B[0m\u001B[37m\u001B[0m \u001B[1m0s\u001B[0m 4ms/step - loss: 3.1320 - mean_squared_error: 3.1320 - val_loss: 2.9991 - val_mean_squared_error: 2.9991\n",
      "Epoch 29/40\n",
      "\u001B[1m59/59\u001B[0m \u001B[32m━━━━━━━━━━━━━━━━━━━━\u001B[0m\u001B[37m\u001B[0m \u001B[1m0s\u001B[0m 4ms/step - loss: 3.4163 - mean_squared_error: 3.4163 - val_loss: 2.2091 - val_mean_squared_error: 2.2091\n",
      "Epoch 30/40\n",
      "\u001B[1m59/59\u001B[0m \u001B[32m━━━━━━━━━━━━━━━━━━━━\u001B[0m\u001B[37m\u001B[0m \u001B[1m0s\u001B[0m 4ms/step - loss: 3.1195 - mean_squared_error: 3.1195 - val_loss: 3.2646 - val_mean_squared_error: 3.2646\n",
      "Epoch 31/40\n",
      "\u001B[1m59/59\u001B[0m \u001B[32m━━━━━━━━━━━━━━━━━━━━\u001B[0m\u001B[37m\u001B[0m \u001B[1m0s\u001B[0m 4ms/step - loss: 3.5216 - mean_squared_error: 3.5216 - val_loss: 2.0571 - val_mean_squared_error: 2.0571\n",
      "Epoch 32/40\n",
      "\u001B[1m59/59\u001B[0m \u001B[32m━━━━━━━━━━━━━━━━━━━━\u001B[0m\u001B[37m\u001B[0m \u001B[1m0s\u001B[0m 4ms/step - loss: 3.1141 - mean_squared_error: 3.1141 - val_loss: 3.7555 - val_mean_squared_error: 3.7555\n",
      "Epoch 33/40\n",
      "\u001B[1m59/59\u001B[0m \u001B[32m━━━━━━━━━━━━━━━━━━━━\u001B[0m\u001B[37m\u001B[0m \u001B[1m0s\u001B[0m 4ms/step - loss: 3.7696 - mean_squared_error: 3.7696 - val_loss: 1.8039 - val_mean_squared_error: 1.8039\n",
      "Epoch 34/40\n",
      "\u001B[1m59/59\u001B[0m \u001B[32m━━━━━━━━━━━━━━━━━━━━\u001B[0m\u001B[37m\u001B[0m \u001B[1m0s\u001B[0m 4ms/step - loss: 3.1669 - mean_squared_error: 3.1669 - val_loss: 4.5414 - val_mean_squared_error: 4.5414\n",
      "Epoch 35/40\n",
      "\u001B[1m59/59\u001B[0m \u001B[32m━━━━━━━━━━━━━━━━━━━━\u001B[0m\u001B[37m\u001B[0m \u001B[1m0s\u001B[0m 4ms/step - loss: 4.3278 - mean_squared_error: 4.3278 - val_loss: 1.6319 - val_mean_squared_error: 1.6319\n",
      "Epoch 36/40\n",
      "\u001B[1m59/59\u001B[0m \u001B[32m━━━━━━━━━━━━━━━━━━━━\u001B[0m\u001B[37m\u001B[0m \u001B[1m0s\u001B[0m 4ms/step - loss: 3.4101 - mean_squared_error: 3.4101 - val_loss: 4.8666 - val_mean_squared_error: 4.8666\n",
      "Epoch 37/40\n",
      "\u001B[1m59/59\u001B[0m \u001B[32m━━━━━━━━━━━━━━━━━━━━\u001B[0m\u001B[37m\u001B[0m \u001B[1m0s\u001B[0m 4ms/step - loss: 4.9054 - mean_squared_error: 4.9054 - val_loss: 1.6691 - val_mean_squared_error: 1.6691\n",
      "Epoch 38/40\n",
      "\u001B[1m59/59\u001B[0m \u001B[32m━━━━━━━━━━━━━━━━━━━━\u001B[0m\u001B[37m\u001B[0m \u001B[1m0s\u001B[0m 4ms/step - loss: 3.4796 - mean_squared_error: 3.4796 - val_loss: 3.9581 - val_mean_squared_error: 3.9581\n",
      "Epoch 39/40\n",
      "\u001B[1m59/59\u001B[0m \u001B[32m━━━━━━━━━━━━━━━━━━━━\u001B[0m\u001B[37m\u001B[0m \u001B[1m0s\u001B[0m 4ms/step - loss: 4.6693 - mean_squared_error: 4.6693 - val_loss: 1.8703 - val_mean_squared_error: 1.8703\n",
      "Epoch 40/40\n",
      "\u001B[1m59/59\u001B[0m \u001B[32m━━━━━━━━━━━━━━━━━━━━\u001B[0m\u001B[37m\u001B[0m \u001B[1m0s\u001B[0m 4ms/step - loss: 3.1680 - mean_squared_error: 3.1680 - val_loss: 3.0043 - val_mean_squared_error: 3.0043\n"
     ]
    }
   ],
   "execution_count": 47
  },
  {
   "cell_type": "markdown",
   "metadata": {
    "id": "lygUzi0QTXgZ"
   },
   "source": [
    "Train the model on the training set, specifying the **batch size** and **number of epochs** for the training process. Allocate 20% of the samples for **validation**, and ensure that the dataset remains **unshuffled** during training."
   ]
  },
  {
   "cell_type": "code",
   "execution_count": null,
   "metadata": {
    "id": "Fkj3k5p8TXEF"
   },
   "outputs": [],
   "source": [
    "# Write your code here. Add as many boxes as you need."
   ]
  },
  {
   "cell_type": "markdown",
   "metadata": {
    "id": "BgK9j0GrUs2l"
   },
   "source": [
    "Create a line plot illustrating both the **training** and **validation loss** over the training epochs."
   ]
  },
  {
   "cell_type": "code",
   "execution_count": null,
   "metadata": {
    "id": "2u1RylwfUtR0"
   },
   "outputs": [],
   "source": [
    "# Write your code here. Add as many boxes as you need."
   ]
  },
  {
   "metadata": {},
   "cell_type": "markdown",
   "source": ""
  },
  {
   "metadata": {
    "ExecuteTime": {
     "end_time": "2024-12-20T09:17:57.399077Z",
     "start_time": "2024-12-20T09:17:57.075436Z"
    }
   },
   "cell_type": "code",
   "source": [
    "sns.lineplot(history.history['loss'][1:], label='loss')\n",
    "sns.lineplot(history.history['val_loss'][1:], label='val_loss')"
   ],
   "outputs": [
    {
     "data": {
      "text/plain": [
       "<Axes: >"
      ]
     },
     "execution_count": 48,
     "metadata": {},
     "output_type": "execute_result"
    },
    {
     "data": {
      "text/plain": [
       "<Figure size 640x480 with 1 Axes>"
      ],
      "image/png": "[encoded data removed]"
     },
     "metadata": {},
     "output_type": "display_data"
    }
   ],
   "execution_count": 48
  },
  {
   "cell_type": "markdown",
   "metadata": {
    "id": "gyXZwAVab8Cp"
   },
   "source": [
    "Use the trained model to make predictions for the test set."
   ]
  },
  {
   "cell_type": "code",
   "metadata": {
    "id": "EvMfVum6b_9b",
    "ExecuteTime": {
     "end_time": "2024-12-20T09:16:17.796934Z",
     "start_time": "2024-12-20T09:16:17.788848Z"
    }
   },
   "source": [
    "# Write your code here. Add as many boxes as you need."
   ],
   "outputs": [],
   "execution_count": 39
  },
  {
   "metadata": {
    "ExecuteTime": {
     "end_time": "2024-12-20T09:18:01.128437Z",
     "start_time": "2024-12-20T09:18:01.034705Z"
    }
   },
   "cell_type": "code",
   "source": "Y_pred = model.predict(X_test)",
   "outputs": [
    {
     "name": "stdout",
     "output_type": "stream",
     "text": [
      "\u001B[1m10/10\u001B[0m \u001B[32m━━━━━━━━━━━━━━━━━━━━\u001B[0m\u001B[37m\u001B[0m \u001B[1m0s\u001B[0m 3ms/step \n"
     ]
    }
   ],
   "execution_count": 49
  },
  {
   "cell_type": "markdown",
   "metadata": {
    "id": "3VxAvDPtcNCh"
   },
   "source": [
    "Assess the performance of the model by using different metrics provided by the `scikit-learn` library."
   ]
  },
  {
   "cell_type": "code",
   "execution_count": null,
   "metadata": {
    "id": "V4axpktycQhp"
   },
   "outputs": [],
   "source": [
    "# Write your code here. Add as many boxes as you need."
   ]
  },
  {
   "metadata": {},
   "cell_type": "markdown",
   "source": ""
  },
  {
   "metadata": {
    "ExecuteTime": {
     "end_time": "2024-12-20T09:18:02.930995Z",
     "start_time": "2024-12-20T09:18:02.925108Z"
    }
   },
   "cell_type": "code",
   "source": "r2_score(Y_test, Y_pred)",
   "outputs": [
    {
     "data": {
      "text/plain": [
       "-9.177540121904498"
      ]
     },
     "execution_count": 50,
     "metadata": {},
     "output_type": "execute_result"
    }
   ],
   "execution_count": 50
  },
  {
   "cell_type": "markdown",
   "metadata": {
    "id": "X01Q7Pb9VOAI"
   },
   "source": [
    "Create a line plot in order to compare the actual and predicted mean temperatures for the test set."
   ]
  },
  {
   "cell_type": "code",
   "execution_count": null,
   "metadata": {
    "id": "oeS852CkVPVJ"
   },
   "outputs": [],
   "source": [
    "# Write your code here. Add as many boxes as you need."
   ]
  },
  {
   "cell_type": "markdown",
   "metadata": {
    "id": "RwnD_qSpIeXG"
   },
   "source": [
    "# Laboratory Exercise - Bonus Task (+ 2 points)"
   ]
  },
  {
   "cell_type": "markdown",
   "metadata": {
    "id": "pxXNxarDmE_L"
   },
   "source": [
    "As a bonus task for this laboratory exercise, calculate the Simple Moving Average (SMA) and Weighted Moving Average (WMA) with 3 timesteps for `mean_temperature` over the past 1, 2, and 3 days:\n",
    "\n",
    "- **SMA with 3 timesteps ($\\text{SMA}_3$)** - the average of temperatures from the previous 3 days:  \n",
    "  $SMA_3 = \\frac{\\text{mean\\_temperaure}_{lag\\_3} +\\ \\text{mean\\_temperaure}_{lag\\_2} +\\ \\text{mean\\_temperaure}_{lag\\_1}}{1\\ +\\ 1\\ +\\ 1}$.\n",
    "\n",
    "- **WMA with 3 timesteps ($\\text{WMA}_3$)** - a weighted average, giving more importance to recent days:  \n",
    "  $WMA_3 = \\frac{1\\ \\cdot\\ \\text{mean\\_temperaure}_{lag\\_3} +\\ 2\\ \\cdot\\ \\text{mean\\_temperaure}_{lag\\_2} +\\ 3\\ \\cdot\\ \\text{mean\\_temperaure}_{lag_1}}{1\\ +\\ 2\\ +\\ 3}$.\n",
    "\n",
    "Then use this indicators alongside the other features in the dataset to predict the `mean_temperaure`.\n",
    "\n",
    "*Hint: Use the `rolling` method from `pandas`. Check the docs at the following link https://pandas.pydata.org/docs/reference/api/pandas.DataFrame.rolling.html.*"
   ]
  },
  {
   "cell_type": "code",
   "execution_count": null,
   "metadata": {
    "id": "NuW3jAXcl3Bq"
   },
   "outputs": [],
   "source": [
    "# Write your code here. Add as many boxes as you need."
   ]
  },
  {
   "metadata": {
    "ExecuteTime": {
     "end_time": "2024-12-19T20:01:29.223387Z",
     "start_time": "2024-12-19T20:01:29.217861Z"
    }
   },
   "cell_type": "code",
   "source": "data2 = data.copy()",
   "outputs": [],
   "execution_count": 157
  },
  {
   "metadata": {
    "ExecuteTime": {
     "end_time": "2024-12-19T20:01:30.951288Z",
     "start_time": "2024-12-19T20:01:30.938199Z"
    }
   },
   "cell_type": "code",
   "source": [
    "data2['SMA_3'] = (\n",
    "    data2['meantemp_prev_1'] + \n",
    "    data2['meantemp_prev_2'] + \n",
    "    data2['meantemp_prev_3']\n",
    ") / 3"
   ],
   "outputs": [],
   "execution_count": 158
  },
  {
   "metadata": {
    "ExecuteTime": {
     "end_time": "2024-12-19T20:01:36.375266Z",
     "start_time": "2024-12-19T20:01:36.361754Z"
    }
   },
   "cell_type": "code",
   "source": "data2['SMA_3_WAY2'] = data2['meantemp'].shift(1).rolling(window=3).mean()",
   "outputs": [],
   "execution_count": 159
  },
  {
   "metadata": {
    "ExecuteTime": {
     "end_time": "2024-12-19T20:01:36.691065Z",
     "start_time": "2024-12-19T20:01:36.682549Z"
    }
   },
   "cell_type": "code",
   "source": [
    "weights = [1, 2, 3]\n",
    "data2['WMA_3'] = (\n",
    "    1 * data2['meantemp_prev_3'] + \n",
    "    2 * data2['meantemp_prev_2'] + \n",
    "    3 * data2['meantemp_prev_1']\n",
    ") / sum(weights)"
   ],
   "outputs": [],
   "execution_count": 160
  },
  {
   "metadata": {
    "ExecuteTime": {
     "end_time": "2024-12-19T20:01:37.143446Z",
     "start_time": "2024-12-19T20:01:37.118891Z"
    }
   },
   "cell_type": "code",
   "source": [
    "weights = [1, 2, 3] \n",
    "data2['WMA_3_WAY2'] = (\n",
    "    data2['meantemp']\n",
    "    .shift(1) \n",
    "    .rolling(window=3)\n",
    "    .apply(lambda x: np.dot(x, weights) / sum(weights), raw=True)\n",
    ")"
   ],
   "outputs": [],
   "execution_count": 161
  },
  {
   "metadata": {
    "ExecuteTime": {
     "end_time": "2024-12-19T20:01:38.332242Z",
     "start_time": "2024-12-19T20:01:38.298146Z"
    }
   },
   "cell_type": "code",
   "source": "data2",
   "outputs": [
    {
     "data": {
      "text/plain": [
       "             meantemp    humidity  wind_speed  meanpressure  meantemp_prev_1  \\\n",
       "date                                                                           \n",
       "2013-01-04   8.666667   71.333333    1.233333   1017.166667         7.166667   \n",
       "2013-01-05   6.000000   86.833333    3.700000   1016.500000         8.666667   \n",
       "2013-01-06   7.000000   82.800000    1.480000   1018.000000         6.000000   \n",
       "2013-01-07   7.000000   78.600000    6.300000   1020.000000         7.000000   \n",
       "2013-01-08   8.857143   63.714286    7.142857   1018.714286         7.000000   \n",
       "...               ...         ...         ...           ...              ...   \n",
       "2016-12-28  17.217391   68.043478    3.547826   1015.565217        16.850000   \n",
       "2016-12-29  15.238095   87.857143    6.000000   1016.904762        17.217391   \n",
       "2016-12-30  14.095238   89.666667    6.266667   1017.904762        15.238095   \n",
       "2016-12-31  15.052632   87.000000    7.325000   1016.100000        14.095238   \n",
       "2017-01-01  10.000000  100.000000    0.000000   1016.000000        15.052632   \n",
       "\n",
       "            humidity_prev_1  wind_speed_prev_1  meanpressure_prev_1  \\\n",
       "date                                                                  \n",
       "2013-01-04        87.000000           4.633333          1018.666667   \n",
       "2013-01-05        71.333333           1.233333          1017.166667   \n",
       "2013-01-06        86.833333           3.700000          1016.500000   \n",
       "2013-01-07        82.800000           1.480000          1018.000000   \n",
       "2013-01-08        78.600000           6.300000          1020.000000   \n",
       "...                     ...                ...                  ...   \n",
       "2016-12-28        67.550000           8.335000          1017.200000   \n",
       "2016-12-29        68.043478           3.547826          1015.565217   \n",
       "2016-12-30        87.857143           6.000000          1016.904762   \n",
       "2016-12-31        89.666667           6.266667          1017.904762   \n",
       "2017-01-01        87.000000           7.325000          1016.100000   \n",
       "\n",
       "            meantemp_prev_2  humidity_prev_2  wind_speed_prev_2  \\\n",
       "date                                                              \n",
       "2013-01-04         7.400000        92.000000           2.980000   \n",
       "2013-01-05         7.166667        87.000000           4.633333   \n",
       "2013-01-06         8.666667        71.333333           1.233333   \n",
       "2013-01-07         6.000000        86.833333           3.700000   \n",
       "2013-01-08         7.000000        82.800000           1.480000   \n",
       "...                     ...              ...                ...   \n",
       "2016-12-28        17.142857        74.857143           8.784211   \n",
       "2016-12-29        16.850000        67.550000           8.335000   \n",
       "2016-12-30        17.217391        68.043478           3.547826   \n",
       "2016-12-31        15.238095        87.857143           6.000000   \n",
       "2017-01-01        14.095238        89.666667           6.266667   \n",
       "\n",
       "            meanpressure_prev_2  meantemp_prev_3  humidity_prev_3  \\\n",
       "date                                                                \n",
       "2013-01-04          1017.800000        10.000000        84.500000   \n",
       "2013-01-05          1018.666667         7.400000        92.000000   \n",
       "2013-01-06          1017.166667         7.166667        87.000000   \n",
       "2013-01-07          1016.500000         8.666667        71.333333   \n",
       "2013-01-08          1018.000000         6.000000        86.833333   \n",
       "...                         ...              ...              ...   \n",
       "2016-12-28          1016.952381        14.000000        94.300000   \n",
       "2016-12-29          1017.200000        17.142857        74.857143   \n",
       "2016-12-30          1015.565217        16.850000        67.550000   \n",
       "2016-12-31          1016.904762        17.217391        68.043478   \n",
       "2017-01-01          1017.904762        15.238095        87.857143   \n",
       "\n",
       "            wind_speed_prev_3  meanpressure_prev_3      SMA_3  SMA_3_WAY2  \\\n",
       "date                                                                        \n",
       "2013-01-04           0.000000          1015.666667   8.188889         NaN   \n",
       "2013-01-05           2.980000          1017.800000   7.744444         NaN   \n",
       "2013-01-06           4.633333          1018.666667   7.277778         NaN   \n",
       "2013-01-07           1.233333          1017.166667   7.222222    7.222222   \n",
       "2013-01-08           3.700000          1016.500000   6.666667    6.666667   \n",
       "...                       ...                  ...        ...         ...   \n",
       "2016-12-28           9.085000          1014.350000  15.997619   15.997619   \n",
       "2016-12-29           8.784211          1016.952381  17.070083   17.070083   \n",
       "2016-12-30           8.335000          1017.200000  16.435162   16.435162   \n",
       "2016-12-31           3.547826          1015.565217  15.516908   15.516908   \n",
       "2017-01-01           6.000000          1016.904762  14.795322   14.795322   \n",
       "\n",
       "                WMA_3  WMA_3_WAY2  \n",
       "date                               \n",
       "2013-01-04   7.716667         NaN  \n",
       "2013-01-05   7.955556         NaN  \n",
       "2013-01-06   7.083333         NaN  \n",
       "2013-01-07   6.944444    6.944444  \n",
       "2013-01-08   6.833333    6.833333  \n",
       "...               ...         ...  \n",
       "2016-12-28  16.472619   16.472619  \n",
       "2016-12-29  17.082505   17.082505  \n",
       "2016-12-30  16.166511   16.166511  \n",
       "2016-12-31  14.996549   14.996549  \n",
       "2017-01-01  14.764411   14.764411  \n",
       "\n",
       "[1459 rows x 20 columns]"
      ],
      "text/html": [
       "<div>\n",
       "<style scoped>\n",
       "    .dataframe tbody tr th:only-of-type {\n",
       "        vertical-align: middle;\n",
       "    }\n",
       "\n",
       "    .dataframe tbody tr th {\n",
       "        vertical-align: top;\n",
       "    }\n",
       "\n",
       "    .dataframe thead th {\n",
       "        text-align: right;\n",
       "    }\n",
       "</style>\n",
       "<table border=\"1\" class=\"dataframe\">\n",
       "  <thead>\n",
       "    <tr style=\"text-align: right;\">\n",
       "      <th></th>\n",
       "      <th>meantemp</th>\n",
       "      <th>humidity</th>\n",
       "      <th>wind_speed</th>\n",
       "      <th>meanpressure</th>\n",
       "      <th>meantemp_prev_1</th>\n",
       "      <th>humidity_prev_1</th>\n",
       "      <th>wind_speed_prev_1</th>\n",
       "      <th>meanpressure_prev_1</th>\n",
       "      <th>meantemp_prev_2</th>\n",
       "      <th>humidity_prev_2</th>\n",
       "      <th>wind_speed_prev_2</th>\n",
       "      <th>meanpressure_prev_2</th>\n",
       "      <th>meantemp_prev_3</th>\n",
       "      <th>humidity_prev_3</th>\n",
       "      <th>wind_speed_prev_3</th>\n",
       "      <th>meanpressure_prev_3</th>\n",
       "      <th>SMA_3</th>\n",
       "      <th>SMA_3_WAY2</th>\n",
       "      <th>WMA_3</th>\n",
       "      <th>WMA_3_WAY2</th>\n",
       "    </tr>\n",
       "    <tr>\n",
       "      <th>date</th>\n",
       "      <th></th>\n",
       "      <th></th>\n",
       "      <th></th>\n",
       "      <th></th>\n",
       "      <th></th>\n",
       "      <th></th>\n",
       "      <th></th>\n",
       "      <th></th>\n",
       "      <th></th>\n",
       "      <th></th>\n",
       "      <th></th>\n",
       "      <th></th>\n",
       "      <th></th>\n",
       "      <th></th>\n",
       "      <th></th>\n",
       "      <th></th>\n",
       "      <th></th>\n",
       "      <th></th>\n",
       "      <th></th>\n",
       "      <th></th>\n",
       "    </tr>\n",
       "  </thead>\n",
       "  <tbody>\n",
       "    <tr>\n",
       "      <th>2013-01-04</th>\n",
       "      <td>8.666667</td>\n",
       "      <td>71.333333</td>\n",
       "      <td>1.233333</td>\n",
       "      <td>1017.166667</td>\n",
       "      <td>7.166667</td>\n",
       "      <td>87.000000</td>\n",
       "      <td>4.633333</td>\n",
       "      <td>1018.666667</td>\n",
       "      <td>7.400000</td>\n",
       "      <td>92.000000</td>\n",
       "      <td>2.980000</td>\n",
       "      <td>1017.800000</td>\n",
       "      <td>10.000000</td>\n",
       "      <td>84.500000</td>\n",
       "      <td>0.000000</td>\n",
       "      <td>1015.666667</td>\n",
       "      <td>8.188889</td>\n",
       "      <td>NaN</td>\n",
       "      <td>7.716667</td>\n",
       "      <td>NaN</td>\n",
       "    </tr>\n",
       "    <tr>\n",
       "      <th>2013-01-05</th>\n",
       "      <td>6.000000</td>\n",
       "      <td>86.833333</td>\n",
       "      <td>3.700000</td>\n",
       "      <td>1016.500000</td>\n",
       "      <td>8.666667</td>\n",
       "      <td>71.333333</td>\n",
       "      <td>1.233333</td>\n",
       "      <td>1017.166667</td>\n",
       "      <td>7.166667</td>\n",
       "      <td>87.000000</td>\n",
       "      <td>4.633333</td>\n",
       "      <td>1018.666667</td>\n",
       "      <td>7.400000</td>\n",
       "      <td>92.000000</td>\n",
       "      <td>2.980000</td>\n",
       "      <td>1017.800000</td>\n",
       "      <td>7.744444</td>\n",
       "      <td>NaN</td>\n",
       "      <td>7.955556</td>\n",
       "      <td>NaN</td>\n",
       "    </tr>\n",
       "    <tr>\n",
       "      <th>2013-01-06</th>\n",
       "      <td>7.000000</td>\n",
       "      <td>82.800000</td>\n",
       "      <td>1.480000</td>\n",
       "      <td>1018.000000</td>\n",
       "      <td>6.000000</td>\n",
       "      <td>86.833333</td>\n",
       "      <td>3.700000</td>\n",
       "      <td>1016.500000</td>\n",
       "      <td>8.666667</td>\n",
       "      <td>71.333333</td>\n",
       "      <td>1.233333</td>\n",
       "      <td>1017.166667</td>\n",
       "      <td>7.166667</td>\n",
       "      <td>87.000000</td>\n",
       "      <td>4.633333</td>\n",
       "      <td>1018.666667</td>\n",
       "      <td>7.277778</td>\n",
       "      <td>NaN</td>\n",
       "      <td>7.083333</td>\n",
       "      <td>NaN</td>\n",
       "    </tr>\n",
       "    <tr>\n",
       "      <th>2013-01-07</th>\n",
       "      <td>7.000000</td>\n",
       "      <td>78.600000</td>\n",
       "      <td>6.300000</td>\n",
       "      <td>1020.000000</td>\n",
       "      <td>7.000000</td>\n",
       "      <td>82.800000</td>\n",
       "      <td>1.480000</td>\n",
       "      <td>1018.000000</td>\n",
       "      <td>6.000000</td>\n",
       "      <td>86.833333</td>\n",
       "      <td>3.700000</td>\n",
       "      <td>1016.500000</td>\n",
       "      <td>8.666667</td>\n",
       "      <td>71.333333</td>\n",
       "      <td>1.233333</td>\n",
       "      <td>1017.166667</td>\n",
       "      <td>7.222222</td>\n",
       "      <td>7.222222</td>\n",
       "      <td>6.944444</td>\n",
       "      <td>6.944444</td>\n",
       "    </tr>\n",
       "    <tr>\n",
       "      <th>2013-01-08</th>\n",
       "      <td>8.857143</td>\n",
       "      <td>63.714286</td>\n",
       "      <td>7.142857</td>\n",
       "      <td>1018.714286</td>\n",
       "      <td>7.000000</td>\n",
       "      <td>78.600000</td>\n",
       "      <td>6.300000</td>\n",
       "      <td>1020.000000</td>\n",
       "      <td>7.000000</td>\n",
       "      <td>82.800000</td>\n",
       "      <td>1.480000</td>\n",
       "      <td>1018.000000</td>\n",
       "      <td>6.000000</td>\n",
       "      <td>86.833333</td>\n",
       "      <td>3.700000</td>\n",
       "      <td>1016.500000</td>\n",
       "      <td>6.666667</td>\n",
       "      <td>6.666667</td>\n",
       "      <td>6.833333</td>\n",
       "      <td>6.833333</td>\n",
       "    </tr>\n",
       "    <tr>\n",
       "      <th>...</th>\n",
       "      <td>...</td>\n",
       "      <td>...</td>\n",
       "      <td>...</td>\n",
       "      <td>...</td>\n",
       "      <td>...</td>\n",
       "      <td>...</td>\n",
       "      <td>...</td>\n",
       "      <td>...</td>\n",
       "      <td>...</td>\n",
       "      <td>...</td>\n",
       "      <td>...</td>\n",
       "      <td>...</td>\n",
       "      <td>...</td>\n",
       "      <td>...</td>\n",
       "      <td>...</td>\n",
       "      <td>...</td>\n",
       "      <td>...</td>\n",
       "      <td>...</td>\n",
       "      <td>...</td>\n",
       "      <td>...</td>\n",
       "    </tr>\n",
       "    <tr>\n",
       "      <th>2016-12-28</th>\n",
       "      <td>17.217391</td>\n",
       "      <td>68.043478</td>\n",
       "      <td>3.547826</td>\n",
       "      <td>1015.565217</td>\n",
       "      <td>16.850000</td>\n",
       "      <td>67.550000</td>\n",
       "      <td>8.335000</td>\n",
       "      <td>1017.200000</td>\n",
       "      <td>17.142857</td>\n",
       "      <td>74.857143</td>\n",
       "      <td>8.784211</td>\n",
       "      <td>1016.952381</td>\n",
       "      <td>14.000000</td>\n",
       "      <td>94.300000</td>\n",
       "      <td>9.085000</td>\n",
       "      <td>1014.350000</td>\n",
       "      <td>15.997619</td>\n",
       "      <td>15.997619</td>\n",
       "      <td>16.472619</td>\n",
       "      <td>16.472619</td>\n",
       "    </tr>\n",
       "    <tr>\n",
       "      <th>2016-12-29</th>\n",
       "      <td>15.238095</td>\n",
       "      <td>87.857143</td>\n",
       "      <td>6.000000</td>\n",
       "      <td>1016.904762</td>\n",
       "      <td>17.217391</td>\n",
       "      <td>68.043478</td>\n",
       "      <td>3.547826</td>\n",
       "      <td>1015.565217</td>\n",
       "      <td>16.850000</td>\n",
       "      <td>67.550000</td>\n",
       "      <td>8.335000</td>\n",
       "      <td>1017.200000</td>\n",
       "      <td>17.142857</td>\n",
       "      <td>74.857143</td>\n",
       "      <td>8.784211</td>\n",
       "      <td>1016.952381</td>\n",
       "      <td>17.070083</td>\n",
       "      <td>17.070083</td>\n",
       "      <td>17.082505</td>\n",
       "      <td>17.082505</td>\n",
       "    </tr>\n",
       "    <tr>\n",
       "      <th>2016-12-30</th>\n",
       "      <td>14.095238</td>\n",
       "      <td>89.666667</td>\n",
       "      <td>6.266667</td>\n",
       "      <td>1017.904762</td>\n",
       "      <td>15.238095</td>\n",
       "      <td>87.857143</td>\n",
       "      <td>6.000000</td>\n",
       "      <td>1016.904762</td>\n",
       "      <td>17.217391</td>\n",
       "      <td>68.043478</td>\n",
       "      <td>3.547826</td>\n",
       "      <td>1015.565217</td>\n",
       "      <td>16.850000</td>\n",
       "      <td>67.550000</td>\n",
       "      <td>8.335000</td>\n",
       "      <td>1017.200000</td>\n",
       "      <td>16.435162</td>\n",
       "      <td>16.435162</td>\n",
       "      <td>16.166511</td>\n",
       "      <td>16.166511</td>\n",
       "    </tr>\n",
       "    <tr>\n",
       "      <th>2016-12-31</th>\n",
       "      <td>15.052632</td>\n",
       "      <td>87.000000</td>\n",
       "      <td>7.325000</td>\n",
       "      <td>1016.100000</td>\n",
       "      <td>14.095238</td>\n",
       "      <td>89.666667</td>\n",
       "      <td>6.266667</td>\n",
       "      <td>1017.904762</td>\n",
       "      <td>15.238095</td>\n",
       "      <td>87.857143</td>\n",
       "      <td>6.000000</td>\n",
       "      <td>1016.904762</td>\n",
       "      <td>17.217391</td>\n",
       "      <td>68.043478</td>\n",
       "      <td>3.547826</td>\n",
       "      <td>1015.565217</td>\n",
       "      <td>15.516908</td>\n",
       "      <td>15.516908</td>\n",
       "      <td>14.996549</td>\n",
       "      <td>14.996549</td>\n",
       "    </tr>\n",
       "    <tr>\n",
       "      <th>2017-01-01</th>\n",
       "      <td>10.000000</td>\n",
       "      <td>100.000000</td>\n",
       "      <td>0.000000</td>\n",
       "      <td>1016.000000</td>\n",
       "      <td>15.052632</td>\n",
       "      <td>87.000000</td>\n",
       "      <td>7.325000</td>\n",
       "      <td>1016.100000</td>\n",
       "      <td>14.095238</td>\n",
       "      <td>89.666667</td>\n",
       "      <td>6.266667</td>\n",
       "      <td>1017.904762</td>\n",
       "      <td>15.238095</td>\n",
       "      <td>87.857143</td>\n",
       "      <td>6.000000</td>\n",
       "      <td>1016.904762</td>\n",
       "      <td>14.795322</td>\n",
       "      <td>14.795322</td>\n",
       "      <td>14.764411</td>\n",
       "      <td>14.764411</td>\n",
       "    </tr>\n",
       "  </tbody>\n",
       "</table>\n",
       "<p>1459 rows × 20 columns</p>\n",
       "</div>"
      ]
     },
     "execution_count": 162,
     "metadata": {},
     "output_type": "execute_result"
    }
   ],
   "execution_count": 162
  },
  {
   "metadata": {},
   "cell_type": "code",
   "outputs": [],
   "execution_count": null,
   "source": ""
  }
 ],
 "metadata": {
  "accelerator": "GPU",
  "colab": {
   "gpuType": "T4",
   "provenance": []
  },
  "kernelspec": {
   "display_name": "Python 3 (ipykernel)",
   "name": "python3",
   "language": "python"
  },
  "language_info": {
   "name": "python"
  }
 },
 "nbformat": 4,
 "nbformat_minor": 0
}

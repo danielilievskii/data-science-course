{
 "nbformat": 4,
 "nbformat_minor": 0,
 "metadata": {
  "colab": {
   "provenance": []
  },
  "kernelspec": {
   "name": "python3",
   "display_name": "Python 3 (ipykernel)",
   "language": "python"
  },
  "language_info": {
   "name": "python"
  }
 },
 "cells": [
  {
   "cell_type": "markdown",
   "source": [
    "# Laboratory exercise 4\n",
    "\n",
    "## Warm-Up Mode (2 points)\n",
    "\n",
    "**Task Description**  \n",
    "Using the given dataset, develop and implement **3** different neural networks to predict the **air quality level**. Each network should differ in the following ways:  \n",
    "\n",
    "- **layer configurations** - use different numbers and types of layers;\n",
    "- **activation functions** - try different activation functions;\n",
    "- **neurons per layer** - experiment with different numbers of neurons in each layer; and\n",
    "- **number of layers** - build networks with varying depths.\n",
    "\n",
    "After developing the models, evaluate and compare the performance of all **3** approaches.\n",
    "\n",
    "**About the Dataset**  \n",
    "This dataset focuses on air quality assessment across various regions. The dataset contains 5,000 samples and captures critical environmental and demographic factors that influence pollution levels.\n",
    "\n",
    "**Features**:  \n",
    "- **Temperature (°C)**: Average temperature of the region.  \n",
    "- **Humidity (%)**: Relative humidity recorded in the region.  \n",
    "- **PM2.5 Concentration (µg/m³)**: Levels of fine particulate matter.  \n",
    "- **PM10 Concentration (µg/m³)**: Levels of coarse particulate matter.  \n",
    "- **NO2 Concentration (ppb)**: Nitrogen dioxide levels.  \n",
    "- **SO2 Concentration (ppb)**: Sulfur dioxide levels.  \n",
    "- **CO Concentration (ppm)**: Carbon monoxide levels.  \n",
    "- **Proximity to Industrial Areas (km)**: Distance to the nearest industrial zone.  \n",
    "- **Population Density (people/km²)**: Number of people per square kilometer in the region.  \n",
    "\n",
    "**Target Variable**: **Air Quality**  \n",
    "- **Good**: Clean air with low pollution levels.  \n",
    "- **Moderate**: Acceptable air quality but with some pollutants present.  \n",
    "- **Poor**: Noticeable pollution that may cause health issues for sensitive groups.  \n",
    "- **Hazardous**: Highly polluted air posing serious health risks to the population.  "
   ],
   "metadata": {
    "id": "t7JOxuK9Jje2"
   }
  },
  {
   "metadata": {
    "ExecuteTime": {
     "end_time": "2024-12-20T09:10:49.893020Z",
     "start_time": "2024-12-20T09:10:49.887150Z"
    }
   },
   "cell_type": "code",
   "source": [
    "import pandas as pd\n",
    "import missingno as msno\n",
    "import matplotlib.pyplot as plt\n",
    "from sklearn.preprocessing import OrdinalEncoder\n",
    "from sklearn.model_selection import train_test_split\n",
    "from sklearn.preprocessing import MinMaxScaler\n",
    "from sklearn.metrics import classification_report, confusion_matrix, r2_score\n",
    "from keras.src.models import Sequential\n",
    "from keras.src.layers import Dense, Input, Dropout\n",
    "import seaborn as sns \n",
    "import numpy as np"
   ],
   "outputs": [],
   "execution_count": 2
  },
  {
   "metadata": {
    "ExecuteTime": {
     "end_time": "2024-12-20T09:10:52.126561Z",
     "start_time": "2024-12-20T09:10:52.107267Z"
    }
   },
   "cell_type": "code",
   "source": "data = pd.read_csv('./data/pollution_dataset.csv')",
   "outputs": [],
   "execution_count": 3
  },
  {
   "metadata": {
    "ExecuteTime": {
     "end_time": "2024-12-20T09:10:52.746435Z",
     "start_time": "2024-12-20T09:10:52.712034Z"
    }
   },
   "cell_type": "code",
   "source": "data",
   "outputs": [
    {
     "data": {
      "text/plain": [
       "      Temperature  Humidity  PM2.5   PM10   NO2   SO2    CO  \\\n",
       "0            29.8      59.1    5.2   17.9  18.9   9.2  1.72   \n",
       "1            28.3      75.6    2.3   12.2  30.8   9.7  1.64   \n",
       "2            23.1      74.7   26.7   33.8  24.4  12.6  1.63   \n",
       "3            27.1      39.1    6.1    6.3  13.5   5.3  1.15   \n",
       "4            26.5      70.7    6.9   16.0  21.9   5.6  1.01   \n",
       "...           ...       ...    ...    ...   ...   ...   ...   \n",
       "4995         40.6      74.1  116.0  126.7  45.5  25.7  2.11   \n",
       "4996         28.1      96.9    6.9   25.0  25.3  10.8  1.54   \n",
       "4997         25.9      78.2   14.2   22.1  34.8   7.8  1.63   \n",
       "4998         25.3      44.4   21.4   29.0  23.7   5.7  0.89   \n",
       "4999         24.1      77.9   81.7   94.3  23.2  10.5  1.38   \n",
       "\n",
       "      Proximity_to_Industrial_Areas  Population_Density Air Quality  \n",
       "0                               6.3                 319    Moderate  \n",
       "1                               6.0                 611    Moderate  \n",
       "2                               5.2                 619    Moderate  \n",
       "3                              11.1                 551        Good  \n",
       "4                              12.7                 303        Good  \n",
       "...                             ...                 ...         ...  \n",
       "4995                            2.8                 765   Hazardous  \n",
       "4996                            5.7                 709    Moderate  \n",
       "4997                            9.6                 379    Moderate  \n",
       "4998                           11.6                 241        Good  \n",
       "4999                            8.3                 461    Moderate  \n",
       "\n",
       "[5000 rows x 10 columns]"
      ],
      "text/html": [
       "<div>\n",
       "<style scoped>\n",
       "    .dataframe tbody tr th:only-of-type {\n",
       "        vertical-align: middle;\n",
       "    }\n",
       "\n",
       "    .dataframe tbody tr th {\n",
       "        vertical-align: top;\n",
       "    }\n",
       "\n",
       "    .dataframe thead th {\n",
       "        text-align: right;\n",
       "    }\n",
       "</style>\n",
       "<table border=\"1\" class=\"dataframe\">\n",
       "  <thead>\n",
       "    <tr style=\"text-align: right;\">\n",
       "      <th></th>\n",
       "      <th>Temperature</th>\n",
       "      <th>Humidity</th>\n",
       "      <th>PM2.5</th>\n",
       "      <th>PM10</th>\n",
       "      <th>NO2</th>\n",
       "      <th>SO2</th>\n",
       "      <th>CO</th>\n",
       "      <th>Proximity_to_Industrial_Areas</th>\n",
       "      <th>Population_Density</th>\n",
       "      <th>Air Quality</th>\n",
       "    </tr>\n",
       "  </thead>\n",
       "  <tbody>\n",
       "    <tr>\n",
       "      <th>0</th>\n",
       "      <td>29.8</td>\n",
       "      <td>59.1</td>\n",
       "      <td>5.2</td>\n",
       "      <td>17.9</td>\n",
       "      <td>18.9</td>\n",
       "      <td>9.2</td>\n",
       "      <td>1.72</td>\n",
       "      <td>6.3</td>\n",
       "      <td>319</td>\n",
       "      <td>Moderate</td>\n",
       "    </tr>\n",
       "    <tr>\n",
       "      <th>1</th>\n",
       "      <td>28.3</td>\n",
       "      <td>75.6</td>\n",
       "      <td>2.3</td>\n",
       "      <td>12.2</td>\n",
       "      <td>30.8</td>\n",
       "      <td>9.7</td>\n",
       "      <td>1.64</td>\n",
       "      <td>6.0</td>\n",
       "      <td>611</td>\n",
       "      <td>Moderate</td>\n",
       "    </tr>\n",
       "    <tr>\n",
       "      <th>2</th>\n",
       "      <td>23.1</td>\n",
       "      <td>74.7</td>\n",
       "      <td>26.7</td>\n",
       "      <td>33.8</td>\n",
       "      <td>24.4</td>\n",
       "      <td>12.6</td>\n",
       "      <td>1.63</td>\n",
       "      <td>5.2</td>\n",
       "      <td>619</td>\n",
       "      <td>Moderate</td>\n",
       "    </tr>\n",
       "    <tr>\n",
       "      <th>3</th>\n",
       "      <td>27.1</td>\n",
       "      <td>39.1</td>\n",
       "      <td>6.1</td>\n",
       "      <td>6.3</td>\n",
       "      <td>13.5</td>\n",
       "      <td>5.3</td>\n",
       "      <td>1.15</td>\n",
       "      <td>11.1</td>\n",
       "      <td>551</td>\n",
       "      <td>Good</td>\n",
       "    </tr>\n",
       "    <tr>\n",
       "      <th>4</th>\n",
       "      <td>26.5</td>\n",
       "      <td>70.7</td>\n",
       "      <td>6.9</td>\n",
       "      <td>16.0</td>\n",
       "      <td>21.9</td>\n",
       "      <td>5.6</td>\n",
       "      <td>1.01</td>\n",
       "      <td>12.7</td>\n",
       "      <td>303</td>\n",
       "      <td>Good</td>\n",
       "    </tr>\n",
       "    <tr>\n",
       "      <th>...</th>\n",
       "      <td>...</td>\n",
       "      <td>...</td>\n",
       "      <td>...</td>\n",
       "      <td>...</td>\n",
       "      <td>...</td>\n",
       "      <td>...</td>\n",
       "      <td>...</td>\n",
       "      <td>...</td>\n",
       "      <td>...</td>\n",
       "      <td>...</td>\n",
       "    </tr>\n",
       "    <tr>\n",
       "      <th>4995</th>\n",
       "      <td>40.6</td>\n",
       "      <td>74.1</td>\n",
       "      <td>116.0</td>\n",
       "      <td>126.7</td>\n",
       "      <td>45.5</td>\n",
       "      <td>25.7</td>\n",
       "      <td>2.11</td>\n",
       "      <td>2.8</td>\n",
       "      <td>765</td>\n",
       "      <td>Hazardous</td>\n",
       "    </tr>\n",
       "    <tr>\n",
       "      <th>4996</th>\n",
       "      <td>28.1</td>\n",
       "      <td>96.9</td>\n",
       "      <td>6.9</td>\n",
       "      <td>25.0</td>\n",
       "      <td>25.3</td>\n",
       "      <td>10.8</td>\n",
       "      <td>1.54</td>\n",
       "      <td>5.7</td>\n",
       "      <td>709</td>\n",
       "      <td>Moderate</td>\n",
       "    </tr>\n",
       "    <tr>\n",
       "      <th>4997</th>\n",
       "      <td>25.9</td>\n",
       "      <td>78.2</td>\n",
       "      <td>14.2</td>\n",
       "      <td>22.1</td>\n",
       "      <td>34.8</td>\n",
       "      <td>7.8</td>\n",
       "      <td>1.63</td>\n",
       "      <td>9.6</td>\n",
       "      <td>379</td>\n",
       "      <td>Moderate</td>\n",
       "    </tr>\n",
       "    <tr>\n",
       "      <th>4998</th>\n",
       "      <td>25.3</td>\n",
       "      <td>44.4</td>\n",
       "      <td>21.4</td>\n",
       "      <td>29.0</td>\n",
       "      <td>23.7</td>\n",
       "      <td>5.7</td>\n",
       "      <td>0.89</td>\n",
       "      <td>11.6</td>\n",
       "      <td>241</td>\n",
       "      <td>Good</td>\n",
       "    </tr>\n",
       "    <tr>\n",
       "      <th>4999</th>\n",
       "      <td>24.1</td>\n",
       "      <td>77.9</td>\n",
       "      <td>81.7</td>\n",
       "      <td>94.3</td>\n",
       "      <td>23.2</td>\n",
       "      <td>10.5</td>\n",
       "      <td>1.38</td>\n",
       "      <td>8.3</td>\n",
       "      <td>461</td>\n",
       "      <td>Moderate</td>\n",
       "    </tr>\n",
       "  </tbody>\n",
       "</table>\n",
       "<p>5000 rows × 10 columns</p>\n",
       "</div>"
      ]
     },
     "execution_count": 4,
     "metadata": {},
     "output_type": "execute_result"
    }
   ],
   "execution_count": 4
  },
  {
   "metadata": {
    "ExecuteTime": {
     "end_time": "2024-12-20T09:10:53.996386Z",
     "start_time": "2024-12-20T09:10:53.984490Z"
    }
   },
   "cell_type": "code",
   "source": "data.isnull().sum() / len(data) * 100",
   "outputs": [
    {
     "data": {
      "text/plain": [
       "Temperature                      0.0\n",
       "Humidity                         0.0\n",
       "PM2.5                            0.0\n",
       "PM10                             0.0\n",
       "NO2                              0.0\n",
       "SO2                              0.0\n",
       "CO                               0.0\n",
       "Proximity_to_Industrial_Areas    0.0\n",
       "Population_Density               0.0\n",
       "Air Quality                      0.0\n",
       "dtype: float64"
      ]
     },
     "execution_count": 5,
     "metadata": {},
     "output_type": "execute_result"
    }
   ],
   "execution_count": 5
  },
  {
   "metadata": {
    "ExecuteTime": {
     "end_time": "2024-12-20T09:10:55.030102Z",
     "start_time": "2024-12-20T09:10:55.019537Z"
    }
   },
   "cell_type": "code",
   "source": "ordinal_encoder = OrdinalEncoder()",
   "outputs": [],
   "execution_count": 6
  },
  {
   "metadata": {
    "ExecuteTime": {
     "end_time": "2024-12-20T09:10:55.659038Z",
     "start_time": "2024-12-20T09:10:55.648209Z"
    }
   },
   "cell_type": "code",
   "source": [
    "columns_to_encode = [\"Air Quality\"]\n",
    "data[columns_to_encode] = ordinal_encoder.fit_transform(data[columns_to_encode])"
   ],
   "outputs": [],
   "execution_count": 7
  },
  {
   "metadata": {
    "ExecuteTime": {
     "end_time": "2024-12-20T09:10:56.392359Z",
     "start_time": "2024-12-20T09:10:56.382302Z"
    }
   },
   "cell_type": "code",
   "source": [
    "X, Y = data.drop([\"Air Quality\"], axis=1), data['Air Quality']\n",
    "\n",
    "X_train, X_test, Y_train, Y_test = train_test_split(X, Y, test_size=0.2, random_state=42)"
   ],
   "outputs": [],
   "execution_count": 8
  },
  {
   "metadata": {
    "ExecuteTime": {
     "end_time": "2024-12-19T22:34:06.434283Z",
     "start_time": "2024-12-19T22:34:06.422753Z"
    }
   },
   "cell_type": "code",
   "source": [
    "scaler = MinMaxScaler()\n",
    "\n",
    "X_train = scaler.fit_transform(X_train)\n",
    "X_test = scaler.transform(X_test)"
   ],
   "outputs": [],
   "execution_count": 8
  },
  {
   "metadata": {
    "ExecuteTime": {
     "end_time": "2024-12-15T13:30:14.797559Z",
     "start_time": "2024-12-15T13:30:14.777597Z"
    }
   },
   "cell_type": "code",
   "source": "Y_test",
   "outputs": [
    {
     "data": {
      "text/plain": [
       "1501    1.0\n",
       "2586    0.0\n",
       "2653    2.0\n",
       "1055    1.0\n",
       "705     0.0\n",
       "       ... \n",
       "4711    2.0\n",
       "2313    0.0\n",
       "3214    3.0\n",
       "2732    2.0\n",
       "1926    3.0\n",
       "Name: Air Quality, Length: 1000, dtype: float64"
      ]
     },
     "execution_count": 17,
     "metadata": {},
     "output_type": "execute_result"
    }
   ],
   "execution_count": 17
  },
  {
   "metadata": {},
   "cell_type": "markdown",
   "source": "# Model 1"
  },
  {
   "metadata": {
    "ExecuteTime": {
     "end_time": "2024-12-19T22:34:10.807629Z",
     "start_time": "2024-12-19T22:34:10.592905Z"
    }
   },
   "cell_type": "code",
   "source": [
    "model = Sequential([\n",
    "     Input(shape=(X.shape[1],)),\n",
    "    Dense(32, kernel_initializer=\"uniform\", activation=\"relu\"),\n",
    "    Dense(16, kernel_initializer=\"uniform\", activation=\"relu\"),\n",
    "    Dense(16, kernel_initializer=\"uniform\", activation=\"relu\"),\n",
    "    Dense(4, kernel_initializer=\"uniform\", activation=\"softmax\"),\n",
    "])"
   ],
   "outputs": [],
   "execution_count": 9
  },
  {
   "metadata": {
    "ExecuteTime": {
     "end_time": "2024-12-19T22:34:11.371669Z",
     "start_time": "2024-12-19T22:34:11.349088Z"
    }
   },
   "cell_type": "code",
   "source": [
    "model.compile( \n",
    "    loss=\"sparse_categorical_crossentropy\", # # for multiclass with Label/Ordinal Encoder\n",
    "    # loss=\"categorical_crossentropy\", # for multiclass with One Hot Encoder\n",
    "    optimizer=\"adam\",\n",
    "    metrics=[\"accuracy\"] \n",
    ")"
   ],
   "outputs": [],
   "execution_count": 10
  },
  {
   "metadata": {
    "ExecuteTime": {
     "end_time": "2024-12-19T22:34:50.650046Z",
     "start_time": "2024-12-19T22:34:13.389985Z"
    }
   },
   "cell_type": "code",
   "source": "history = model.fit(X_train, Y_train, validation_split=0.1, epochs=64, batch_size=32)",
   "outputs": [
    {
     "name": "stdout",
     "output_type": "stream",
     "text": [
      "Epoch 1/64\n",
      "\u001B[1m113/113\u001B[0m \u001B[32m━━━━━━━━━━━━━━━━━━━━\u001B[0m\u001B[37m\u001B[0m \u001B[1m3s\u001B[0m 6ms/step - accuracy: 0.3977 - loss: 1.3690 - val_accuracy: 0.3800 - val_loss: 1.1711\n",
      "Epoch 2/64\n",
      "\u001B[1m113/113\u001B[0m \u001B[32m━━━━━━━━━━━━━━━━━━━━\u001B[0m\u001B[37m\u001B[0m \u001B[1m1s\u001B[0m 4ms/step - accuracy: 0.5068 - loss: 0.9564 - val_accuracy: 0.8100 - val_loss: 0.5268\n",
      "Epoch 3/64\n",
      "\u001B[1m113/113\u001B[0m \u001B[32m━━━━━━━━━━━━━━━━━━━━\u001B[0m\u001B[37m\u001B[0m \u001B[1m1s\u001B[0m 4ms/step - accuracy: 0.8431 - loss: 0.4430 - val_accuracy: 0.9175 - val_loss: 0.3167\n",
      "Epoch 4/64\n",
      "\u001B[1m113/113\u001B[0m \u001B[32m━━━━━━━━━━━━━━━━━━━━\u001B[0m\u001B[37m\u001B[0m \u001B[1m0s\u001B[0m 4ms/step - accuracy: 0.9262 - loss: 0.2782 - val_accuracy: 0.9175 - val_loss: 0.2527\n",
      "Epoch 5/64\n",
      "\u001B[1m113/113\u001B[0m \u001B[32m━━━━━━━━━━━━━━━━━━━━\u001B[0m\u001B[37m\u001B[0m \u001B[1m0s\u001B[0m 3ms/step - accuracy: 0.9175 - loss: 0.2447 - val_accuracy: 0.9250 - val_loss: 0.2282\n",
      "Epoch 6/64\n",
      "\u001B[1m113/113\u001B[0m \u001B[32m━━━━━━━━━━━━━━━━━━━━\u001B[0m\u001B[37m\u001B[0m \u001B[1m1s\u001B[0m 3ms/step - accuracy: 0.9150 - loss: 0.2262 - val_accuracy: 0.9250 - val_loss: 0.2124\n",
      "Epoch 7/64\n",
      "\u001B[1m113/113\u001B[0m \u001B[32m━━━━━━━━━━━━━━━━━━━━\u001B[0m\u001B[37m\u001B[0m \u001B[1m0s\u001B[0m 3ms/step - accuracy: 0.9210 - loss: 0.2131 - val_accuracy: 0.9300 - val_loss: 0.2023\n",
      "Epoch 8/64\n",
      "\u001B[1m113/113\u001B[0m \u001B[32m━━━━━━━━━━━━━━━━━━━━\u001B[0m\u001B[37m\u001B[0m \u001B[1m0s\u001B[0m 4ms/step - accuracy: 0.9375 - loss: 0.1745 - val_accuracy: 0.9275 - val_loss: 0.1955\n",
      "Epoch 9/64\n",
      "\u001B[1m113/113\u001B[0m \u001B[32m━━━━━━━━━━━━━━━━━━━━\u001B[0m\u001B[37m\u001B[0m \u001B[1m0s\u001B[0m 3ms/step - accuracy: 0.9298 - loss: 0.1936 - val_accuracy: 0.9450 - val_loss: 0.1907\n",
      "Epoch 10/64\n",
      "\u001B[1m113/113\u001B[0m \u001B[32m━━━━━━━━━━━━━━━━━━━━\u001B[0m\u001B[37m\u001B[0m \u001B[1m1s\u001B[0m 5ms/step - accuracy: 0.9235 - loss: 0.1923 - val_accuracy: 0.9250 - val_loss: 0.2114\n",
      "Epoch 11/64\n",
      "\u001B[1m113/113\u001B[0m \u001B[32m━━━━━━━━━━━━━━━━━━━━\u001B[0m\u001B[37m\u001B[0m \u001B[1m1s\u001B[0m 6ms/step - accuracy: 0.9267 - loss: 0.1951 - val_accuracy: 0.9400 - val_loss: 0.1815\n",
      "Epoch 12/64\n",
      "\u001B[1m113/113\u001B[0m \u001B[32m━━━━━━━━━━━━━━━━━━━━\u001B[0m\u001B[37m\u001B[0m \u001B[1m0s\u001B[0m 4ms/step - accuracy: 0.9320 - loss: 0.1789 - val_accuracy: 0.9375 - val_loss: 0.1840\n",
      "Epoch 13/64\n",
      "\u001B[1m113/113\u001B[0m \u001B[32m━━━━━━━━━━━━━━━━━━━━\u001B[0m\u001B[37m\u001B[0m \u001B[1m1s\u001B[0m 4ms/step - accuracy: 0.9392 - loss: 0.1611 - val_accuracy: 0.9375 - val_loss: 0.1824\n",
      "Epoch 14/64\n",
      "\u001B[1m113/113\u001B[0m \u001B[32m━━━━━━━━━━━━━━━━━━━━\u001B[0m\u001B[37m\u001B[0m \u001B[1m1s\u001B[0m 4ms/step - accuracy: 0.9299 - loss: 0.1753 - val_accuracy: 0.9225 - val_loss: 0.1920\n",
      "Epoch 15/64\n",
      "\u001B[1m113/113\u001B[0m \u001B[32m━━━━━━━━━━━━━━━━━━━━\u001B[0m\u001B[37m\u001B[0m \u001B[1m1s\u001B[0m 6ms/step - accuracy: 0.9312 - loss: 0.1753 - val_accuracy: 0.9375 - val_loss: 0.1761\n",
      "Epoch 16/64\n",
      "\u001B[1m113/113\u001B[0m \u001B[32m━━━━━━━━━━━━━━━━━━━━\u001B[0m\u001B[37m\u001B[0m \u001B[1m1s\u001B[0m 4ms/step - accuracy: 0.9375 - loss: 0.1718 - val_accuracy: 0.9350 - val_loss: 0.1806\n",
      "Epoch 17/64\n",
      "\u001B[1m113/113\u001B[0m \u001B[32m━━━━━━━━━━━━━━━━━━━━\u001B[0m\u001B[37m\u001B[0m \u001B[1m1s\u001B[0m 4ms/step - accuracy: 0.9324 - loss: 0.1774 - val_accuracy: 0.9400 - val_loss: 0.1761\n",
      "Epoch 18/64\n",
      "\u001B[1m113/113\u001B[0m \u001B[32m━━━━━━━━━━━━━━━━━━━━\u001B[0m\u001B[37m\u001B[0m \u001B[1m0s\u001B[0m 3ms/step - accuracy: 0.9338 - loss: 0.1770 - val_accuracy: 0.9375 - val_loss: 0.1743\n",
      "Epoch 19/64\n",
      "\u001B[1m113/113\u001B[0m \u001B[32m━━━━━━━━━━━━━━━━━━━━\u001B[0m\u001B[37m\u001B[0m \u001B[1m1s\u001B[0m 4ms/step - accuracy: 0.9348 - loss: 0.1680 - val_accuracy: 0.9325 - val_loss: 0.1757\n",
      "Epoch 20/64\n",
      "\u001B[1m113/113\u001B[0m \u001B[32m━━━━━━━━━━━━━━━━━━━━\u001B[0m\u001B[37m\u001B[0m \u001B[1m1s\u001B[0m 4ms/step - accuracy: 0.9322 - loss: 0.1645 - val_accuracy: 0.9275 - val_loss: 0.1904\n",
      "Epoch 21/64\n",
      "\u001B[1m113/113\u001B[0m \u001B[32m━━━━━━━━━━━━━━━━━━━━\u001B[0m\u001B[37m\u001B[0m \u001B[1m1s\u001B[0m 3ms/step - accuracy: 0.9276 - loss: 0.1863 - val_accuracy: 0.9325 - val_loss: 0.1721\n",
      "Epoch 22/64\n",
      "\u001B[1m113/113\u001B[0m \u001B[32m━━━━━━━━━━━━━━━━━━━━\u001B[0m\u001B[37m\u001B[0m \u001B[1m1s\u001B[0m 3ms/step - accuracy: 0.9353 - loss: 0.1736 - val_accuracy: 0.9350 - val_loss: 0.1743\n",
      "Epoch 23/64\n",
      "\u001B[1m113/113\u001B[0m \u001B[32m━━━━━━━━━━━━━━━━━━━━\u001B[0m\u001B[37m\u001B[0m \u001B[1m0s\u001B[0m 4ms/step - accuracy: 0.9370 - loss: 0.1710 - val_accuracy: 0.9350 - val_loss: 0.1746\n",
      "Epoch 24/64\n",
      "\u001B[1m113/113\u001B[0m \u001B[32m━━━━━━━━━━━━━━━━━━━━\u001B[0m\u001B[37m\u001B[0m \u001B[1m0s\u001B[0m 3ms/step - accuracy: 0.9332 - loss: 0.1760 - val_accuracy: 0.9375 - val_loss: 0.1751\n",
      "Epoch 25/64\n",
      "\u001B[1m113/113\u001B[0m \u001B[32m━━━━━━━━━━━━━━━━━━━━\u001B[0m\u001B[37m\u001B[0m \u001B[1m0s\u001B[0m 3ms/step - accuracy: 0.9391 - loss: 0.1638 - val_accuracy: 0.9325 - val_loss: 0.1774\n",
      "Epoch 26/64\n",
      "\u001B[1m113/113\u001B[0m \u001B[32m━━━━━━━━━━━━━━━━━━━━\u001B[0m\u001B[37m\u001B[0m \u001B[1m1s\u001B[0m 3ms/step - accuracy: 0.9363 - loss: 0.1586 - val_accuracy: 0.9150 - val_loss: 0.1997\n",
      "Epoch 27/64\n",
      "\u001B[1m113/113\u001B[0m \u001B[32m━━━━━━━━━━━━━━━━━━━━\u001B[0m\u001B[37m\u001B[0m \u001B[1m1s\u001B[0m 5ms/step - accuracy: 0.9289 - loss: 0.1771 - val_accuracy: 0.9375 - val_loss: 0.1655\n",
      "Epoch 28/64\n",
      "\u001B[1m113/113\u001B[0m \u001B[32m━━━━━━━━━━━━━━━━━━━━\u001B[0m\u001B[37m\u001B[0m \u001B[1m0s\u001B[0m 4ms/step - accuracy: 0.9260 - loss: 0.1825 - val_accuracy: 0.9275 - val_loss: 0.1670\n",
      "Epoch 29/64\n",
      "\u001B[1m113/113\u001B[0m \u001B[32m━━━━━━━━━━━━━━━━━━━━\u001B[0m\u001B[37m\u001B[0m \u001B[1m1s\u001B[0m 3ms/step - accuracy: 0.9358 - loss: 0.1637 - val_accuracy: 0.9300 - val_loss: 0.1699\n",
      "Epoch 30/64\n",
      "\u001B[1m113/113\u001B[0m \u001B[32m━━━━━━━━━━━━━━━━━━━━\u001B[0m\u001B[37m\u001B[0m \u001B[1m0s\u001B[0m 3ms/step - accuracy: 0.9337 - loss: 0.1671 - val_accuracy: 0.9400 - val_loss: 0.1658\n",
      "Epoch 31/64\n",
      "\u001B[1m113/113\u001B[0m \u001B[32m━━━━━━━━━━━━━━━━━━━━\u001B[0m\u001B[37m\u001B[0m \u001B[1m1s\u001B[0m 3ms/step - accuracy: 0.9403 - loss: 0.1542 - val_accuracy: 0.9400 - val_loss: 0.1661\n",
      "Epoch 32/64\n",
      "\u001B[1m113/113\u001B[0m \u001B[32m━━━━━━━━━━━━━━━━━━━━\u001B[0m\u001B[37m\u001B[0m \u001B[1m0s\u001B[0m 4ms/step - accuracy: 0.9415 - loss: 0.1592 - val_accuracy: 0.9300 - val_loss: 0.1778\n",
      "Epoch 33/64\n",
      "\u001B[1m113/113\u001B[0m \u001B[32m━━━━━━━━━━━━━━━━━━━━\u001B[0m\u001B[37m\u001B[0m \u001B[1m0s\u001B[0m 3ms/step - accuracy: 0.9386 - loss: 0.1579 - val_accuracy: 0.9375 - val_loss: 0.1733\n",
      "Epoch 34/64\n",
      "\u001B[1m113/113\u001B[0m \u001B[32m━━━━━━━━━━━━━━━━━━━━\u001B[0m\u001B[37m\u001B[0m \u001B[1m0s\u001B[0m 3ms/step - accuracy: 0.9341 - loss: 0.1657 - val_accuracy: 0.9275 - val_loss: 0.1649\n",
      "Epoch 35/64\n",
      "\u001B[1m113/113\u001B[0m \u001B[32m━━━━━━━━━━━━━━━━━━━━\u001B[0m\u001B[37m\u001B[0m \u001B[1m0s\u001B[0m 3ms/step - accuracy: 0.9348 - loss: 0.1628 - val_accuracy: 0.9375 - val_loss: 0.1658\n",
      "Epoch 36/64\n",
      "\u001B[1m113/113\u001B[0m \u001B[32m━━━━━━━━━━━━━━━━━━━━\u001B[0m\u001B[37m\u001B[0m \u001B[1m1s\u001B[0m 3ms/step - accuracy: 0.9413 - loss: 0.1513 - val_accuracy: 0.9350 - val_loss: 0.1665\n",
      "Epoch 37/64\n",
      "\u001B[1m113/113\u001B[0m \u001B[32m━━━━━━━━━━━━━━━━━━━━\u001B[0m\u001B[37m\u001B[0m \u001B[1m1s\u001B[0m 4ms/step - accuracy: 0.9311 - loss: 0.1682 - val_accuracy: 0.9400 - val_loss: 0.1695\n",
      "Epoch 38/64\n",
      "\u001B[1m113/113\u001B[0m \u001B[32m━━━━━━━━━━━━━━━━━━━━\u001B[0m\u001B[37m\u001B[0m \u001B[1m0s\u001B[0m 4ms/step - accuracy: 0.9454 - loss: 0.1554 - val_accuracy: 0.9375 - val_loss: 0.1699\n",
      "Epoch 39/64\n",
      "\u001B[1m113/113\u001B[0m \u001B[32m━━━━━━━━━━━━━━━━━━━━\u001B[0m\u001B[37m\u001B[0m \u001B[1m0s\u001B[0m 3ms/step - accuracy: 0.9374 - loss: 0.1647 - val_accuracy: 0.9375 - val_loss: 0.1610\n",
      "Epoch 40/64\n",
      "\u001B[1m113/113\u001B[0m \u001B[32m━━━━━━━━━━━━━━━━━━━━\u001B[0m\u001B[37m\u001B[0m \u001B[1m1s\u001B[0m 4ms/step - accuracy: 0.9377 - loss: 0.1639 - val_accuracy: 0.9400 - val_loss: 0.1588\n",
      "Epoch 41/64\n",
      "\u001B[1m113/113\u001B[0m \u001B[32m━━━━━━━━━━━━━━━━━━━━\u001B[0m\u001B[37m\u001B[0m \u001B[1m1s\u001B[0m 6ms/step - accuracy: 0.9382 - loss: 0.1544 - val_accuracy: 0.9375 - val_loss: 0.1693\n",
      "Epoch 42/64\n",
      "\u001B[1m113/113\u001B[0m \u001B[32m━━━━━━━━━━━━━━━━━━━━\u001B[0m\u001B[37m\u001B[0m \u001B[1m1s\u001B[0m 4ms/step - accuracy: 0.9342 - loss: 0.1697 - val_accuracy: 0.9400 - val_loss: 0.1593\n",
      "Epoch 43/64\n",
      "\u001B[1m113/113\u001B[0m \u001B[32m━━━━━━━━━━━━━━━━━━━━\u001B[0m\u001B[37m\u001B[0m \u001B[1m0s\u001B[0m 4ms/step - accuracy: 0.9421 - loss: 0.1480 - val_accuracy: 0.9375 - val_loss: 0.1578\n",
      "Epoch 44/64\n",
      "\u001B[1m113/113\u001B[0m \u001B[32m━━━━━━━━━━━━━━━━━━━━\u001B[0m\u001B[37m\u001B[0m \u001B[1m0s\u001B[0m 3ms/step - accuracy: 0.9389 - loss: 0.1675 - val_accuracy: 0.9425 - val_loss: 0.1577\n",
      "Epoch 45/64\n",
      "\u001B[1m113/113\u001B[0m \u001B[32m━━━━━━━━━━━━━━━━━━━━\u001B[0m\u001B[37m\u001B[0m \u001B[1m1s\u001B[0m 3ms/step - accuracy: 0.9395 - loss: 0.1544 - val_accuracy: 0.9375 - val_loss: 0.1582\n",
      "Epoch 46/64\n",
      "\u001B[1m113/113\u001B[0m \u001B[32m━━━━━━━━━━━━━━━━━━━━\u001B[0m\u001B[37m\u001B[0m \u001B[1m0s\u001B[0m 3ms/step - accuracy: 0.9338 - loss: 0.1695 - val_accuracy: 0.9350 - val_loss: 0.1664\n",
      "Epoch 47/64\n",
      "\u001B[1m113/113\u001B[0m \u001B[32m━━━━━━━━━━━━━━━━━━━━\u001B[0m\u001B[37m\u001B[0m \u001B[1m1s\u001B[0m 3ms/step - accuracy: 0.9358 - loss: 0.1655 - val_accuracy: 0.9425 - val_loss: 0.1564\n",
      "Epoch 48/64\n",
      "\u001B[1m113/113\u001B[0m \u001B[32m━━━━━━━━━━━━━━━━━━━━\u001B[0m\u001B[37m\u001B[0m \u001B[1m0s\u001B[0m 3ms/step - accuracy: 0.9354 - loss: 0.1590 - val_accuracy: 0.9375 - val_loss: 0.1642\n",
      "Epoch 49/64\n",
      "\u001B[1m113/113\u001B[0m \u001B[32m━━━━━━━━━━━━━━━━━━━━\u001B[0m\u001B[37m\u001B[0m \u001B[1m0s\u001B[0m 3ms/step - accuracy: 0.9461 - loss: 0.1492 - val_accuracy: 0.9425 - val_loss: 0.1623\n",
      "Epoch 50/64\n",
      "\u001B[1m113/113\u001B[0m \u001B[32m━━━━━━━━━━━━━━━━━━━━\u001B[0m\u001B[37m\u001B[0m \u001B[1m0s\u001B[0m 3ms/step - accuracy: 0.9407 - loss: 0.1540 - val_accuracy: 0.9425 - val_loss: 0.1545\n",
      "Epoch 51/64\n",
      "\u001B[1m113/113\u001B[0m \u001B[32m━━━━━━━━━━━━━━━━━━━━\u001B[0m\u001B[37m\u001B[0m \u001B[1m1s\u001B[0m 3ms/step - accuracy: 0.9430 - loss: 0.1505 - val_accuracy: 0.9325 - val_loss: 0.1765\n",
      "Epoch 52/64\n",
      "\u001B[1m113/113\u001B[0m \u001B[32m━━━━━━━━━━━━━━━━━━━━\u001B[0m\u001B[37m\u001B[0m \u001B[1m0s\u001B[0m 4ms/step - accuracy: 0.9352 - loss: 0.1640 - val_accuracy: 0.9375 - val_loss: 0.1682\n",
      "Epoch 53/64\n",
      "\u001B[1m113/113\u001B[0m \u001B[32m━━━━━━━━━━━━━━━━━━━━\u001B[0m\u001B[37m\u001B[0m \u001B[1m1s\u001B[0m 3ms/step - accuracy: 0.9373 - loss: 0.1616 - val_accuracy: 0.9325 - val_loss: 0.1665\n",
      "Epoch 54/64\n",
      "\u001B[1m113/113\u001B[0m \u001B[32m━━━━━━━━━━━━━━━━━━━━\u001B[0m\u001B[37m\u001B[0m \u001B[1m1s\u001B[0m 4ms/step - accuracy: 0.9410 - loss: 0.1590 - val_accuracy: 0.9350 - val_loss: 0.1649\n",
      "Epoch 55/64\n",
      "\u001B[1m113/113\u001B[0m \u001B[32m━━━━━━━━━━━━━━━━━━━━\u001B[0m\u001B[37m\u001B[0m \u001B[1m1s\u001B[0m 4ms/step - accuracy: 0.9313 - loss: 0.1684 - val_accuracy: 0.9425 - val_loss: 0.1545\n",
      "Epoch 56/64\n",
      "\u001B[1m113/113\u001B[0m \u001B[32m━━━━━━━━━━━━━━━━━━━━\u001B[0m\u001B[37m\u001B[0m \u001B[1m1s\u001B[0m 4ms/step - accuracy: 0.9393 - loss: 0.1515 - val_accuracy: 0.9425 - val_loss: 0.1533\n",
      "Epoch 57/64\n",
      "\u001B[1m113/113\u001B[0m \u001B[32m━━━━━━━━━━━━━━━━━━━━\u001B[0m\u001B[37m\u001B[0m \u001B[1m1s\u001B[0m 3ms/step - accuracy: 0.9350 - loss: 0.1652 - val_accuracy: 0.9350 - val_loss: 0.1634\n",
      "Epoch 58/64\n",
      "\u001B[1m113/113\u001B[0m \u001B[32m━━━━━━━━━━━━━━━━━━━━\u001B[0m\u001B[37m\u001B[0m \u001B[1m1s\u001B[0m 3ms/step - accuracy: 0.9302 - loss: 0.1742 - val_accuracy: 0.9375 - val_loss: 0.1571\n",
      "Epoch 59/64\n",
      "\u001B[1m113/113\u001B[0m \u001B[32m━━━━━━━━━━━━━━━━━━━━\u001B[0m\u001B[37m\u001B[0m \u001B[1m1s\u001B[0m 3ms/step - accuracy: 0.9340 - loss: 0.1563 - val_accuracy: 0.9400 - val_loss: 0.1563\n",
      "Epoch 60/64\n",
      "\u001B[1m113/113\u001B[0m \u001B[32m━━━━━━━━━━━━━━━━━━━━\u001B[0m\u001B[37m\u001B[0m \u001B[1m0s\u001B[0m 3ms/step - accuracy: 0.9340 - loss: 0.1630 - val_accuracy: 0.9425 - val_loss: 0.1536\n",
      "Epoch 61/64\n",
      "\u001B[1m113/113\u001B[0m \u001B[32m━━━━━━━━━━━━━━━━━━━━\u001B[0m\u001B[37m\u001B[0m \u001B[1m0s\u001B[0m 3ms/step - accuracy: 0.9270 - loss: 0.1726 - val_accuracy: 0.9400 - val_loss: 0.1529\n",
      "Epoch 62/64\n",
      "\u001B[1m113/113\u001B[0m \u001B[32m━━━━━━━━━━━━━━━━━━━━\u001B[0m\u001B[37m\u001B[0m \u001B[1m0s\u001B[0m 3ms/step - accuracy: 0.9450 - loss: 0.1501 - val_accuracy: 0.9350 - val_loss: 0.1526\n",
      "Epoch 63/64\n",
      "\u001B[1m113/113\u001B[0m \u001B[32m━━━━━━━━━━━━━━━━━━━━\u001B[0m\u001B[37m\u001B[0m \u001B[1m0s\u001B[0m 3ms/step - accuracy: 0.9429 - loss: 0.1485 - val_accuracy: 0.9400 - val_loss: 0.1570\n",
      "Epoch 64/64\n",
      "\u001B[1m113/113\u001B[0m \u001B[32m━━━━━━━━━━━━━━━━━━━━\u001B[0m\u001B[37m\u001B[0m \u001B[1m1s\u001B[0m 3ms/step - accuracy: 0.9420 - loss: 0.1542 - val_accuracy: 0.9425 - val_loss: 0.1517\n"
     ]
    }
   ],
   "execution_count": 11
  },
  {
   "metadata": {
    "ExecuteTime": {
     "end_time": "2024-12-19T22:34:53.995553Z",
     "start_time": "2024-12-19T22:34:53.534339Z"
    }
   },
   "cell_type": "code",
   "source": [
    "sns.lineplot(history.history['loss'], label='loss')\n",
    "sns.lineplot(history.history['val_loss'], label='val_loss')"
   ],
   "outputs": [
    {
     "data": {
      "text/plain": [
       "<Axes: >"
      ]
     },
     "execution_count": 12,
     "metadata": {},
     "output_type": "execute_result"
    },
    {
     "data": {
      "text/plain": [
       "<Figure size 640x480 with 1 Axes>"
      ],
      "image/png": "[encoded data removed]"
     },
     "metadata": {},
     "output_type": "display_data"
    }
   ],
   "execution_count": 12
  },
  {
   "metadata": {
    "ExecuteTime": {
     "end_time": "2024-12-19T22:34:57.679563Z",
     "start_time": "2024-12-19T22:34:57.384692Z"
    }
   },
   "cell_type": "code",
   "source": [
    "Y_pred = model.predict(X_test)\n",
    "Y_pred_classes = np.argmax(Y_pred, axis=1)\n",
    "\n",
    "print(classification_report(Y_test, Y_pred_classes))\n",
    "\n",
    "from sklearn.metrics import accuracy_score\n",
    "print(f\"Accuracy: {accuracy_score(Y_test, Y_pred_classes)}\")"
   ],
   "outputs": [
    {
     "name": "stdout",
     "output_type": "stream",
     "text": [
      "\u001B[1m32/32\u001B[0m \u001B[32m━━━━━━━━━━━━━━━━━━━━\u001B[0m\u001B[37m\u001B[0m \u001B[1m0s\u001B[0m 3ms/step\n",
      "              precision    recall  f1-score   support\n",
      "\n",
      "         0.0       1.00      1.00      1.00       409\n",
      "         1.0       0.90      0.85      0.87       111\n",
      "         2.0       0.96      0.94      0.95       294\n",
      "         3.0       0.83      0.88      0.85       186\n",
      "\n",
      "    accuracy                           0.94      1000\n",
      "   macro avg       0.92      0.92      0.92      1000\n",
      "weighted avg       0.94      0.94      0.94      1000\n",
      "\n",
      "Accuracy: 0.941\n"
     ]
    }
   ],
   "execution_count": 13
  },
  {
   "metadata": {},
   "cell_type": "markdown",
   "source": ""
  },
  {
   "metadata": {},
   "cell_type": "markdown",
   "source": "# Model 2"
  },
  {
   "metadata": {
    "ExecuteTime": {
     "end_time": "2024-12-15T13:57:48.676499Z",
     "start_time": "2024-12-15T13:57:48.634498Z"
    }
   },
   "cell_type": "code",
   "source": [
    "model2 = Sequential([\n",
    "    Input(shape=(X.shape[1],)),\n",
    "    Dense(16, activation=\"relu\"), \n",
    "    Dense(4, activation=\"softmax\") \n",
    "])\n",
    "model2.compile(\n",
    "    loss=\"sparse_categorical_crossentropy\",  # for multiclass with Label/Ordinal Encoder\n",
    "    # loss=\"categorical_crossentropy\", # for multiclass with One Hot Encoder\n",
    "    optimizer=\"adam\",\n",
    "    metrics=[\"accuracy\"]\n",
    ")"
   ],
   "outputs": [],
   "execution_count": 49
  },
  {
   "metadata": {
    "ExecuteTime": {
     "end_time": "2024-12-15T13:58:01.036018Z",
     "start_time": "2024-12-15T13:57:49.488881Z"
    }
   },
   "cell_type": "code",
   "source": "history2 = model2.fit(X_train, Y_train, validation_split=0.1, epochs=20, batch_size=32)",
   "outputs": [
    {
     "name": "stdout",
     "output_type": "stream",
     "text": [
      "Epoch 1/20\n",
      "\u001B[1m113/113\u001B[0m \u001B[32m━━━━━━━━━━━━━━━━━━━━\u001B[0m\u001B[37m\u001B[0m \u001B[1m2s\u001B[0m 8ms/step - accuracy: 0.3400 - loss: 1.4451 - val_accuracy: 0.3775 - val_loss: 1.3546\n",
      "Epoch 2/20\n",
      "\u001B[1m113/113\u001B[0m \u001B[32m━━━━━━━━━━━━━━━━━━━━\u001B[0m\u001B[37m\u001B[0m \u001B[1m0s\u001B[0m 3ms/step - accuracy: 0.4315 - loss: 1.3223 - val_accuracy: 0.6125 - val_loss: 1.2578\n",
      "Epoch 3/20\n",
      "\u001B[1m113/113\u001B[0m \u001B[32m━━━━━━━━━━━━━━━━━━━━\u001B[0m\u001B[37m\u001B[0m \u001B[1m0s\u001B[0m 3ms/step - accuracy: 0.6117 - loss: 1.2006 - val_accuracy: 0.5725 - val_loss: 1.1019\n",
      "Epoch 4/20\n",
      "\u001B[1m113/113\u001B[0m \u001B[32m━━━━━━━━━━━━━━━━━━━━\u001B[0m\u001B[37m\u001B[0m \u001B[1m1s\u001B[0m 6ms/step - accuracy: 0.6288 - loss: 1.0427 - val_accuracy: 0.6925 - val_loss: 0.9389\n",
      "Epoch 5/20\n",
      "\u001B[1m113/113\u001B[0m \u001B[32m━━━━━━━━━━━━━━━━━━━━\u001B[0m\u001B[37m\u001B[0m \u001B[1m0s\u001B[0m 3ms/step - accuracy: 0.7291 - loss: 0.8675 - val_accuracy: 0.7675 - val_loss: 0.8099\n",
      "Epoch 6/20\n",
      "\u001B[1m113/113\u001B[0m \u001B[32m━━━━━━━━━━━━━━━━━━━━\u001B[0m\u001B[37m\u001B[0m \u001B[1m1s\u001B[0m 3ms/step - accuracy: 0.7916 - loss: 0.7530 - val_accuracy: 0.8075 - val_loss: 0.7174\n",
      "Epoch 7/20\n",
      "\u001B[1m113/113\u001B[0m \u001B[32m━━━━━━━━━━━━━━━━━━━━\u001B[0m\u001B[37m\u001B[0m \u001B[1m0s\u001B[0m 3ms/step - accuracy: 0.8139 - loss: 0.6796 - val_accuracy: 0.8175 - val_loss: 0.6501\n",
      "Epoch 8/20\n",
      "\u001B[1m113/113\u001B[0m \u001B[32m━━━━━━━━━━━━━━━━━━━━\u001B[0m\u001B[37m\u001B[0m \u001B[1m0s\u001B[0m 3ms/step - accuracy: 0.8435 - loss: 0.6071 - val_accuracy: 0.8225 - val_loss: 0.5952\n",
      "Epoch 9/20\n",
      "\u001B[1m113/113\u001B[0m \u001B[32m━━━━━━━━━━━━━━━━━━━━\u001B[0m\u001B[37m\u001B[0m \u001B[1m1s\u001B[0m 4ms/step - accuracy: 0.8547 - loss: 0.5666 - val_accuracy: 0.8600 - val_loss: 0.5491\n",
      "Epoch 10/20\n",
      "\u001B[1m113/113\u001B[0m \u001B[32m━━━━━━━━━━━━━━━━━━━━\u001B[0m\u001B[37m\u001B[0m \u001B[1m0s\u001B[0m 4ms/step - accuracy: 0.8641 - loss: 0.5188 - val_accuracy: 0.8725 - val_loss: 0.5105\n",
      "Epoch 11/20\n",
      "\u001B[1m113/113\u001B[0m \u001B[32m━━━━━━━━━━━━━━━━━━━━\u001B[0m\u001B[37m\u001B[0m \u001B[1m1s\u001B[0m 4ms/step - accuracy: 0.8851 - loss: 0.4897 - val_accuracy: 0.8700 - val_loss: 0.4799\n",
      "Epoch 12/20\n",
      "\u001B[1m113/113\u001B[0m \u001B[32m━━━━━━━━━━━━━━━━━━━━\u001B[0m\u001B[37m\u001B[0m \u001B[1m1s\u001B[0m 4ms/step - accuracy: 0.9011 - loss: 0.4383 - val_accuracy: 0.8725 - val_loss: 0.4510\n",
      "Epoch 13/20\n",
      "\u001B[1m113/113\u001B[0m \u001B[32m━━━━━━━━━━━━━━━━━━━━\u001B[0m\u001B[37m\u001B[0m \u001B[1m0s\u001B[0m 4ms/step - accuracy: 0.8942 - loss: 0.4191 - val_accuracy: 0.8800 - val_loss: 0.4286\n",
      "Epoch 14/20\n",
      "\u001B[1m113/113\u001B[0m \u001B[32m━━━━━━━━━━━━━━━━━━━━\u001B[0m\u001B[37m\u001B[0m \u001B[1m0s\u001B[0m 3ms/step - accuracy: 0.8971 - loss: 0.4096 - val_accuracy: 0.8925 - val_loss: 0.4033\n",
      "Epoch 15/20\n",
      "\u001B[1m113/113\u001B[0m \u001B[32m━━━━━━━━━━━━━━━━━━━━\u001B[0m\u001B[37m\u001B[0m \u001B[1m0s\u001B[0m 3ms/step - accuracy: 0.9068 - loss: 0.3784 - val_accuracy: 0.8975 - val_loss: 0.3846\n",
      "Epoch 16/20\n",
      "\u001B[1m113/113\u001B[0m \u001B[32m━━━━━━━━━━━━━━━━━━━━\u001B[0m\u001B[37m\u001B[0m \u001B[1m0s\u001B[0m 3ms/step - accuracy: 0.9178 - loss: 0.3615 - val_accuracy: 0.9025 - val_loss: 0.3693\n",
      "Epoch 17/20\n",
      "\u001B[1m113/113\u001B[0m \u001B[32m━━━━━━━━━━━━━━━━━━━━\u001B[0m\u001B[37m\u001B[0m \u001B[1m1s\u001B[0m 4ms/step - accuracy: 0.9102 - loss: 0.3515 - val_accuracy: 0.8975 - val_loss: 0.3544\n",
      "Epoch 18/20\n",
      "\u001B[1m113/113\u001B[0m \u001B[32m━━━━━━━━━━━━━━━━━━━━\u001B[0m\u001B[37m\u001B[0m \u001B[1m0s\u001B[0m 3ms/step - accuracy: 0.9160 - loss: 0.3266 - val_accuracy: 0.9025 - val_loss: 0.3399\n",
      "Epoch 19/20\n",
      "\u001B[1m113/113\u001B[0m \u001B[32m━━━━━━━━━━━━━━━━━━━━\u001B[0m\u001B[37m\u001B[0m \u001B[1m0s\u001B[0m 3ms/step - accuracy: 0.9201 - loss: 0.3188 - val_accuracy: 0.9025 - val_loss: 0.3302\n",
      "Epoch 20/20\n",
      "\u001B[1m113/113\u001B[0m \u001B[32m━━━━━━━━━━━━━━━━━━━━\u001B[0m\u001B[37m\u001B[0m \u001B[1m1s\u001B[0m 3ms/step - accuracy: 0.9203 - loss: 0.2979 - val_accuracy: 0.9125 - val_loss: 0.3180\n"
     ]
    }
   ],
   "execution_count": 50
  },
  {
   "metadata": {
    "ExecuteTime": {
     "end_time": "2024-12-15T13:58:04.414736Z",
     "start_time": "2024-12-15T13:58:04.147834Z"
    }
   },
   "cell_type": "code",
   "source": [
    "Y_pred2 = model2.predict(X_test)\n",
    "Y_pred_classes2 = np.argmax(Y_pred2, axis=1) \n",
    "\n",
    "print(classification_report(Y_test, Y_pred_classes2))\n",
    "\n",
    "from sklearn.metrics import accuracy_score\n",
    "print(f\"Accuracy: {accuracy_score(Y_test, Y_pred_classes2)}\")"
   ],
   "outputs": [
    {
     "name": "stdout",
     "output_type": "stream",
     "text": [
      "\u001B[1m32/32\u001B[0m \u001B[32m━━━━━━━━━━━━━━━━━━━━\u001B[0m\u001B[37m\u001B[0m \u001B[1m0s\u001B[0m 4ms/step\n",
      "              precision    recall  f1-score   support\n",
      "\n",
      "         0.0       0.99      1.00      0.99       409\n",
      "         1.0       0.91      0.67      0.77       111\n",
      "         2.0       0.93      0.94      0.93       294\n",
      "         3.0       0.75      0.85      0.80       186\n",
      "\n",
      "    accuracy                           0.92      1000\n",
      "   macro avg       0.90      0.86      0.87      1000\n",
      "weighted avg       0.92      0.92      0.92      1000\n",
      "\n",
      "Accuracy: 0.916\n"
     ]
    }
   ],
   "execution_count": 51
  },
  {
   "metadata": {},
   "cell_type": "code",
   "outputs": [],
   "execution_count": null,
   "source": ""
  },
  {
   "metadata": {},
   "cell_type": "markdown",
   "source": ""
  },
  {
   "metadata": {},
   "cell_type": "markdown",
   "source": "# Model 3"
  },
  {
   "metadata": {
    "ExecuteTime": {
     "end_time": "2024-12-15T13:58:27.292483Z",
     "start_time": "2024-12-15T13:58:27.225480Z"
    }
   },
   "cell_type": "code",
   "source": [
    "model3 = Sequential([\n",
    "    Input(shape=(X.shape[1],)),\n",
    "    Dense(128, activation=\"relu\"), \n",
    "    Dropout(0.3),                  \n",
    "    Dense(64, activation=\"tanh\"),\n",
    "    Dense(32, activation=\"relu\"),\n",
    "    Dense(4, activation=\"softmax\")\n",
    "])\n",
    "model3.compile(\n",
    "    loss=\"sparse_categorical_crossentropy\",  # # for multiclass with Label/Ordinal Encoder\n",
    "    # loss=\"categorical_crossentropy\", # for multiclass with One Hot Encoder\n",
    "    optimizer=\"adam\",\n",
    "    metrics=[\"accuracy\"]\n",
    ")"
   ],
   "outputs": [],
   "execution_count": 52
  },
  {
   "metadata": {
    "ExecuteTime": {
     "end_time": "2024-12-15T13:58:45.295380Z",
     "start_time": "2024-12-15T13:58:34.406194Z"
    }
   },
   "cell_type": "code",
   "source": "history3 = model3.fit(X_train, Y_train, validation_split=0.2, epochs=20, batch_size=32)",
   "outputs": [
    {
     "name": "stdout",
     "output_type": "stream",
     "text": [
      "Epoch 1/20\n",
      "\u001B[1m100/100\u001B[0m \u001B[32m━━━━━━━━━━━━━━━━━━━━\u001B[0m\u001B[37m\u001B[0m \u001B[1m3s\u001B[0m 6ms/step - accuracy: 0.5239 - loss: 1.1122 - val_accuracy: 0.8075 - val_loss: 0.4680\n",
      "Epoch 2/20\n",
      "\u001B[1m100/100\u001B[0m \u001B[32m━━━━━━━━━━━━━━━━━━━━\u001B[0m\u001B[37m\u001B[0m \u001B[1m0s\u001B[0m 3ms/step - accuracy: 0.8348 - loss: 0.4193 - val_accuracy: 0.8750 - val_loss: 0.3156\n",
      "Epoch 3/20\n",
      "\u001B[1m100/100\u001B[0m \u001B[32m━━━━━━━━━━━━━━━━━━━━\u001B[0m\u001B[37m\u001B[0m \u001B[1m1s\u001B[0m 3ms/step - accuracy: 0.8796 - loss: 0.3228 - val_accuracy: 0.8975 - val_loss: 0.2588\n",
      "Epoch 4/20\n",
      "\u001B[1m100/100\u001B[0m \u001B[32m━━━━━━━━━━━━━━━━━━━━\u001B[0m\u001B[37m\u001B[0m \u001B[1m0s\u001B[0m 3ms/step - accuracy: 0.8981 - loss: 0.2736 - val_accuracy: 0.9013 - val_loss: 0.2454\n",
      "Epoch 5/20\n",
      "\u001B[1m100/100\u001B[0m \u001B[32m━━━━━━━━━━━━━━━━━━━━\u001B[0m\u001B[37m\u001B[0m \u001B[1m0s\u001B[0m 3ms/step - accuracy: 0.9057 - loss: 0.2493 - val_accuracy: 0.8963 - val_loss: 0.2505\n",
      "Epoch 6/20\n",
      "\u001B[1m100/100\u001B[0m \u001B[32m━━━━━━━━━━━━━━━━━━━━\u001B[0m\u001B[37m\u001B[0m \u001B[1m0s\u001B[0m 3ms/step - accuracy: 0.9256 - loss: 0.2158 - val_accuracy: 0.9187 - val_loss: 0.2033\n",
      "Epoch 7/20\n",
      "\u001B[1m100/100\u001B[0m \u001B[32m━━━━━━━━━━━━━━━━━━━━\u001B[0m\u001B[37m\u001B[0m \u001B[1m0s\u001B[0m 4ms/step - accuracy: 0.9113 - loss: 0.2248 - val_accuracy: 0.9075 - val_loss: 0.2173\n",
      "Epoch 8/20\n",
      "\u001B[1m100/100\u001B[0m \u001B[32m━━━━━━━━━━━━━━━━━━━━\u001B[0m\u001B[37m\u001B[0m \u001B[1m0s\u001B[0m 3ms/step - accuracy: 0.9171 - loss: 0.2036 - val_accuracy: 0.9312 - val_loss: 0.1876\n",
      "Epoch 9/20\n",
      "\u001B[1m100/100\u001B[0m \u001B[32m━━━━━━━━━━━━━━━━━━━━\u001B[0m\u001B[37m\u001B[0m \u001B[1m0s\u001B[0m 3ms/step - accuracy: 0.9134 - loss: 0.2182 - val_accuracy: 0.9225 - val_loss: 0.1934\n",
      "Epoch 10/20\n",
      "\u001B[1m100/100\u001B[0m \u001B[32m━━━━━━━━━━━━━━━━━━━━\u001B[0m\u001B[37m\u001B[0m \u001B[1m0s\u001B[0m 3ms/step - accuracy: 0.9222 - loss: 0.1974 - val_accuracy: 0.9350 - val_loss: 0.1813\n",
      "Epoch 11/20\n",
      "\u001B[1m100/100\u001B[0m \u001B[32m━━━━━━━━━━━━━━━━━━━━\u001B[0m\u001B[37m\u001B[0m \u001B[1m0s\u001B[0m 3ms/step - accuracy: 0.9219 - loss: 0.1835 - val_accuracy: 0.9287 - val_loss: 0.1797\n",
      "Epoch 12/20\n",
      "\u001B[1m100/100\u001B[0m \u001B[32m━━━━━━━━━━━━━━━━━━━━\u001B[0m\u001B[37m\u001B[0m \u001B[1m0s\u001B[0m 3ms/step - accuracy: 0.9312 - loss: 0.1851 - val_accuracy: 0.9175 - val_loss: 0.1880\n",
      "Epoch 13/20\n",
      "\u001B[1m100/100\u001B[0m \u001B[32m━━━━━━━━━━━━━━━━━━━━\u001B[0m\u001B[37m\u001B[0m \u001B[1m0s\u001B[0m 3ms/step - accuracy: 0.9292 - loss: 0.1850 - val_accuracy: 0.9325 - val_loss: 0.1757\n",
      "Epoch 14/20\n",
      "\u001B[1m100/100\u001B[0m \u001B[32m━━━━━━━━━━━━━━━━━━━━\u001B[0m\u001B[37m\u001B[0m \u001B[1m0s\u001B[0m 3ms/step - accuracy: 0.9217 - loss: 0.1958 - val_accuracy: 0.9013 - val_loss: 0.2236\n",
      "Epoch 15/20\n",
      "\u001B[1m100/100\u001B[0m \u001B[32m━━━━━━━━━━━━━━━━━━━━\u001B[0m\u001B[37m\u001B[0m \u001B[1m0s\u001B[0m 4ms/step - accuracy: 0.9234 - loss: 0.1922 - val_accuracy: 0.9362 - val_loss: 0.1672\n",
      "Epoch 16/20\n",
      "\u001B[1m100/100\u001B[0m \u001B[32m━━━━━━━━━━━━━━━━━━━━\u001B[0m\u001B[37m\u001B[0m \u001B[1m1s\u001B[0m 4ms/step - accuracy: 0.9279 - loss: 0.1788 - val_accuracy: 0.9325 - val_loss: 0.1727\n",
      "Epoch 17/20\n",
      "\u001B[1m100/100\u001B[0m \u001B[32m━━━━━━━━━━━━━━━━━━━━\u001B[0m\u001B[37m\u001B[0m \u001B[1m1s\u001B[0m 4ms/step - accuracy: 0.9350 - loss: 0.1791 - val_accuracy: 0.9175 - val_loss: 0.1883\n",
      "Epoch 18/20\n",
      "\u001B[1m100/100\u001B[0m \u001B[32m━━━━━━━━━━━━━━━━━━━━\u001B[0m\u001B[37m\u001B[0m \u001B[1m0s\u001B[0m 3ms/step - accuracy: 0.9271 - loss: 0.1863 - val_accuracy: 0.9125 - val_loss: 0.2039\n",
      "Epoch 19/20\n",
      "\u001B[1m100/100\u001B[0m \u001B[32m━━━━━━━━━━━━━━━━━━━━\u001B[0m\u001B[37m\u001B[0m \u001B[1m0s\u001B[0m 3ms/step - accuracy: 0.9282 - loss: 0.1820 - val_accuracy: 0.9350 - val_loss: 0.1642\n",
      "Epoch 20/20\n",
      "\u001B[1m100/100\u001B[0m \u001B[32m━━━━━━━━━━━━━━━━━━━━\u001B[0m\u001B[37m\u001B[0m \u001B[1m1s\u001B[0m 3ms/step - accuracy: 0.9347 - loss: 0.1590 - val_accuracy: 0.9325 - val_loss: 0.1682\n"
     ]
    }
   ],
   "execution_count": 53
  },
  {
   "metadata": {
    "ExecuteTime": {
     "end_time": "2024-12-15T13:58:47.174358Z",
     "start_time": "2024-12-15T13:58:46.898272Z"
    }
   },
   "cell_type": "code",
   "source": [
    "Y_pred3 = model3.predict(X_test)\n",
    "Y_pred_classes3 = np.argmax(Y_pred3, axis=1)  \n",
    "\n",
    "print(classification_report(Y_test, Y_pred_classes3))\n",
    "\n",
    "from sklearn.metrics import accuracy_score\n",
    "print(f\"Accuracy: {accuracy_score(Y_test, Y_pred_classes3)}\")"
   ],
   "outputs": [
    {
     "name": "stdout",
     "output_type": "stream",
     "text": [
      "\u001B[1m32/32\u001B[0m \u001B[32m━━━━━━━━━━━━━━━━━━━━\u001B[0m\u001B[37m\u001B[0m \u001B[1m0s\u001B[0m 3ms/step\n",
      "              precision    recall  f1-score   support\n",
      "\n",
      "         0.0       1.00      1.00      1.00       409\n",
      "         1.0       0.92      0.76      0.83       111\n",
      "         2.0       0.96      0.97      0.96       294\n",
      "         3.0       0.82      0.89      0.85       186\n",
      "\n",
      "    accuracy                           0.94      1000\n",
      "   macro avg       0.92      0.90      0.91      1000\n",
      "weighted avg       0.94      0.94      0.94      1000\n",
      "\n",
      "Accuracy: 0.943\n"
     ]
    }
   ],
   "execution_count": 54
  },
  {
   "metadata": {},
   "cell_type": "code",
   "outputs": [],
   "execution_count": null,
   "source": ""
  }
 ]
}

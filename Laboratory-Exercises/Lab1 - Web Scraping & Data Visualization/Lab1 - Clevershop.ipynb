{
 "cells": [
  {
   "cell_type": "code",
   "id": "initial_id",
   "metadata": {
    "collapsed": true,
    "ExecuteTime": {
     "end_time": "2024-10-29T20:01:11.049561Z",
     "start_time": "2024-10-29T20:01:10.075725Z"
    }
   },
   "source": [
    "import requests\n",
    "from bs4 import BeautifulSoup\n",
    "import pandas as pd"
   ],
   "outputs": [],
   "execution_count": 2
  },
  {
   "metadata": {
    "ExecuteTime": {
     "end_time": "2024-10-26T17:00:55.548255Z",
     "start_time": "2024-10-26T17:00:55.536910Z"
    }
   },
   "cell_type": "code",
   "source": "base_url = \"https://clevershop.mk/product-category/mobilni-laptopi-i-tableti/\"",
   "id": "3ffc874280bc7398",
   "outputs": [],
   "execution_count": 79
  },
  {
   "metadata": {
    "ExecuteTime": {
     "end_time": "2024-10-26T17:00:57.871718Z",
     "start_time": "2024-10-26T17:00:57.524341Z"
    }
   },
   "cell_type": "code",
   "source": "response = requests.get(base_url)",
   "id": "f85dacdda7f9f1fe",
   "outputs": [],
   "execution_count": 80
  },
  {
   "metadata": {
    "ExecuteTime": {
     "end_time": "2024-10-26T16:11:44.388505Z",
     "start_time": "2024-10-26T16:11:44.374963Z"
    }
   },
   "cell_type": "code",
   "source": "response.status_code",
   "id": "8122c88c752484c5",
   "outputs": [
    {
     "data": {
      "text/plain": [
       "200"
      ]
     },
     "execution_count": 4,
     "metadata": {},
     "output_type": "execute_result"
    }
   ],
   "execution_count": 4
  },
  {
   "metadata": {
    "ExecuteTime": {
     "end_time": "2024-10-26T16:11:58.656271Z",
     "start_time": "2024-10-26T16:11:58.533736Z"
    }
   },
   "cell_type": "code",
   "source": "soup = BeautifulSoup(response.text, 'html.parser')",
   "id": "e8ccdbbf8f6a1930",
   "outputs": [],
   "execution_count": 5
  },
  {
   "metadata": {
    "ExecuteTime": {
     "end_time": "2024-10-26T17:02:55.210944Z",
     "start_time": "2024-10-26T17:02:55.157942Z"
    }
   },
   "cell_type": "code",
   "source": [
    "products = soup.select(\".product\")\n",
    "product = products[2]"
   ],
   "id": "53971acfdbe2bff4",
   "outputs": [],
   "execution_count": 81
  },
  {
   "metadata": {
    "ExecuteTime": {
     "end_time": "2024-10-26T16:52:47.685700Z",
     "start_time": "2024-10-26T16:52:47.674426Z"
    }
   },
   "cell_type": "code",
   "source": [
    "name = product.select_one(\".wd-entities-title a\").text\n",
    "prices = product.select(\".woocommerce-Price-amount bdi\")\n",
    "regular_price = prices[0].text.replace('\\xa0', '').replace(\"ден\", \"\")\n",
    "discount_price = regular_price\n",
    "if(len(prices) == 2):\n",
    "    discount_price = prices[1].text.replace('\\xa0', '').replace(\"ден\", \"\")\n",
    "    \n",
    "url_product_page = product.select_one(\".wd-entities-title > a\").attrs[\"href\"]\n",
    "url_add_to_cart = product.select_one(\".wd-add-btn > a\").attrs[\"href\"]  \n"
   ],
   "id": "4fda664711cf99a",
   "outputs": [],
   "execution_count": 62
  },
  {
   "metadata": {
    "ExecuteTime": {
     "end_time": "2024-10-26T17:09:56.058550Z",
     "start_time": "2024-10-26T17:09:56.035897Z"
    }
   },
   "cell_type": "code",
   "source": [
    "def extract_product_info(product, url):\n",
    "    name = product.select_one(\".wd-entities-title a\").text\n",
    "    prices = product.select(\".woocommerce-Price-amount bdi\")\n",
    "    regular_price = (prices[0].text.replace('\\xa0', '')\n",
    "                     .replace(\"ден\", \"\")\n",
    "                     .replace(\".\", \"\"))    \n",
    "    discount_price = 0\n",
    "    if(len(prices) == 2):\n",
    "        discount_price = (prices[1].text.replace('\\xa0', '')\n",
    "                          .replace(\"ден\", \"\")\n",
    "                          .replace(\".\", \"\"))        \n",
    "    \n",
    "    url_product_page = product.select_one(\".wd-entities-title > a\").attrs[\"href\"]\n",
    "    url_add_to_cart = url +\"\"+ product.select_one(\".wd-add-btn > a\").attrs[\"href\"]\n",
    "    \n",
    "    product_dict = {\n",
    "        \"ProductName\": name,\n",
    "        \"RegularPrice\": regular_price,\n",
    "        \"DiscountPrice\": discount_price,\n",
    "        \"UrlProductPage\": url_product_page,\n",
    "        \"UrlAddToCart\": url_add_to_cart        \n",
    "    }\n",
    "    \n",
    "    return product_dict"
   ],
   "id": "ebc33a48c9b0feca",
   "outputs": [],
   "execution_count": 91
  },
  {
   "metadata": {
    "ExecuteTime": {
     "end_time": "2024-10-26T16:59:56.719333Z",
     "start_time": "2024-10-26T16:59:56.666337Z"
    }
   },
   "cell_type": "code",
   "source": [
    "product_pages = soup.select(\".wd-pagination .page-numbers li\")\n",
    "product_pages = product_pages[len(product_pages)-2].select_one(\"a\").text\n",
    "product_pages"
   ],
   "id": "3b7e269c118084a9",
   "outputs": [
    {
     "data": {
      "text/plain": [
       "'14'"
      ]
     },
     "execution_count": 78,
     "metadata": {},
     "output_type": "execute_result"
    }
   ],
   "execution_count": 78
  },
  {
   "metadata": {
    "ExecuteTime": {
     "end_time": "2024-10-26T17:11:47.515353Z",
     "start_time": "2024-10-26T17:11:40.125328Z"
    }
   },
   "cell_type": "code",
   "source": [
    "all_products = []\n",
    "for i in range(1, int(product_pages)+1):\n",
    "    url = base_url + \"page/\" + str(i)\n",
    "    response = requests.get(url)\n",
    "    soup = BeautifulSoup(response.text, 'html.parser')\n",
    "    products = soup.select(\".product\")\n",
    "    for product in products:\n",
    "        result = extract_product_info(product, url)\n",
    "        all_products.append(result)"
   ],
   "id": "1e797abbf014ba7",
   "outputs": [],
   "execution_count": 97
  },
  {
   "metadata": {
    "ExecuteTime": {
     "end_time": "2024-10-26T17:13:06.237767Z",
     "start_time": "2024-10-26T17:13:06.207767Z"
    }
   },
   "cell_type": "code",
   "source": [
    "all_products_df = pd.DataFrame(all_products)\n",
    "all_products_df"
   ],
   "id": "a9f43354646337dd",
   "outputs": [
    {
     "data": {
      "text/plain": [
       "                                           ProductName RegularPrice  \\\n",
       "0                                    Acer A315-23-A7KD        17590   \n",
       "1                                    Acer A315-23-R5P2        27490   \n",
       "2                                ACER Aspire 1 A115-22        18999   \n",
       "3                           Acer Aspire 3 A315-23-R26A        29990   \n",
       "4                           Acer Aspire 3 A315-58-33WK        24490   \n",
       "..                                                 ...          ...   \n",
       "315        Monitor 27 Philips 272E1GAJ/00 VA 1ms 144Hz        12890   \n",
       "316                              Philips 24″ 243V7QDSB         8390   \n",
       "317                   Philips 27″ 278E1A/00 4K UHD IPS        18990   \n",
       "318  Philips 279C9-00 MON LED 27″ 3840 x 2160 5Ms 6...        26990   \n",
       "319                      Xiaomi Redmi AirDots Wireless          990   \n",
       "\n",
       "    DiscountPrice                                     UrlProductPage  \\\n",
       "0               0   https://clevershop.mk/product/acer-a315-23-a7kd/   \n",
       "1               0   https://clevershop.mk/product/acer-a315-23-r5p2/   \n",
       "2           15999  https://clevershop.mk/product/acer-aspire-1-nx...   \n",
       "3               0  https://clevershop.mk/product/acer-aspire-3-a3...   \n",
       "4               0               https://clevershop.mk/product/21498/   \n",
       "..            ...                                                ...   \n",
       "315             0  https://clevershop.mk/product/monitor-27-phili...   \n",
       "316             0  https://clevershop.mk/product/philips-24%e2%80...   \n",
       "317             0  https://clevershop.mk/product/hp-27%e2%80%b3-2...   \n",
       "318             0  https://clevershop.mk/product/philips-279c9-00...   \n",
       "319             0    https://clevershop.mk/product/redmi-headphones/   \n",
       "\n",
       "                                          UrlAddToCart  \n",
       "0    https://clevershop.mk/product-category/mobilni...  \n",
       "1    https://clevershop.mk/product-category/mobilni...  \n",
       "2    https://clevershop.mk/product-category/mobilni...  \n",
       "3    https://clevershop.mk/product-category/mobilni...  \n",
       "4    https://clevershop.mk/product-category/mobilni...  \n",
       "..                                                 ...  \n",
       "315  https://clevershop.mk/product-category/mobilni...  \n",
       "316  https://clevershop.mk/product-category/mobilni...  \n",
       "317  https://clevershop.mk/product-category/mobilni...  \n",
       "318  https://clevershop.mk/product-category/mobilni...  \n",
       "319  https://clevershop.mk/product-category/mobilni...  \n",
       "\n",
       "[320 rows x 5 columns]"
      ],
      "text/html": [
       "<div>\n",
       "<style scoped>\n",
       "    .dataframe tbody tr th:only-of-type {\n",
       "        vertical-align: middle;\n",
       "    }\n",
       "\n",
       "    .dataframe tbody tr th {\n",
       "        vertical-align: top;\n",
       "    }\n",
       "\n",
       "    .dataframe thead th {\n",
       "        text-align: right;\n",
       "    }\n",
       "</style>\n",
       "<table border=\"1\" class=\"dataframe\">\n",
       "  <thead>\n",
       "    <tr style=\"text-align: right;\">\n",
       "      <th></th>\n",
       "      <th>ProductName</th>\n",
       "      <th>RegularPrice</th>\n",
       "      <th>DiscountPrice</th>\n",
       "      <th>UrlProductPage</th>\n",
       "      <th>UrlAddToCart</th>\n",
       "    </tr>\n",
       "  </thead>\n",
       "  <tbody>\n",
       "    <tr>\n",
       "      <th>0</th>\n",
       "      <td>Acer A315-23-A7KD</td>\n",
       "      <td>17590</td>\n",
       "      <td>0</td>\n",
       "      <td>https://clevershop.mk/product/acer-a315-23-a7kd/</td>\n",
       "      <td>https://clevershop.mk/product-category/mobilni...</td>\n",
       "    </tr>\n",
       "    <tr>\n",
       "      <th>1</th>\n",
       "      <td>Acer A315-23-R5P2</td>\n",
       "      <td>27490</td>\n",
       "      <td>0</td>\n",
       "      <td>https://clevershop.mk/product/acer-a315-23-r5p2/</td>\n",
       "      <td>https://clevershop.mk/product-category/mobilni...</td>\n",
       "    </tr>\n",
       "    <tr>\n",
       "      <th>2</th>\n",
       "      <td>ACER Aspire 1 A115-22</td>\n",
       "      <td>18999</td>\n",
       "      <td>15999</td>\n",
       "      <td>https://clevershop.mk/product/acer-aspire-1-nx...</td>\n",
       "      <td>https://clevershop.mk/product-category/mobilni...</td>\n",
       "    </tr>\n",
       "    <tr>\n",
       "      <th>3</th>\n",
       "      <td>Acer Aspire 3 A315-23-R26A</td>\n",
       "      <td>29990</td>\n",
       "      <td>0</td>\n",
       "      <td>https://clevershop.mk/product/acer-aspire-3-a3...</td>\n",
       "      <td>https://clevershop.mk/product-category/mobilni...</td>\n",
       "    </tr>\n",
       "    <tr>\n",
       "      <th>4</th>\n",
       "      <td>Acer Aspire 3 A315-58-33WK</td>\n",
       "      <td>24490</td>\n",
       "      <td>0</td>\n",
       "      <td>https://clevershop.mk/product/21498/</td>\n",
       "      <td>https://clevershop.mk/product-category/mobilni...</td>\n",
       "    </tr>\n",
       "    <tr>\n",
       "      <th>...</th>\n",
       "      <td>...</td>\n",
       "      <td>...</td>\n",
       "      <td>...</td>\n",
       "      <td>...</td>\n",
       "      <td>...</td>\n",
       "    </tr>\n",
       "    <tr>\n",
       "      <th>315</th>\n",
       "      <td>Monitor 27 Philips 272E1GAJ/00 VA 1ms 144Hz</td>\n",
       "      <td>12890</td>\n",
       "      <td>0</td>\n",
       "      <td>https://clevershop.mk/product/monitor-27-phili...</td>\n",
       "      <td>https://clevershop.mk/product-category/mobilni...</td>\n",
       "    </tr>\n",
       "    <tr>\n",
       "      <th>316</th>\n",
       "      <td>Philips 24″ 243V7QDSB</td>\n",
       "      <td>8390</td>\n",
       "      <td>0</td>\n",
       "      <td>https://clevershop.mk/product/philips-24%e2%80...</td>\n",
       "      <td>https://clevershop.mk/product-category/mobilni...</td>\n",
       "    </tr>\n",
       "    <tr>\n",
       "      <th>317</th>\n",
       "      <td>Philips 27″ 278E1A/00 4K UHD IPS</td>\n",
       "      <td>18990</td>\n",
       "      <td>0</td>\n",
       "      <td>https://clevershop.mk/product/hp-27%e2%80%b3-2...</td>\n",
       "      <td>https://clevershop.mk/product-category/mobilni...</td>\n",
       "    </tr>\n",
       "    <tr>\n",
       "      <th>318</th>\n",
       "      <td>Philips 279C9-00 MON LED 27″ 3840 x 2160 5Ms 6...</td>\n",
       "      <td>26990</td>\n",
       "      <td>0</td>\n",
       "      <td>https://clevershop.mk/product/philips-279c9-00...</td>\n",
       "      <td>https://clevershop.mk/product-category/mobilni...</td>\n",
       "    </tr>\n",
       "    <tr>\n",
       "      <th>319</th>\n",
       "      <td>Xiaomi Redmi AirDots Wireless</td>\n",
       "      <td>990</td>\n",
       "      <td>0</td>\n",
       "      <td>https://clevershop.mk/product/redmi-headphones/</td>\n",
       "      <td>https://clevershop.mk/product-category/mobilni...</td>\n",
       "    </tr>\n",
       "  </tbody>\n",
       "</table>\n",
       "<p>320 rows × 5 columns</p>\n",
       "</div>"
      ]
     },
     "execution_count": 101,
     "metadata": {},
     "output_type": "execute_result"
    }
   ],
   "execution_count": 101
  },
  {
   "metadata": {
    "ExecuteTime": {
     "end_time": "2024-10-26T17:15:54.974632Z",
     "start_time": "2024-10-26T17:15:54.952619Z"
    }
   },
   "cell_type": "code",
   "source": "all_products_df.to_csv(\"./data/clevershop_products.csv\", index=False)",
   "id": "c9faeb68f73cb14b",
   "outputs": [],
   "execution_count": 105
  },
  {
   "metadata": {
    "ExecuteTime": {
     "end_time": "2024-10-26T17:53:40.155074Z",
     "start_time": "2024-10-26T17:53:40.123078Z"
    }
   },
   "cell_type": "code",
   "source": "all_products_df.isnull().sum()",
   "id": "bf75f7c6e196913",
   "outputs": [
    {
     "data": {
      "text/plain": [
       "ProductName       0\n",
       "RegularPrice      0\n",
       "DiscountPrice     0\n",
       "UrlProductPage    0\n",
       "UrlAddToCart      0\n",
       "dtype: int64"
      ]
     },
     "execution_count": 106,
     "metadata": {},
     "output_type": "execute_result"
    }
   ],
   "execution_count": 106
  },
  {
   "metadata": {
    "ExecuteTime": {
     "end_time": "2024-10-29T20:00:51.705468Z",
     "start_time": "2024-10-29T20:00:49.401768Z"
    }
   },
   "cell_type": "code",
   "source": "",
   "id": "f6d153124516dfb6",
   "outputs": [
    {
     "ename": "NameError",
     "evalue": "name 'pd' is not defined",
     "output_type": "error",
     "traceback": [
      "\u001B[1;31m---------------------------------------------------------------------------\u001B[0m",
      "\u001B[1;31mNameError\u001B[0m                                 Traceback (most recent call last)",
      "Cell \u001B[1;32mIn[1], line 1\u001B[0m\n\u001B[1;32m----> 1\u001B[0m data \u001B[38;5;241m=\u001B[39m \u001B[43mpd\u001B[49m\u001B[38;5;241m.\u001B[39mread_csv(\u001B[38;5;124m\"\u001B[39m\u001B[38;5;124m./test.csv\u001B[39m\u001B[38;5;124m\"\u001B[39m)\n\u001B[0;32m      2\u001B[0m data\n",
      "\u001B[1;31mNameError\u001B[0m: name 'pd' is not defined"
     ]
    }
   ],
   "execution_count": 1
  },
  {
   "metadata": {},
   "cell_type": "code",
   "outputs": [],
   "execution_count": null,
   "source": "",
   "id": "9195180ae2096d89"
  }
 ],
 "metadata": {
  "kernelspec": {
   "display_name": "Python 3",
   "language": "python",
   "name": "python3"
  },
  "language_info": {
   "codemirror_mode": {
    "name": "ipython",
    "version": 2
   },
   "file_extension": ".py",
   "mimetype": "text/x-python",
   "name": "python",
   "nbconvert_exporter": "python",
   "pygments_lexer": "ipython2",
   "version": "2.7.6"
  }
 },
 "nbformat": 4,
 "nbformat_minor": 5
}
